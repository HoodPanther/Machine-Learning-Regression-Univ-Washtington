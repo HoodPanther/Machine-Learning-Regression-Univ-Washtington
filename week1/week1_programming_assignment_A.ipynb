{
 "cells": [
  {
   "cell_type": "markdown",
   "metadata": {},
   "source": [
    "working for programming assignment\n",
    "https://www.coursera.org/learn/ml-regression/supplement/z0Uef/reading-fitting-a-simple-linear-regression-model-on-housing-data"
   ]
  },
  {
   "cell_type": "code",
   "execution_count": 1,
   "metadata": {
    "collapsed": true
   },
   "outputs": [],
   "source": [
    "import graphlab"
   ]
  },
  {
   "cell_type": "code",
   "execution_count": 2,
   "metadata": {
    "collapsed": false
   },
   "outputs": [
    {
     "name": "stdout",
     "output_type": "stream",
     "text": [
      "This non-commercial license of GraphLab Create for academic use is assigned to bmatthewtaylor@gmail.com and will expire on October 27, 2017.\n"
     ]
    },
    {
     "name": "stderr",
     "output_type": "stream",
     "text": [
      "[INFO] graphlab.cython.cy_server: GraphLab Create v2.1 started. Logging: C:\\Users\\username\\AppData\\Local\\Temp\\graphlab_server_1481257452.log.0\n"
     ]
    },
    {
     "name": "stdout",
     "output_type": "stream",
     "text": [
      "<class 'graphlab.data_structures.sframe.SFrame'>\n"
     ]
    }
   ],
   "source": [
    "houseData = graphlab.SFrame('../data/kc_house_data.gl/')\n",
    "print type(houseData)"
   ]
  },
  {
   "cell_type": "code",
   "execution_count": 5,
   "metadata": {
    "collapsed": false
   },
   "outputs": [
    {
     "name": "stdout",
     "output_type": "stream",
     "text": [
      "train_data.shape =  (17384, 21)\n",
      "test_data.shape =  (4229, 21)\n"
     ]
    }
   ],
   "source": [
    "train_data,test_data = houseData.random_split(.8,seed=0)\n",
    "print \"train_data.shape = \", train_data.shape\n",
    "print \"test_data.shape = \", test_data.shape"
   ]
  },
  {
   "cell_type": "code",
   "execution_count": 8,
   "metadata": {
    "collapsed": false
   },
   "outputs": [
    {
     "name": "stdout",
     "output_type": "stream",
     "text": [
      "['id', 'date', 'price', 'bedrooms', 'bathrooms', 'sqft_living', 'sqft_lot', 'floors', 'waterfront', 'view', 'condition', 'grade', 'sqft_above', 'sqft_basement', 'yr_built', 'yr_renovated', 'zipcode', 'lat', 'long', 'sqft_living15', 'sqft_lot15']\n"
     ]
    }
   ],
   "source": [
    "#print train_data.head(2)\n",
    "print train_data.column_names()"
   ]
  },
  {
   "cell_type": "markdown",
   "metadata": {},
   "source": [
    "3. Write a generic function that accepts a column of data (e.g, an SArray) ‘input_feature’ and another column ‘output’ and returns the Simple Linear Regression parameters ‘intercept’ and ‘slope’. Use the closed form solution from lecture to calculate the slope and intercept."
   ]
  },
  {
   "cell_type": "code",
   "execution_count": 26,
   "metadata": {
    "collapsed": false
   },
   "outputs": [],
   "source": [
    "def simple_linear_regression(input_feature, output):\n",
    "    \"\"\"\n",
    "    Fits intercept and slope using closed form solution in lectures\n",
    "    output = input_feature x slope + intercept\n",
    "    \"\"\"\n",
    "    numerator = 0\n",
    "    sumXY = 0\n",
    "    sumX = 0\n",
    "    sumY = 0\n",
    "    sumXX = 0\n",
    "    N = len(input_feature)\n",
    "    print \"len(input_feature) = \", len(input_feature), \", len(input_feature) = \", len(input_feature)\n",
    "    print \"calculating sumX, sumY, sumXY, sum XX, long loop.\"\n",
    "    for i in range(N):\n",
    "        sumXY += input_feature[i] * output[i]\n",
    "        sumX += input_feature[i]\n",
    "        sumY += output[i]\n",
    "        sumXX += input_feature[i]*input_feature[i]\n",
    "    print \"N=\", N, \", sumXY = \", sumXY, \", sumX = \", sumX, \", sumY = \", sumY, \", sumXX = \", sumXX\n",
    "    #numerator = (sum of X*Y) - (1/N)*((sum of X) * (sum of Y))\n",
    "    numerator = sumXY - (1./N)*(sumX*sumY)\n",
    "    #denominator = (sum of X^2) - (1/N)*((sum of X) * (sum of X))\n",
    "    denominator = sumXX - (1./N)*(sumX*sumX)\n",
    "\n",
    "    #print type(numerator), \"numerator = \", numerator\n",
    "    #print type(denominator), \"denominator = \", denominator\n",
    "    slope = numerator / denominator\n",
    "    #print \"slope = \", slope\n",
    "    \n",
    "    meanY = sumY*1./N\n",
    "    meanX = sumX*1./N\n",
    "    #print \"meanX = \", meanX\n",
    "    #print \"meanY = \", meanY\n",
    "    intercept = meanY - meanX*slope\n",
    "    #print \"intercept = \", intercept\n",
    "\n",
    "    #[your code here]\n",
    "    #intercept = 0 \n",
    "    #slope = 0\n",
    "    return(intercept, slope)"
   ]
  },
  {
   "cell_type": "code",
   "execution_count": 27,
   "metadata": {
    "collapsed": false
   },
   "outputs": [
    {
     "name": "stdout",
     "output_type": "stream",
     "text": [
      "len(input_feature) =  17384 , len(input_feature) =  17384\n",
      "calculating sumX, sumY, sumXY, sum XX, long loop.\n",
      "N= 17384 , sumXY =  2.36662568479e+13 , sumX =  36159233.0 , sumY =  9376349465.0 , sumXX =  89977452623.0\n",
      "intercept =  -47116.0765749 , slope =  281.958838568\n"
     ]
    }
   ],
   "source": [
    "input_feature = train_data['sqft_living']\n",
    "output = train_data['price']\n",
    "intercept, slope = simple_linear_regression(input_feature, output)\n",
    "print \"intercept = \", intercept, \", slope = \", slope"
   ]
  },
  {
   "cell_type": "code",
   "execution_count": 20,
   "metadata": {
    "collapsed": false
   },
   "outputs": [
    {
     "data": {
      "application/javascript": [
       "$(\"head\").append($(\"<link/>\").attr({\n",
       "  rel:  \"stylesheet\",\n",
       "  type: \"text/css\",\n",
       "  href: \"//cdnjs.cloudflare.com/ajax/libs/font-awesome/4.1.0/css/font-awesome.min.css\"\n",
       "}));\n",
       "$(\"head\").append($(\"<link/>\").attr({\n",
       "  rel:  \"stylesheet\",\n",
       "  type: \"text/css\",\n",
       "  href: \"https://static.turi.com/products/graphlab-create/2.1/canvas/css/canvas.css\"\n",
       "}));\n",
       "\n",
       "            (function(){\n",
       "\n",
       "                var e = null;\n",
       "                if (typeof element == 'undefined') {\n",
       "                    var scripts = document.getElementsByTagName('script');\n",
       "                    var thisScriptTag = scripts[scripts.length-1];\n",
       "                    var parentDiv = thisScriptTag.parentNode;\n",
       "                    e = document.createElement('div');\n",
       "                    parentDiv.appendChild(e);\n",
       "                } else {\n",
       "                    e = element[0];\n",
       "                }\n",
       "\n",
       "                if (typeof requirejs !== 'undefined') {\n",
       "                    // disable load timeout; ipython_app.js is large and can take a while to load.\n",
       "                    requirejs.config({waitSeconds: 0});\n",
       "                }\n",
       "\n",
       "                require(['https://static.turi.com/products/graphlab-create/2.1/canvas/js/ipython_app.js'], function(IPythonApp){\n",
       "                    var app = new IPythonApp();\n",
       "                    app.attachView('sframe','Plots', {\"selected_variable\": {\"name\": [\"train_data\"], \"descriptives\": {\"rows\": 17384, \"columns\": 21}, \"view_component\": \"Plots\", \"view_file\": \"sframe\", \"view_params\": {\"y\": \"price\", \"x\": \"sqft_living\", \"columns\": [\"id\", \"date\", \"price\", \"bedrooms\", \"bathrooms\", \"sqft_living\", \"sqft_lot\", \"floors\", \"waterfront\", \"view\", \"condition\", \"grade\", \"sqft_above\", \"sqft_basement\", \"yr_built\", \"yr_renovated\", \"zipcode\", \"lat\", \"long\", \"sqft_living15\", \"sqft_lot15\"], \"view\": \"Scatter Plot\"}, \"view_components\": [\"Summary\", \"Table\", \"Bar Chart\", \"BoxWhisker Plot\", \"Line Chart\", \"Scatter Plot\", \"Heat Map\", \"Plots\"], \"type\": \"SFrame\", \"columns\": [{\"dtype\": \"str\", \"name\": \"id\"}, {\"dtype\": \"datetime\", \"name\": \"date\"}, {\"dtype\": \"float\", \"name\": \"price\"}, {\"dtype\": \"float\", \"name\": \"bedrooms\"}, {\"dtype\": \"float\", \"name\": \"bathrooms\"}, {\"dtype\": \"float\", \"name\": \"sqft_living\"}, {\"dtype\": \"int\", \"name\": \"sqft_lot\"}, {\"dtype\": \"str\", \"name\": \"floors\"}, {\"dtype\": \"int\", \"name\": \"waterfront\"}, {\"dtype\": \"int\", \"name\": \"view\"}, {\"dtype\": \"int\", \"name\": \"condition\"}, {\"dtype\": \"int\", \"name\": \"grade\"}, {\"dtype\": \"int\", \"name\": \"sqft_above\"}, {\"dtype\": \"int\", \"name\": \"sqft_basement\"}, {\"dtype\": \"int\", \"name\": \"yr_built\"}, {\"dtype\": \"int\", \"name\": \"yr_renovated\"}, {\"dtype\": \"str\", \"name\": \"zipcode\"}, {\"dtype\": \"float\", \"name\": \"lat\"}, {\"dtype\": \"float\", \"name\": \"long\"}, {\"dtype\": \"float\", \"name\": \"sqft_living15\"}, {\"dtype\": \"float\", \"name\": \"sqft_lot15\"}], \"column_identifiers\": [\"bathrooms\", \"sqft_living15\", \"sqft_above\", \"grade\", \"yr_built\", \"price\", \"bedrooms\", \"zipcode\", \"long\", \"id\", \"sqft_lot15\", \"sqft_living\", \"floors\", \"sqft_lot\", \"date\", \"waterfront\", \"sqft_basement\", \"yr_renovated\", \"lat\", \"condition\", \"view\"]}, \"complete\": 1, \"ipython\": true, \"progress\": 1.0, \"data\": [[2130.0, 316000.0], [2570.0, 538000.0], [2780.0, 479950.0], [2850.0, 875000.0], [2250.0, 729000.0], [2630.0, 731688.0], [1000.0, 199000.0], [1990.0, 450000.0], [1270.0, 320000.0], [1680.0, 572000.0], [3130.0, 565000.0], [1760.0, 270000.0], [2330.0, 465000.0], [1120.0, 252000.0], [910.0, 600000.0], [1740.0, 585000.0], [2000.0, 415000.0], [1110.0, 365000.0], [1800.0, 958000.0], [3050.0, 2000000.0], [2160.0, 820000.0], [2190.0, 320000.0], [1430.0, 450000.0], [3550.0, 659950.0], [1690.0, 591500.0], [1830.0, 360000.0], [2020.0, 346500.0], [2050.0, 273000.0], [2330.0, 687500.0], [1481.0, 250000.0], [2130.0, 779000.0], [1050.0, 515000.0], [1710.0, 515000.0], [1810.0, 430000.0], [700.0, 330000.0], [1980.0, 350000.0], [980.0, 390000.0], [1280.0, 309000.0], [1330.0, 300000.0], [2960.0, 849000.0], [3830.0, 865000.0], [1811.0, 260000.0], [2510.0, 1185000.0], [1520.0, 269950.0], [3150.0, 345000.0], [1630.0, 234000.0], [1990.0, 450000.0], [1530.0, 450000.0], [1200.0, 408000.0], [1590.0, 263000.0], [1600.0, 370000.0], [1660.0, 225000.0], [1870.0, 350500.0], [1630.0, 550000.0], [2030.0, 253779.0], [2780.0, 325000.0], [1900.0, 550000.0], [1769.0, 334888.0], [4280.0, 1900000.0], [820.0, 295000.0], [3200.0, 1325000.0], [1530.0, 546000.0], [2270.0, 526750.0], [1510.0, 450000.0], [1610.0, 269950.0], [860.0, 198000.0], [2360.0, 550000.0], [1410.0, 410000.0], [2780.0, 995000.0], [1320.0, 425000.0], [1400.0, 294450.0], [4370.0, 1500000.0], [2190.0, 625000.0], [1630.0, 497000.0], [1340.0, 450000.0], [1350.0, 499950.0], [2640.0, 436000.0], [700.0, 380000.0], [2600.0, 444500.0], [2495.0, 267000.0], [2140.0, 362950.0], [2850.0, 360000.0], [3810.0, 966000.0], [770.0, 205000.0], [2580.0, 650000.0], [3530.0, 910000.0], [2350.0, 430000.0], [840.0, 232000.0], [3470.0, 772000.0], [3520.0, 1500000.0], [1140.0, 230000.0], [2360.0, 1300000.0], [1180.0, 425000.0], [2520.0, 896000.0], [3002.0, 394500.0], [1160.0, 182000.0], [800.0, 335950.0], [1570.0, 240000.0], [1450.0, 526000.0], [1570.0, 415000.0], [880.0, 416000.0], [3420.0, 855000.0], [1960.0, 605000.0], [4080.0, 1285000.0], [3300.0, 765000.0], [4150.0, 3065000.0], [1370.0, 235000.0], [3190.0, 862000.0], [1740.0, 452000.0], [1510.0, 390000.0], [3240.0, 612995.0], [4420.0, 925000.0], [1170.0, 250000.0], [1600.0, 350000.0], [1050.0, 630000.0], [1020.0, 364000.0], [1440.0, 487000.0], [3190.0, 1650000.0], [1660.0, 780000.0], [2280.0, 557000.0], [2080.0, 325000.0], [1190.0, 382500.0], [2270.0, 332000.0], [1610.0, 205000.0], [2850.0, 550000.0], [1640.0, 480000.0], [2040.0, 300000.0], [2330.0, 950000.0], [1980.0, 524000.0], [1430.0, 355000.0], [1110.0, 560000.0], [5180.0, 2250000.0], [2870.0, 765000.0], [2240.0, 650000.0], [2730.0, 678000.0], [1550.0, 510000.0], [580.0, 330600.0], [2780.0, 439950.0], [620.0, 425000.0], [1130.0, 322500.0], [3160.0, 848750.0], [1580.0, 370000.0], [990.0, 219950.0], [1740.0, 329950.0], [2910.0, 485000.0], [1470.0, 254600.0], [2030.0, 565000.0], [2280.0, 718000.0], [2180.0, 750000.0], [1610.0, 218000.0], [1320.0, 410000.0], [2040.0, 443500.0], [1770.0, 355000.0], [2880.0, 614000.0], [980.0, 393000.0], [1560.0, 549000.0], [1410.0, 465000.0], [2210.0, 314000.0], [2000.0, 602000.0], [3200.0, 515000.0], [1200.0, 165000.0], [1030.0, 310000.0], [2100.0, 277950.0], [2970.0, 1565000.0], [3600.0, 1112500.0], [3090.0, 1170000.0], [1690.0, 256883.0], [1110.0, 371000.0], [2330.0, 1150000.0], [3860.0, 430000.0], [2230.0, 464950.0], [1280.0, 350000.0], [1770.0, 712500.0], [3400.0, 828200.0], [970.0, 215000.0], [1390.0, 469000.0], [4083.0, 637000.0], [1730.0, 317500.0], [1290.0, 205000.0], [3060.0, 520000.0], [1889.0, 277950.0], [2790.0, 865000.0], [1640.0, 350000.0], [1210.0, 440000.0], [1220.0, 201000.0], [1970.0, 405000.0], [3350.0, 740000.0], [920.0, 412133.0], [700.0, 208000.0], [1630.0, 412500.0], [1450.0, 309000.0], [1430.0, 235000.0], [1480.0, 516500.0], [1470.0, 239000.0], [3860.0, 1500000.0], [1320.0, 268950.0], [2530.0, 700000.0], [2640.0, 387990.0], [4300.0, 600000.0], [3176.0, 819000.0], [1880.0, 585000.0], [4410.0, 472000.0], [1510.0, 500000.0], [2440.0, 675000.0], [3430.0, 515000.0], [1910.0, 323000.0], [1650.0, 440000.0], [1570.0, 359950.0], [1360.0, 335000.0], [2130.0, 305000.0], [3940.0, 725000.0], [4110.0, 1450000.0], [1910.0, 340000.0], [2300.0, 450000.0], [3920.0, 1650000.0], [2040.0, 749000.0], [1240.0, 425000.0], [2020.0, 560000.0], [1230.0, 255000.0], [2460.0, 1370000.0], [1570.0, 252000.0], [3470.0, 994000.0], [1090.0, 249000.0], [1110.0, 222900.0], [730.0, 395000.0], [3040.0, 420000.0], [2070.0, 272500.0], [5050.0, 2900000.0], [1880.0, 545000.0], [1040.0, 343000.0], [3410.0, 545000.0], [1380.0, 365000.0], [3040.0, 830000.0], [1410.0, 445000.0], [1550.0, 249950.0], [840.0, 124500.0], [2250.0, 792000.0], [1430.0, 545000.0], [2500.0, 467000.0], [2720.0, 740000.0], [3430.0, 1010000.0], [1640.0, 560000.0], [2260.0, 459000.0], [1970.0, 262000.0], [3000.0, 585000.0], [1450.0, 274950.0], [1300.0, 675000.0], [1800.0, 418500.0], [3090.0, 458000.0], [3140.0, 920000.0], [2920.0, 1738000.0], [1910.0, 299000.0], [3490.0, 830000.0], [1170.0, 285950.0], [4250.0, 1810000.0], [1260.0, 188200.0], [2460.0, 620000.0], [1740.0, 455000.0], [2890.0, 1072500.0], [3400.0, 745000.0], [960.0, 365000.0], [1250.0, 358000.0], [3310.0, 680000.0], [1494.0, 650000.0], [800.0, 268750.0], [2460.0, 693000.0], [3680.0, 935000.0], [1870.0, 289950.0], [2510.0, 571000.0], [2630.0, 631000.0], [1390.0, 288790.0], [4450.0, 845950.0], [1130.0, 411000.0], [4060.0, 1175000.0], [980.0, 144000.0], [2340.0, 645000.0], [1740.0, 245000.0], [2230.0, 333700.0], [2560.0, 350000.0], [1800.0, 749950.0], [1640.0, 226500.0], [5110.0, 650000.0], [1850.0, 550000.0], [2660.0, 603500.0], [3370.0, 760000.0], [1740.0, 255000.0], [2780.0, 475000.0], [1470.0, 379770.0], [1160.0, 375000.0], [3110.0, 367500.0], [2820.0, 893880.0], [1820.0, 385000.0], [1270.0, 455000.0], [1600.0, 356000.0], [2060.0, 417500.0], [1500.0, 185000.0], [1570.0, 530000.0], [3520.0, 795000.0], [2030.0, 595000.0], [1150.0, 463000.0], [2140.0, 393000.0], [1750.0, 234000.0], [1410.0, 517950.0], [4170.0, 810000.0], [2990.0, 500000.0], [890.0, 153500.0], [870.0, 199950.0], [2130.0, 389000.0], [2160.0, 798750.0], [3160.0, 795000.0], [1320.0, 425000.0], [1300.0, 245100.0], [2220.0, 825000.0], [1670.0, 631000.0], [1690.0, 464550.0], [4670.0, 2450000.0], [3420.0, 715000.0], [3160.0, 1250000.0], [1810.0, 487500.0], [1530.0, 526000.0], [1340.0, 415000.0], [4133.0, 979500.0], [2717.0, 338500.0], [2030.0, 562500.0], [2344.0, 355000.0], [1810.0, 300000.0], [2120.0, 330000.0], [2830.0, 533000.0], [1440.0, 500000.0], [1590.0, 465000.0], [1400.0, 425000.0], [1640.0, 349950.0], [2040.0, 449500.0], [3010.0, 659950.0], [1980.0, 279000.0], [810.0, 215000.0], [1460.0, 240000.0], [1900.0, 557500.0], [2190.0, 310000.0], [820.0, 489950.0], [1300.0, 237000.0], [2880.0, 450000.0], [760.0, 167500.0], [1390.0, 354000.0], [1340.0, 397000.0], [490.0, 150000.0], [1620.0, 800000.0], [1360.0, 290000.0], [1830.0, 182500.0], [3190.0, 865000.0], [1122.0, 185000.0], [1420.0, 641000.0], [2120.0, 340000.0], [3000.0, 675000.0], [2820.0, 960000.0], [880.0, 218000.0], [1600.0, 265000.0], [1230.0, 270000.0], [3650.0, 1280000.0], [2990.0, 644500.0], [2830.0, 614000.0], [3060.0, 753000.0], [2260.0, 496500.0], [1550.0, 259000.0], [2730.0, 435000.0], [1660.0, 490000.0], [3320.0, 409124.0], [2970.0, 699000.0], [3110.0, 588000.0], [1480.0, 275000.0], [1980.0, 580000.0], [3180.0, 1315000.0], [1780.0, 325000.0], [1690.0, 345000.0], [3361.0, 511000.0], [1830.0, 284000.0], [1470.0, 399950.0], [2360.0, 600000.0], [1820.0, 505000.0], [2080.0, 420000.0], [1700.0, 378500.0], [700.0, 200000.0], [2120.0, 835000.0], [3800.0, 894000.0], [2980.0, 850000.0], [1530.0, 379000.0], [3180.0, 1115000.0], [1450.0, 380000.0], [2850.0, 700000.0], [1270.0, 260000.0], [1330.0, 440000.0], [1890.0, 575000.0], [1740.0, 450000.0], [3390.0, 495000.0], [3960.0, 1395713.0], [1830.0, 638000.0], [2340.0, 535000.0], [2510.0, 880000.0], [1400.0, 343000.0], [2740.0, 438900.0], [1610.0, 925000.0], [1250.0, 219000.0], [2790.0, 459000.0], [1140.0, 234000.0], [2410.0, 330000.0], [2040.0, 289950.0], [3160.0, 693000.0], [1680.0, 530000.0], [1930.0, 465000.0], [3440.0, 853000.0], [1180.0, 455000.0], [1430.0, 397500.0], [1790.0, 416000.0], [1370.0, 288000.0], [1560.0, 226500.0], [1850.0, 303000.0], [2800.0, 325000.0], [1610.0, 235000.0], [1410.0, 700000.0], [1820.0, 425000.0], [1840.0, 404000.0], [1140.0, 903000.0], [3370.0, 813000.0], [1510.0, 489000.0], [1320.0, 594000.0], [1970.0, 315000.0], [1160.0, 317000.0], [2790.0, 288000.0], [2120.0, 375000.0], [2830.0, 527000.0], [2380.0, 782000.0], [2963.0, 325000.0], [2300.0, 315000.0], [1990.0, 470000.0], [3753.0, 363000.0], [2060.0, 395000.0], [2540.0, 620000.0], [1950.0, 255000.0], [2920.0, 1015000.0], [2500.0, 330000.0], [720.0, 184500.0], [1430.0, 265000.0], [2510.0, 825000.0], [3600.0, 620000.0], [2760.0, 424950.0], [790.0, 399000.0], [2390.0, 1200000.0], [4720.0, 1525000.0], [2470.0, 525000.0], [2670.0, 347000.0], [2350.0, 339000.0], [2360.0, 390000.0], [2850.0, 670000.0], [1940.0, 266000.0], [1770.0, 350000.0], [1240.0, 221000.0], [1030.0, 397000.0], [1540.0, 550000.0], [1820.0, 264000.0], [2980.0, 750000.0], [1420.0, 268500.0], [1950.0, 275000.0], [1570.0, 325000.0], [2520.0, 449888.0], [2110.0, 370000.0], [1870.0, 325000.0], [1740.0, 269900.0], [750.0, 292500.0], [2230.0, 635000.0], [3750.0, 782500.0], [2330.0, 585000.0], [1720.0, 248500.0], [5305.0, 2700000.0], [1300.0, 315500.0], [1200.0, 225205.0], [1650.0, 622000.0], [3550.0, 469000.0], [1270.0, 531000.0], [3880.0, 430000.0], [2110.0, 298700.0], [2820.0, 625000.0], [2980.0, 825000.0], [1760.0, 387000.0], [1870.0, 293000.0], [2200.0, 580000.0], [2220.0, 607500.0], [2060.0, 348140.0], [3080.0, 455000.0], [1370.0, 525000.0], [1870.0, 455000.0], [1800.0, 436000.0], [1500.0, 418000.0], [1350.0, 281000.0], [1850.0, 400000.0], [720.0, 403000.0], [2760.0, 600000.0], [1384.0, 575000.0], [2300.0, 342000.0], [1400.0, 299000.0], [1860.0, 588000.0], [1920.0, 674000.0], [2690.0, 650000.0], [2240.0, 439000.0], [1200.0, 214000.0], [3250.0, 580000.0], [2490.0, 635000.0], [770.0, 217000.0], [1810.0, 450000.0], [1380.0, 375000.0], [2360.0, 430000.0], [1940.0, 555000.0], [1480.0, 235000.0], [2580.0, 650000.0], [1680.0, 265000.0], [2150.0, 378000.0], [2470.0, 338000.0], [1520.0, 279000.0], [1140.0, 695000.0], [1850.0, 374000.0], [2240.0, 590000.0], [1720.0, 389700.0], [970.0, 204995.0], [1500.0, 294900.0], [2110.0, 385000.0], [1320.0, 285000.0], [2020.0, 320000.0], [750.0, 435000.0], [2530.0, 417838.0], [1740.0, 545000.0], [3160.0, 1250000.0], [2320.0, 325900.0], [2510.0, 664000.0], [1510.0, 248000.0], [2060.0, 800000.0], [2230.0, 426000.0], [3890.0, 2250000.0], [2090.0, 478500.0], [1970.0, 360000.0], [3680.0, 909000.0], [3240.0, 1065000.0], [1230.0, 400000.0], [2050.0, 613200.0], [2150.0, 486000.0], [2010.0, 660000.0], [2190.0, 345000.0], [2180.0, 607010.0], [590.0, 398000.0], [1480.0, 336500.0], [3200.0, 851500.0], [1880.0, 310000.0], [710.0, 480000.0], [1990.0, 280000.0], [1200.0, 260000.0], [1320.0, 529000.0], [1150.0, 265950.0], [2070.0, 310000.0], [1910.0, 425000.0], [3080.0, 1125000.0], [1970.0, 590000.0], [4300.0, 593500.0], [1530.0, 440000.0], [5760.0, 2880500.0], [2050.0, 761000.0], [2020.0, 444950.0], [2370.0, 687000.0], [1840.0, 275000.0], [2190.0, 269100.0], [870.0, 240000.0], [1280.0, 240000.0], [2660.0, 730000.0], [1690.0, 259900.0], [2350.0, 800000.0], [2030.0, 335000.0], [2420.0, 525000.0], [2000.0, 275000.0], [1780.0, 342000.0], [3490.0, 1225000.0], [1870.0, 375000.0], [3830.0, 679975.0], [2760.0, 847093.0], [1130.0, 280005.0], [3470.0, 475000.0], [4230.0, 2700000.0], [800.0, 350000.0], [2070.0, 465000.0], [2300.0, 287000.0], [2630.0, 583000.0], [1960.0, 480000.0], [2170.0, 449950.0], [2210.0, 767500.0], [1650.0, 364000.0], [1710.0, 539000.0], [2900.0, 799950.0], [5860.0, 2400000.0], [1370.0, 850000.0], [2280.0, 383000.0], [1670.0, 246950.0], [1710.0, 543000.0], [1170.0, 335000.0], [1610.0, 485000.0], [1040.0, 382500.0], [920.0, 265000.0], [3000.0, 666000.0], [1460.0, 312000.0], [2430.0, 760000.0], [2190.0, 1100000.0], [1310.0, 200000.0], [1936.0, 338900.0], [1980.0, 550000.0], [2560.0, 565000.0], [1860.0, 385000.0], [2200.0, 410000.0], [820.0, 265000.0], [2200.0, 460000.0], [2700.0, 898000.0], [2600.0, 515000.0], [2000.0, 715000.0], [2360.0, 290000.0], [2650.0, 705000.0], [1050.0, 473000.0], [5130.0, 1599950.0], [2390.0, 345000.0], [2910.0, 410000.0], [1070.0, 325000.0], [1990.0, 450000.0], [2890.0, 1570000.0], [840.0, 175000.0], [2020.0, 542000.0], [2310.0, 527500.0], [2080.0, 442000.0], [1340.0, 650000.0], [1890.0, 750000.0], [1420.0, 355000.0], [1610.0, 215000.0], [2100.0, 750000.0], [2390.0, 565000.0], [1450.0, 521500.0], [3510.0, 948000.0], [900.0, 201000.0], [1830.0, 270000.0], [2070.0, 645000.0], [2330.0, 650000.0], [2770.0, 652427.0], [2760.0, 682000.0], [2290.0, 359950.0], [2050.0, 439500.0], [2470.0, 1325000.0], [1980.0, 309000.0], [3340.0, 637850.0], [910.0, 245000.0], [1650.0, 273000.0], [2140.0, 780000.0], [2620.0, 695000.0], [2120.0, 518500.0], [1540.0, 384950.0], [1910.0, 595000.0], [2700.0, 950000.0], [1320.0, 409950.0], [2130.0, 360000.0], [1460.0, 430000.0], [2180.0, 580000.0], [2520.0, 680000.0], [1170.0, 562500.0], [1720.0, 935000.0], [1660.0, 300000.0], [2130.0, 620000.0], [760.0, 110000.0], [1540.0, 450000.0], [2130.0, 482975.0], [1760.0, 449900.0], [3100.0, 905000.0], [2340.0, 597000.0], [2420.0, 1100000.0], [1180.0, 342400.0], [1450.0, 274000.0], [1630.0, 185850.0], [3240.0, 789500.0], [1250.0, 450000.0], [770.0, 257000.0], [1080.0, 874950.0], [1870.0, 475000.0], [2080.0, 285000.0], [1060.0, 395350.0], [2270.0, 585000.0], [1710.0, 675000.0], [1900.0, 200000.0], [3990.0, 610000.0], [3010.0, 600000.0], [2210.0, 426000.0], [2000.0, 515000.0], [2120.0, 369160.0], [1850.0, 485000.0], [2640.0, 930000.0], [1810.0, 216000.0], [2680.0, 777000.0], [1210.0, 465000.0], [1690.0, 349000.0], [2440.0, 631625.0], [1090.0, 417000.0], [2200.0, 425000.0], [1360.0, 399500.0], [3350.0, 720500.0], [1490.0, 578500.0], [2010.0, 875000.0], [1420.0, 147200.0], [1120.0, 549995.0], [1650.0, 369500.0], [1580.0, 410000.0], [1470.0, 415000.0], [1370.0, 222000.0], [1510.0, 226000.0], [780.0, 380000.0], [1030.0, 252500.0], [2030.0, 389000.0], [1140.0, 400000.0], [580.0, 220000.0], [1654.0, 314950.0], [1690.0, 535000.0], [2720.0, 460000.0], [1750.0, 240000.0], [1850.0, 299000.0], [1010.0, 450000.0], [2040.0, 350000.0], [2750.0, 730000.0], [1700.0, 334500.0], [1300.0, 325000.0], [1590.0, 247200.0], [2380.0, 365650.0], [960.0, 200000.0], [2240.0, 530000.0], [2220.0, 480000.0], [1790.0, 695000.0], [1520.0, 460000.0], [1410.0, 301500.0], [2450.0, 340000.0], [1502.0, 403000.0], [2350.0, 339100.0], [2260.0, 675000.0], [1640.0, 669000.0], [2350.0, 875000.0], [1390.0, 267000.0], [2470.0, 630000.0], [1660.0, 315000.0], [1250.0, 318000.0], [3760.0, 1150000.0], [2500.0, 417000.0], [3810.0, 752000.0], [960.0, 500000.0], [4150.0, 1206688.0], [1500.0, 290000.0], [2130.0, 700000.0], [2170.0, 745000.0], [2130.0, 725000.0], [800.0, 250000.0], [1470.0, 228800.0], [1960.0, 363000.0], [2270.0, 615000.0], [1451.0, 300000.0], [2110.0, 243500.0], [1120.0, 225000.0], [2250.0, 624800.0], [3240.0, 625000.0], [2330.0, 639900.0], [3040.0, 735000.0], [1370.0, 357000.0], [2720.0, 1020000.0], [2160.0, 475000.0], [1650.0, 259500.0], [2190.0, 385000.0], [2550.0, 582800.0], [3180.0, 585000.0], [1340.0, 230000.0], [1970.0, 780000.0], [860.0, 580000.0], [2520.0, 689950.0], [1900.0, 257000.0], [1600.0, 292000.0], [2540.0, 660000.0], [1260.0, 499000.0], [1350.0, 300000.0], [2640.0, 530000.0], [890.0, 180000.0], [2860.0, 750000.0], [1250.0, 500000.0], [1670.0, 985000.0], [1240.0, 459000.0], [1070.0, 579100.0], [3090.0, 659000.0], [1330.0, 218000.0], [1280.0, 355000.0], [2380.0, 420000.0], [1150.0, 500000.0], [1760.0, 419000.0], [2130.0, 370000.0], [3910.0, 961500.0], [3010.0, 830000.0], [1860.0, 730000.0], [1110.0, 252500.0], [2160.0, 528000.0], [2620.0, 597500.0], [1560.0, 449950.0], [5860.0, 1157200.0], [2430.0, 515000.0], [3610.0, 968000.0], [1600.0, 285000.0], [1710.0, 590000.0], [1670.0, 425000.0], [2110.0, 280000.0], [1240.0, 390000.0], [1500.0, 245000.0], [1950.0, 313200.0], [1310.0, 421000.0], [2030.0, 295000.0], [2280.0, 628000.0], [1770.0, 381000.0], [1190.0, 295950.0], [2560.0, 379500.0], [1200.0, 438000.0], [1200.0, 380000.0], [1810.0, 261000.0], [1300.0, 315000.0], [2080.0, 300000.0], [1490.0, 348000.0], [1380.0, 527500.0], [980.0, 395000.0], [2970.0, 715000.0], [1450.0, 320000.0], [2070.0, 395000.0], [2160.0, 325000.0], [2700.0, 314900.0], [1930.0, 434500.0], [1580.0, 489950.0], [3420.0, 650000.0], [1520.0, 345000.0], [2683.0, 822000.0], [1700.0, 410000.0], [2450.0, 793000.0], [2770.0, 641000.0], [2120.0, 500000.0], [1430.0, 400000.0], [3470.0, 1050000.0], [1140.0, 379000.0], [1290.0, 255000.0], [2410.0, 287000.0], [1570.0, 346500.0], [2460.0, 818000.0], [2070.0, 400000.0], [1440.0, 805500.0], [1680.0, 575000.0], [1020.0, 310000.0], [2090.0, 325000.0], [3266.0, 418000.0], [2500.0, 470500.0], [2030.0, 295450.0], [1720.0, 200000.0], [1120.0, 401000.0], [790.0, 280000.0], [1260.0, 280000.0], [930.0, 230950.0], [1060.0, 205000.0], [1460.0, 220000.0], [2250.0, 375000.0], [2620.0, 975000.0], [1220.0, 257000.0], [1340.0, 399000.0], [2260.0, 489000.0], [2030.0, 643000.0], [3560.0, 1750000.0], [1600.0, 425000.0], [3130.0, 525000.0], [1990.0, 763101.0], [1450.0, 465000.0], [1810.0, 430000.0], [2150.0, 741500.0], [2960.0, 857500.0], [1860.0, 505000.0], [1330.0, 482500.0], [1660.0, 550000.0], [1600.0, 490000.0], [1950.0, 700000.0], [880.0, 490000.0], [1960.0, 724950.0], [2200.0, 285167.0], [1270.0, 275000.0], [2470.0, 660000.0], [2110.0, 285000.0], [800.0, 269500.0], [1140.0, 158000.0], [2040.0, 480000.0], [1730.0, 435000.0], [1740.0, 548500.0], [4300.0, 975000.0], [2220.0, 585000.0], [1390.0, 280950.0], [2180.0, 339995.0], [1100.0, 250000.0], [1970.0, 420000.0], [1120.0, 230000.0], [2650.0, 415000.0], [2550.0, 537500.0], [1700.0, 225000.0], [1180.0, 600000.0], [3140.0, 915000.0], [1250.0, 370000.0], [2390.0, 915000.0], [1450.0, 340000.0], [2180.0, 499900.0], [2970.0, 845000.0], [2200.0, 345000.0], [2680.0, 300000.0], [4020.0, 1691000.0], [1560.0, 224000.0], [1940.0, 265000.0], [1580.0, 580000.0], [770.0, 264950.0], [2800.0, 440000.0], [1890.0, 255000.0], [1802.0, 320000.0], [1640.0, 379500.0], [1710.0, 271000.0], [770.0, 259950.0], [940.0, 225000.0], [1520.0, 400000.0], [2560.0, 765000.0], [5740.0, 1380000.0], [2560.0, 255000.0], [1490.0, 604000.0], [2300.0, 303000.0], [1380.0, 365000.0], [800.0, 440000.0], [1750.0, 625000.0], [1410.0, 405000.0], [960.0, 349810.0], [1390.0, 186950.0], [2020.0, 599500.0], [520.0, 275000.0], [3220.0, 440000.0], [2900.0, 800000.0], [1510.0, 473000.0], [1790.0, 240000.0], [1830.0, 423000.0], [2060.0, 330000.0], [960.0, 200000.0], [1200.0, 361000.0], [1230.0, 540000.0], [830.0, 345000.0], [2192.0, 310000.0], [1140.0, 420000.0], [1620.0, 680000.0], [1980.0, 355000.0], [1370.0, 555000.0], [1740.0, 205000.0], [1850.0, 254000.0], [2380.0, 812000.0], [720.0, 300000.0], [3090.0, 734000.0], [1820.0, 480000.0], [1560.0, 225000.0], [1780.0, 325000.0], [1780.0, 252500.0], [1320.0, 510000.0], [2990.0, 760000.0], [1210.0, 326000.0], [1700.0, 950000.0], [2000.0, 415000.0], [1650.0, 599000.0], [1340.0, 160000.0], [1880.0, 725000.0], [2580.0, 699000.0], [5310.0, 2480000.0], [2140.0, 615750.0], [1690.0, 780000.0], [1920.0, 308950.0], [3480.0, 860000.0], [950.0, 339000.0], [1490.0, 230000.0], [1430.0, 270000.0], [1560.0, 415000.0], [880.0, 160000.0], [2110.0, 355000.0], [2390.0, 260000.0], [2710.0, 999000.0], [1270.0, 340000.0], [1790.0, 315000.0], [2780.0, 950000.0], [3030.0, 880000.0], [820.0, 320000.0], [2400.0, 389000.0], [860.0, 82000.0], [1660.0, 367500.0], [4310.0, 1174660.0], [1290.0, 481000.0], [1010.0, 245000.0], [1790.0, 294000.0], [1480.0, 402300.0], [1880.0, 299500.0], [4380.0, 995000.0], [2170.0, 555000.0], [2120.0, 645000.0], [1850.0, 305500.0]], \"columns\": [{\"dtype\": \"str\", \"name\": \"id\"}, {\"dtype\": \"datetime\", \"name\": \"date\"}, {\"dtype\": \"float\", \"name\": \"price\"}, {\"dtype\": \"float\", \"name\": \"bedrooms\"}, {\"dtype\": \"float\", \"name\": \"bathrooms\"}, {\"dtype\": \"float\", \"name\": \"sqft_living\"}, {\"dtype\": \"int\", \"name\": \"sqft_lot\"}, {\"dtype\": \"str\", \"name\": \"floors\"}, {\"dtype\": \"int\", \"name\": \"waterfront\"}, {\"dtype\": \"int\", \"name\": \"view\"}, {\"dtype\": \"int\", \"name\": \"condition\"}, {\"dtype\": \"int\", \"name\": \"grade\"}, {\"dtype\": \"int\", \"name\": \"sqft_above\"}, {\"dtype\": \"int\", \"name\": \"sqft_basement\"}, {\"dtype\": \"int\", \"name\": \"yr_built\"}, {\"dtype\": \"int\", \"name\": \"yr_renovated\"}, {\"dtype\": \"str\", \"name\": \"zipcode\"}, {\"dtype\": \"float\", \"name\": \"lat\"}, {\"dtype\": \"float\", \"name\": \"long\"}, {\"dtype\": \"float\", \"name\": \"sqft_living15\"}, {\"dtype\": \"float\", \"name\": \"sqft_lot15\"}]}, e);\n",
       "                });\n",
       "            })();\n",
       "        "
      ]
     },
     "metadata": {},
     "output_type": "display_data"
    }
   ],
   "source": [
    "graphlab.canvas.set_target('ipynb')\n",
    "train_data.show(view=\"Scatter Plot\", x=\"sqft_living\", y=\"price\")"
   ]
  },
  {
   "cell_type": "code",
   "execution_count": 42,
   "metadata": {
    "collapsed": false
   },
   "outputs": [
    {
     "name": "stdout",
     "output_type": "stream",
     "text": [
      "<class 'graphlab.data_structures.sframe.SFrame'>\n"
     ]
    }
   ],
   "source": [
    "print type(train_data)"
   ]
  },
  {
   "cell_type": "code",
   "execution_count": 22,
   "metadata": {
    "collapsed": true
   },
   "outputs": [],
   "source": [
    "house_model = graphlab.linear_regression.create(train_data, target='price', \n",
    "                                                features=['sqft_living'],\n",
    "                                                validation_set=None,verbose=False)"
   ]
  },
  {
   "cell_type": "code",
   "execution_count": 23,
   "metadata": {
    "collapsed": true
   },
   "outputs": [],
   "source": [
    "import matplotlib.pyplot as plt\n",
    "%matplotlib inline"
   ]
  },
  {
   "cell_type": "code",
   "execution_count": 24,
   "metadata": {
    "collapsed": false
   },
   "outputs": [
    {
     "data": {
      "text/plain": [
       "[<matplotlib.lines.Line2D at 0x21595908>,\n",
       " <matplotlib.lines.Line2D at 0x215959b0>]"
      ]
     },
     "execution_count": 24,
     "metadata": {},
     "output_type": "execute_result"
    },
    {
     "data": {
      "image/png": "[encoded data removed]",
      "text/plain": [
       "<matplotlib.figure.Figure at 0x214727b8>"
      ]
     },
     "metadata": {},
     "output_type": "display_data"
    }
   ],
   "source": [
    "plt.plot(train_data['sqft_living'], train_data['price'],'.',\n",
    "        train_data['sqft_living'], house_model.predict(train_data),'-')"
   ]
  },
  {
   "cell_type": "code",
   "execution_count": 28,
   "metadata": {
    "collapsed": false
   },
   "outputs": [
    {
     "name": "stdout",
     "output_type": "stream",
     "text": [
      "+-------------+-------+----------------+---------------+\n",
      "|     name    | index |     value      |     stderr    |\n",
      "+-------------+-------+----------------+---------------+\n",
      "| (intercept) |  None | -47114.0206702 | 4923.34437753 |\n",
      "| sqft_living |  None | 281.957850166  | 2.16405465323 |\n",
      "+-------------+-------+----------------+---------------+\n",
      "[2 rows x 4 columns]\n",
      "\n",
      "intercept =  -47116.0765749 , slope =  281.958838568\n"
     ]
    }
   ],
   "source": [
    "print house_model.get('coefficients')\n",
    "print \"intercept = \", intercept, \", slope = \", slope"
   ]
  },
  {
   "cell_type": "code",
   "execution_count": 44,
   "metadata": {
    "collapsed": false
   },
   "outputs": [],
   "source": [
    "def get_regression_predictions(sqft, intercept, slope):\n",
    "    return sqft*slope-intercept"
   ]
  },
  {
   "cell_type": "code",
   "execution_count": 46,
   "metadata": {
    "collapsed": false
   },
   "outputs": [
    {
     "data": {
      "text/plain": [
       "794306.9987793381"
      ]
     },
     "execution_count": 46,
     "metadata": {},
     "output_type": "execute_result"
    }
   ],
   "source": [
    "get_regression_predictions(2650, intercept, slope)"
   ]
  },
  {
   "cell_type": "code",
   "execution_count": 47,
   "metadata": {
    "collapsed": false
   },
   "outputs": [],
   "source": [
    "def predict_price_from_sqft_linear_regression(sqft):\n",
    "    intercept = house_model.get('coefficients')['value'][0]\n",
    "    slope = house_model.get('coefficients')['value'][1]\n",
    "    return sqft*slope-intercept"
   ]
  },
  {
   "cell_type": "code",
   "execution_count": 48,
   "metadata": {
    "collapsed": false
   },
   "outputs": [
    {
     "data": {
      "text/plain": [
       "794302.3236100859"
      ]
     },
     "execution_count": 48,
     "metadata": {},
     "output_type": "execute_result"
    }
   ],
   "source": [
    "predict_price_from_sqft_linear_regression(2650)"
   ]
  },
  {
   "cell_type": "markdown",
   "metadata": {},
   "source": [
    "Above is answer to programming quiz Q1\n",
    "\n",
    "Write a function that accepts column of data: ‘input_feature’, and ‘output’ and the regression parameters ‘slope’ and ‘intercept’ and outputs the Residual Sum of Squares (RSS).\n",
    "\n",
    "Recall that the RSS is the sum of the squares of the prediction errors (difference between output and prediction).\n",
    "\n",
    "use this to answer programming quiz Q2"
   ]
  },
  {
   "cell_type": "code",
   "execution_count": 51,
   "metadata": {
    "collapsed": false
   },
   "outputs": [],
   "source": [
    "def get_residual_sum_of_squares(input_feature, output, intercept,slope):\n",
    "    RSS = 0\n",
    "    return(RSS)"
   ]
  },
  {
   "cell_type": "code",
   "execution_count": null,
   "metadata": {
    "collapsed": true
   },
   "outputs": [],
   "source": []
  }
 ],
 "metadata": {
  "kernelspec": {
   "display_name": "Python 2",
   "language": "python",
   "name": "python2"
  },
  "language_info": {
   "codemirror_mode": {
    "name": "ipython",
    "version": 2
   },
   "file_extension": ".py",
   "mimetype": "text/x-python",
   "name": "python",
   "nbconvert_exporter": "python",
   "pygments_lexer": "ipython2",
   "version": "2.7.11"
  }
 },
 "nbformat": 4,
 "nbformat_minor": 0
}
