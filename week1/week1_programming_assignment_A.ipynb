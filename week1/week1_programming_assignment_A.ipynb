{
 "cells": [
  {
   "cell_type": "markdown",
   "metadata": {},
   "source": [
    "working for programming assignment\n",
    "https://www.coursera.org/learn/ml-regression/supplement/z0Uef/reading-fitting-a-simple-linear-regression-model-on-housing-data"
   ]
  },
  {
   "cell_type": "code",
   "execution_count": 1,
   "metadata": {
    "collapsed": true
   },
   "outputs": [],
   "source": [
    "import graphlab\n",
    "from __future__ import division"
   ]
  },
  {
   "cell_type": "code",
   "execution_count": 2,
   "metadata": {
    "collapsed": false
   },
   "outputs": [
    {
     "name": "stderr",
     "output_type": "stream",
     "text": [
      "[INFO] graphlab.cython.cy_server: GraphLab Create v2.1 started. Logging: C:\\Users\\bmt\\AppData\\Local\\Temp\\graphlab_server_1481520308.log.0\n"
     ]
    },
    {
     "name": "stdout",
     "output_type": "stream",
     "text": [
      "This non-commercial license of GraphLab Create for academic use is assigned to bmatthewtaylor@gmail.com and will expire on October 27, 2017.\n",
      "<class 'graphlab.data_structures.sframe.SFrame'>\n"
     ]
    }
   ],
   "source": [
    "houseData = graphlab.SFrame('../data/kc_house_data.gl/')\n",
    "print type(houseData)"
   ]
  },
  {
   "cell_type": "code",
   "execution_count": 3,
   "metadata": {
    "collapsed": false
   },
   "outputs": [
    {
     "name": "stdout",
     "output_type": "stream",
     "text": [
      "train_data.shape =  (17384, 21)\n",
      "test_data.shape =  (4229, 21)\n"
     ]
    }
   ],
   "source": [
    "train_data,test_data = houseData.random_split(.8,seed=0)\n",
    "print \"train_data.shape = \", train_data.shape\n",
    "print \"test_data.shape = \", test_data.shape"
   ]
  },
  {
   "cell_type": "code",
   "execution_count": 4,
   "metadata": {
    "collapsed": false
   },
   "outputs": [
    {
     "name": "stdout",
     "output_type": "stream",
     "text": [
      "['id', 'date', 'price', 'bedrooms', 'bathrooms', 'sqft_living', 'sqft_lot', 'floors', 'waterfront', 'view', 'condition', 'grade', 'sqft_above', 'sqft_basement', 'yr_built', 'yr_renovated', 'zipcode', 'lat', 'long', 'sqft_living15', 'sqft_lot15']\n"
     ]
    }
   ],
   "source": [
    "#print train_data.head(2)\n",
    "print train_data.column_names()"
   ]
  },
  {
   "cell_type": "markdown",
   "metadata": {},
   "source": [
    "3. Write a generic function that accepts a column of data (e.g, an SArray) ‘input_feature’ and another column ‘output’ and returns the Simple Linear Regression parameters ‘intercept’ and ‘slope’. Use the closed form solution from lecture to calculate the slope and intercept."
   ]
  },
  {
   "cell_type": "code",
   "execution_count": 18,
   "metadata": {
    "collapsed": false
   },
   "outputs": [],
   "source": [
    "def simple_linear_regression(input_feature, output):\n",
    "    \"\"\"\n",
    "    Fits intercept and slope using closed form solution in lectures\n",
    "    output = input_feature x slope + intercept\n",
    "    \"\"\"\n",
    "    numerator = 0\n",
    "    sumXY = 0\n",
    "    sumX = 0\n",
    "    sumY = 0\n",
    "    sumXX = 0\n",
    "    N = len(input_feature)\n",
    "    print \"len(input_feature) = \", len(input_feature), \", len(input_feature) = \", len(input_feature)\n",
    "    print \"calculating sumX, sumY, sumXY, sum XX, long loop.\"\n",
    "    for i in range(N):\n",
    "        sumXY += input_feature[i] * output[i]\n",
    "        sumX += input_feature[i]\n",
    "        sumY += output[i]\n",
    "        sumXX += input_feature[i]*input_feature[i]\n",
    "    print \"N=\", N, \", sumXY = \", sumXY, \", sumX = \", sumX, \", sumY = \", sumY, \", sumXX = \", sumXX\n",
    "    #numerator = (sum of X*Y) - (1/N)*((sum of X) * (sum of Y))\n",
    "    numerator = sumXY*1.0 - (1.0/N)*(1.0*sumX*sumY)\n",
    "    #denominator = (sum of X^2) - (1/N)*((sum of X) * (sum of X))\n",
    "    denominator = sumXX*1.0 - (1.0/N)*(1.0*sumX*sumX)\n",
    "\n",
    "    #print type(numerator), \"numerator = \", numerator\n",
    "    #print type(denominator), \"denominator = \", denominator\n",
    "    slope = numerator*1.0 / denominator\n",
    "    #print \"slope = \", slope\n",
    "    \n",
    "    meanY = sumY*1.0/N\n",
    "    meanX = sumX*1.0/N\n",
    "    #print \"meanX = \", meanX\n",
    "    #print \"meanY = \", meanY\n",
    "    intercept = meanY - meanX*slope\n",
    "    #print \"intercept = \", intercept\n",
    "\n",
    "    #[your code here]\n",
    "    #intercept = 0 \n",
    "    #slope = 0\n",
    "    return(intercept, slope)"
   ]
  },
  {
   "cell_type": "code",
   "execution_count": 19,
   "metadata": {
    "collapsed": false
   },
   "outputs": [
    {
     "name": "stdout",
     "output_type": "stream",
     "text": [
      "len(input_feature) =  17384 , len(input_feature) =  17384\n",
      "calculating sumX, sumY, sumXY, sum XX, long loop.\n",
      "N= 17384 , sumXY =  2.36662568479e+13 , sumX =  36159233.0 , sumY =  9376349465.0 , sumXX =  89977452623.0\n",
      "intercept =  -47116.0765749 , slope =  281.958838568\n"
     ]
    }
   ],
   "source": [
    "input_feature = train_data['sqft_living']\n",
    "output = train_data['price']\n",
    "intercept, slope = simple_linear_regression(input_feature, output)\n",
    "print \"intercept = \", intercept, \", slope = \", slope"
   ]
  },
  {
   "cell_type": "code",
   "execution_count": 20,
   "metadata": {
    "collapsed": false
   },
   "outputs": [
    {
     "data": {
      "application/javascript": [
       "$(\"head\").append($(\"<link/>\").attr({\n",
       "  rel:  \"stylesheet\",\n",
       "  type: \"text/css\",\n",
       "  href: \"//cdnjs.cloudflare.com/ajax/libs/font-awesome/4.1.0/css/font-awesome.min.css\"\n",
       "}));\n",
       "$(\"head\").append($(\"<link/>\").attr({\n",
       "  rel:  \"stylesheet\",\n",
       "  type: \"text/css\",\n",
       "  href: \"https://static.turi.com/products/graphlab-create/2.1/canvas/css/canvas.css\"\n",
       "}));\n",
       "\n",
       "            (function(){\n",
       "\n",
       "                var e = null;\n",
       "                if (typeof element == 'undefined') {\n",
       "                    var scripts = document.getElementsByTagName('script');\n",
       "                    var thisScriptTag = scripts[scripts.length-1];\n",
       "                    var parentDiv = thisScriptTag.parentNode;\n",
       "                    e = document.createElement('div');\n",
       "                    parentDiv.appendChild(e);\n",
       "                } else {\n",
       "                    e = element[0];\n",
       "                }\n",
       "\n",
       "                if (typeof requirejs !== 'undefined') {\n",
       "                    // disable load timeout; ipython_app.js is large and can take a while to load.\n",
       "                    requirejs.config({waitSeconds: 0});\n",
       "                }\n",
       "\n",
       "                require(['https://static.turi.com/products/graphlab-create/2.1/canvas/js/ipython_app.js'], function(IPythonApp){\n",
       "                    var app = new IPythonApp();\n",
       "                    app.attachView('sframe','Plots', {\"selected_variable\": {\"name\": [\"train_data\"], \"descriptives\": {\"rows\": 17384, \"columns\": 21}, \"view_component\": \"Plots\", \"view_file\": \"sframe\", \"view_params\": {\"y\": \"price\", \"x\": \"sqft_living\", \"columns\": [\"id\", \"date\", \"price\", \"bedrooms\", \"bathrooms\", \"sqft_living\", \"sqft_lot\", \"floors\", \"waterfront\", \"view\", \"condition\", \"grade\", \"sqft_above\", \"sqft_basement\", \"yr_built\", \"yr_renovated\", \"zipcode\", \"lat\", \"long\", \"sqft_living15\", \"sqft_lot15\"], \"view\": \"Scatter Plot\"}, \"view_components\": [\"Summary\", \"Table\", \"Bar Chart\", \"BoxWhisker Plot\", \"Line Chart\", \"Scatter Plot\", \"Heat Map\", \"Plots\"], \"type\": \"SFrame\", \"columns\": [{\"dtype\": \"str\", \"name\": \"id\"}, {\"dtype\": \"datetime\", \"name\": \"date\"}, {\"dtype\": \"float\", \"name\": \"price\"}, {\"dtype\": \"float\", \"name\": \"bedrooms\"}, {\"dtype\": \"float\", \"name\": \"bathrooms\"}, {\"dtype\": \"float\", \"name\": \"sqft_living\"}, {\"dtype\": \"int\", \"name\": \"sqft_lot\"}, {\"dtype\": \"str\", \"name\": \"floors\"}, {\"dtype\": \"int\", \"name\": \"waterfront\"}, {\"dtype\": \"int\", \"name\": \"view\"}, {\"dtype\": \"int\", \"name\": \"condition\"}, {\"dtype\": \"int\", \"name\": \"grade\"}, {\"dtype\": \"int\", \"name\": \"sqft_above\"}, {\"dtype\": \"int\", \"name\": \"sqft_basement\"}, {\"dtype\": \"int\", \"name\": \"yr_built\"}, {\"dtype\": \"int\", \"name\": \"yr_renovated\"}, {\"dtype\": \"str\", \"name\": \"zipcode\"}, {\"dtype\": \"float\", \"name\": \"lat\"}, {\"dtype\": \"float\", \"name\": \"long\"}, {\"dtype\": \"float\", \"name\": \"sqft_living15\"}, {\"dtype\": \"float\", \"name\": \"sqft_lot15\"}], \"column_identifiers\": [\"bathrooms\", \"sqft_living15\", \"sqft_above\", \"grade\", \"yr_built\", \"price\", \"bedrooms\", \"zipcode\", \"long\", \"id\", \"sqft_lot15\", \"sqft_living\", \"floors\", \"sqft_lot\", \"date\", \"waterfront\", \"sqft_basement\", \"yr_renovated\", \"lat\", \"condition\", \"view\"]}, \"complete\": 1, \"ipython\": true, \"progress\": 1.0, \"data\": [[1540.0, 529950.0], [1870.0, 355000.0], [2730.0, 510000.0], [4590.0, 1710000.0], [1690.0, 240000.0], [2320.0, 449950.0], [1290.0, 365000.0], [1440.0, 430000.0], [1720.0, 286900.0], [1250.0, 450000.0], [1580.0, 260000.0], [3370.0, 540000.0], [1050.0, 249000.0], [1810.0, 530000.0], [2280.0, 718000.0], [1600.0, 485000.0], [1590.0, 720000.0], [1620.0, 442200.0], [1620.0, 385000.0], [1490.0, 225000.0], [4200.0, 1335000.0], [2160.0, 325000.0], [2690.0, 800000.0], [1730.0, 339950.0], [1080.0, 345000.0], [4060.0, 718000.0], [2580.0, 713000.0], [1690.0, 564000.0], [3030.0, 1220000.0], [4030.0, 989000.0], [2260.0, 675000.0], [1650.0, 275000.0], [1430.0, 465000.0], [2040.0, 580000.0], [1510.0, 442500.0], [2360.0, 840000.0], [1180.0, 229500.0], [1220.0, 289900.0], [1300.0, 550000.0], [1230.0, 435000.0], [3440.0, 730000.0], [3620.0, 394000.0], [820.0, 274000.0], [1360.0, 499950.0], [2010.0, 462608.0], [780.0, 464050.0], [1110.0, 345000.0], [1408.0, 416286.0], [1980.0, 416000.0], [1400.0, 373000.0], [1180.0, 275000.0], [1180.0, 713000.0], [1010.0, 147500.0], [1160.0, 390000.0], [1030.0, 205000.0], [3040.0, 340000.0], [3570.0, 928990.0], [2760.0, 424950.0], [2620.0, 475000.0], [1520.0, 575000.0], [2410.0, 960000.0], [2360.0, 319000.0], [3030.0, 509900.0], [2398.0, 400000.0], [2480.0, 665000.0], [4440.0, 1730000.0], [2620.0, 750000.0], [2480.0, 475000.0], [1780.0, 455000.0], [2380.0, 655500.0], [860.0, 580000.0], [2496.0, 661000.0], [2250.0, 648475.0], [2270.0, 527500.0], [2530.0, 417838.0], [1490.0, 412500.0], [1140.0, 218000.0], [1670.0, 475200.0], [3520.0, 1099880.0], [3110.0, 600600.0], [700.0, 175000.0], [1490.0, 320000.0], [2070.0, 325000.0], [2560.0, 518000.0], [1280.0, 199000.0], [1810.0, 560000.0], [1200.0, 400000.0], [1970.0, 438000.0], [1580.0, 720000.0], [2160.0, 405000.0], [2080.0, 520000.0], [1190.0, 275000.0], [870.0, 166000.0], [3330.0, 2500000.0], [4240.0, 1160000.0], [1340.0, 239000.0], [1550.0, 458000.0], [2927.0, 407000.0], [3600.0, 1029275.0], [2460.0, 1370000.0], [960.0, 395000.0], [3370.0, 800000.0], [2310.0, 525000.0], [2580.0, 340000.0], [1180.0, 195000.0], [1300.0, 819000.0], [1170.0, 157000.0], [2100.0, 445000.0], [940.0, 219950.0], [1170.0, 229950.0], [1340.0, 438400.0], [1440.0, 395000.0], [1320.0, 526000.0], [1060.0, 212000.0], [1700.0, 502775.0], [2280.0, 557000.0], [1530.0, 590000.0], [1660.0, 320000.0], [2940.0, 885000.0], [1110.0, 365000.0], [1820.0, 349950.0], [1190.0, 382500.0], [1110.0, 665000.0], [2670.0, 744000.0], [1110.0, 252500.0], [3180.0, 660000.0], [2420.0, 430000.0], [1910.0, 585000.0], [1730.0, 625000.0], [1660.0, 412500.0], [3230.0, 785000.0], [5180.0, 2250000.0], [2220.0, 334990.0], [1830.0, 638000.0], [3960.0, 650000.0], [1320.0, 300000.0], [1230.0, 440000.0], [2864.0, 380000.0], [3300.0, 729000.0], [1800.0, 500000.0], [2780.0, 315000.0], [2010.0, 350000.0], [4060.0, 1017100.0], [2580.0, 650000.0], [720.0, 235000.0], [2160.0, 272000.0], [1340.0, 313000.0], [1640.0, 464950.0], [1370.0, 377500.0], [980.0, 447000.0], [1230.0, 435000.0], [1590.0, 349000.0], [2380.0, 470000.0], [1410.0, 352500.0], [1210.0, 364000.0], [1270.0, 440000.0], [1910.0, 333000.0], [2290.0, 670000.0], [4340.0, 1280000.0], [1330.0, 615000.0], [1600.0, 395000.0], [2340.0, 235500.0], [1390.0, 400000.0], [1380.0, 294000.0], [1260.0, 240000.0], [1280.0, 355000.0], [1180.0, 425000.0], [4770.0, 1475000.0], [1670.0, 485000.0], [660.0, 227450.0], [2400.0, 335000.0], [1880.0, 550000.0], [2390.0, 290000.0], [2260.0, 605000.0], [1010.0, 254000.0], [1590.0, 284850.0], [2350.0, 800000.0], [1550.0, 320000.0], [1990.0, 438000.0], [2502.0, 453000.0], [1620.0, 387000.0], [1950.0, 428000.0], [2080.0, 270000.0], [2700.0, 580000.0], [1140.0, 379900.0], [1720.0, 341000.0], [1640.0, 409000.0], [2050.0, 375000.0], [1510.0, 270000.0], [1260.0, 528000.0], [1810.0, 515000.0], [2240.0, 452500.0], [1980.0, 233000.0], [1630.0, 260000.0], [3390.0, 775000.0], [1500.0, 529000.0], [2240.0, 556000.0], [2780.0, 1025000.0], [1150.0, 224000.0], [1400.0, 148226.0], [1430.0, 453000.0], [1460.0, 444000.0], [2140.0, 340000.0], [920.0, 156000.0], [1940.0, 295000.0], [3360.0, 945800.0], [1550.0, 294010.0], [2740.0, 363000.0], [720.0, 181000.0], [1500.0, 765000.0], [2600.0, 515000.0], [1760.0, 270000.0], [3040.0, 605000.0], [1650.0, 517000.0], [3370.0, 1135000.0], [1420.0, 592500.0], [2440.0, 312000.0], [3800.0, 894000.0], [1790.0, 695000.0], [2290.0, 585000.0], [1060.0, 415000.0], [1070.0, 195000.0], [1950.0, 275000.0], [2960.0, 472500.0], [2670.0, 732000.0], [2480.0, 325000.0], [4170.0, 623300.0], [1970.0, 340000.0], [1720.0, 255000.0], [2520.0, 896000.0], [2920.0, 740000.0], [3300.0, 1740000.0], [2200.0, 450000.0], [3520.0, 470000.0], [1900.0, 257000.0], [1400.0, 241500.0], [3670.0, 885250.0], [1770.0, 585000.0], [2430.0, 1500000.0], [2440.0, 575000.0], [2060.0, 432000.0], [2160.0, 580000.0], [1540.0, 273000.0], [1730.0, 357500.0], [1970.0, 408000.0], [1560.0, 399950.0], [3880.0, 620000.0], [2770.0, 505000.0], [1920.0, 320000.0], [1840.0, 415000.0], [1910.0, 746000.0], [1460.0, 362764.0], [1480.0, 369300.0], [2720.0, 545000.0], [840.0, 199950.0], [1600.0, 299950.0], [1360.0, 540000.0], [2610.0, 605000.0], [1430.0, 574500.0], [1322.0, 215000.0], [2040.0, 730000.0], [2600.0, 250000.0], [4020.0, 1691000.0], [2660.0, 603500.0], [2840.0, 500000.0], [1470.0, 270000.0], [1510.0, 240000.0], [2390.0, 425000.0], [3030.0, 274975.0], [1900.0, 250000.0], [1180.0, 311000.0], [2440.0, 749500.0], [1802.0, 320000.0], [1040.0, 370000.0], [1620.0, 484000.0], [3380.0, 639900.0], [2506.0, 350000.0], [2560.0, 485000.0], [1320.0, 339950.0], [1275.0, 309600.0], [1740.0, 267000.0], [1830.0, 440000.0], [1470.0, 262500.0], [1050.0, 375000.0], [3440.0, 1324050.0], [2620.0, 443000.0], [970.0, 205950.0], [750.0, 300000.0], [1340.0, 479000.0], [2600.0, 805000.0], [1570.0, 560000.0], [2730.0, 733000.0], [1540.0, 450000.0], [2390.0, 516250.0], [3290.0, 695000.0], [1060.0, 336000.0], [900.0, 305000.0], [1610.0, 415000.0], [3400.0, 1690000.0], [1230.0, 392000.0], [7000.0, 3200000.0], [1740.0, 539000.0], [2020.0, 552500.0], [2270.0, 645000.0], [2290.0, 449999.0], [2500.0, 305000.0], [2040.0, 253000.0], [4860.0, 1680000.0], [2780.0, 825500.0], [1550.0, 605000.0], [3290.0, 329500.0], [2420.0, 697000.0], [720.0, 438600.0], [2210.0, 445500.0], [2440.0, 431000.0], [1920.0, 900000.0], [1510.0, 195000.0], [1330.0, 218000.0], [1020.0, 245000.0], [2780.0, 995000.0], [1510.0, 420250.0], [1790.0, 494000.0], [1720.0, 304000.0], [2880.0, 720000.0], [1990.0, 625000.0], [3000.0, 394000.0], [1040.0, 325000.0], [2700.0, 552500.0], [1740.0, 342000.0], [2910.0, 625000.0], [2085.0, 563500.0], [1990.0, 507500.0], [1900.0, 270000.0], [2940.0, 503000.0], [1120.0, 465000.0], [2250.0, 600000.0], [2460.0, 750000.0], [1220.0, 447000.0], [2190.0, 310000.0], [970.0, 217000.0], [2780.0, 675000.0], [1030.0, 326000.0], [1120.0, 216180.0], [800.0, 375000.0], [2560.0, 388000.0], [4220.0, 3300000.0], [1840.0, 262000.0], [2120.0, 249500.0], [2120.0, 578000.0], [2260.0, 925000.0], [2030.0, 910000.0], [1340.0, 615000.0], [2110.0, 670000.0], [2130.0, 686000.0], [1390.0, 354000.0], [2250.0, 280000.0], [1720.0, 638000.0], [1200.0, 508000.0], [1400.0, 232000.0], [1580.0, 465000.0], [1370.0, 237600.0], [2130.0, 360000.0], [1810.0, 520000.0], [2190.0, 833000.0], [1340.0, 124740.0], [2460.0, 570000.0], [740.0, 304700.0], [1240.0, 357823.0], [3330.0, 1955000.0], [2060.0, 499950.0], [1950.0, 235000.0], [1560.0, 299950.0], [1980.0, 361500.0], [1900.0, 278000.0], [1370.0, 563250.0], [3230.0, 850000.0], [1410.0, 546500.0], [1550.0, 242500.0], [2340.0, 995000.0], [1100.0, 392500.0], [2095.0, 711000.0], [2350.0, 399950.0], [1490.0, 735000.0], [1390.0, 610000.0], [1440.0, 274000.0], [1510.0, 479200.0], [890.0, 207950.0], [910.0, 265000.0], [1050.0, 339950.0], [1470.0, 525000.0], [2630.0, 990000.0], [2730.0, 770000.0], [1320.0, 200000.0], [3480.0, 864327.0], [1140.0, 218000.0], [960.0, 210000.0], [3110.0, 725000.0], [1660.0, 655000.0], [2230.0, 464950.0], [2020.0, 528000.0], [2040.0, 620000.0], [3450.0, 1388000.0], [3020.0, 750000.0], [960.0, 95000.0], [1520.0, 288000.0], [1646.0, 305000.0], [893.0, 359950.0], [2600.0, 430000.0], [1560.0, 509000.0], [970.0, 345000.0], [1747.0, 267500.0], [630.0, 190000.0], [2150.0, 741500.0], [3690.0, 575000.0], [1610.0, 450000.0], [4883.0, 537000.0], [3040.0, 650000.0], [2950.0, 455000.0], [1890.0, 458500.0], [2200.0, 1050000.0], [2230.0, 556000.0], [2040.0, 475000.0], [1180.0, 257500.0], [2790.0, 505000.0], [1360.0, 329950.0], [2230.0, 699950.0], [1210.0, 483300.0], [2890.0, 570000.0], [1290.0, 658000.0], [3060.0, 877500.0], [1170.0, 286000.0], [2420.0, 298500.0], [1550.0, 369000.0], [2390.0, 363000.0], [1010.0, 675000.0], [1430.0, 453000.0], [890.0, 315000.0], [1540.0, 640000.0], [2520.0, 765000.0], [2730.0, 649000.0], [1310.0, 428000.0], [2260.0, 275000.0], [1110.0, 413252.0], [2870.0, 880000.0], [820.0, 245000.0], [940.0, 212700.0], [1830.0, 245000.0], [1480.0, 510000.0], [2370.0, 655000.0], [1730.0, 250000.0], [950.0, 250000.0], [2420.0, 525000.0], [1830.0, 312000.0], [2250.0, 735000.0], [1410.0, 279800.0], [730.0, 174950.0], [2400.0, 487275.0], [3001.0, 373000.0], [1540.0, 462500.0], [2060.0, 439000.0], [980.0, 400000.0], [1680.0, 230000.0], [1210.0, 324950.0], [2850.0, 620000.0], [2650.0, 797000.0], [2070.0, 312000.0], [620.0, 265000.0], [6200.0, 1959000.0], [2440.0, 780000.0], [1730.0, 470000.0], [740.0, 235750.0], [2140.0, 350000.0], [5030.0, 2450000.0], [2360.0, 805000.0], [1570.0, 325000.0], [1450.0, 435500.0], [720.0, 295000.0], [1270.0, 600000.0], [1780.0, 350000.0], [1320.0, 660000.0], [2520.0, 536000.0], [1450.0, 394000.0], [1260.0, 455000.0], [2900.0, 354000.0], [1280.0, 242000.0], [930.0, 200000.0], [1580.0, 525000.0], [1460.0, 258500.0], [1540.0, 450000.0], [1060.0, 370000.0], [1560.0, 545500.0], [1450.0, 205000.0], [1580.0, 195000.0], [1150.0, 305000.0], [1350.0, 468500.0], [910.0, 193000.0], [810.0, 367500.0], [1580.0, 263000.0], [2980.0, 1012000.0], [1250.0, 310000.0], [2240.0, 276000.0], [2910.0, 1168000.0], [1630.0, 395000.0], [1150.0, 307000.0], [3760.0, 998000.0], [2770.0, 285000.0], [1330.0, 239000.0], [1010.0, 658000.0], [1660.0, 729500.0], [1470.0, 475000.0], [1080.0, 228500.0], [1606.0, 417250.0], [3250.0, 530000.0], [3240.0, 604000.0], [1270.0, 246500.0], [4520.0, 550000.0], [2460.0, 638250.0], [2520.0, 525300.0], [1260.0, 207200.0], [840.0, 445000.0], [620.0, 402000.0], [2430.0, 305000.0], [3130.0, 595000.0], [2040.0, 580000.0], [1920.0, 250000.0], [820.0, 173000.0], [1700.0, 349000.0], [1450.0, 822500.0], [2650.0, 485000.0], [3320.0, 302000.0], [2180.0, 580000.0], [960.0, 255000.0], [2080.0, 286950.0], [2100.0, 370000.0], [2110.0, 746000.0], [2206.0, 780000.0], [1650.0, 264500.0], [2423.0, 290000.0], [3160.0, 335000.0], [870.0, 387500.0], [940.0, 600000.0], [2450.0, 729000.0], [1420.0, 400000.0], [1640.0, 669000.0], [1920.0, 415000.0], [2370.0, 715000.0], [2980.0, 820000.0], [1300.0, 536000.0], [2680.0, 449990.0], [1640.0, 645000.0], [1060.0, 275500.0], [2800.0, 605000.0], [1930.0, 690000.0], [2630.0, 454200.0], [1750.0, 240000.0], [1250.0, 308000.0], [2540.0, 485000.0], [1400.0, 485000.0], [2540.0, 325000.0], [1710.0, 234000.0], [1400.0, 431750.0], [2000.0, 260000.0], [1270.0, 348000.0], [1660.0, 620000.0], [1480.0, 275000.0], [1425.0, 467000.0], [1590.0, 310000.0], [800.0, 325000.0], [3950.0, 1052500.0], [7710.0, 3300000.0], [2920.0, 830000.0], [2910.0, 499990.0], [1350.0, 349990.0], [2300.0, 475000.0], [1370.0, 325000.0], [2810.0, 810000.0], [1800.0, 416000.0], [1340.0, 255000.0], [1350.0, 251000.0], [840.0, 96500.0], [1370.0, 276200.0], [740.0, 157500.0], [2080.0, 780000.0], [880.0, 199400.0], [1920.0, 443000.0], [1250.0, 309500.0], [2020.0, 405000.0], [2360.0, 302000.0], [820.0, 508000.0], [1160.0, 315000.0], [2960.0, 539950.0], [1090.0, 455000.0], [1830.0, 360000.0], [1500.0, 480000.0], [1600.0, 408000.0], [1340.0, 263000.0], [2080.0, 436800.0], [2020.0, 507500.0], [2540.0, 652500.0], [1830.0, 554000.0], [4460.0, 739500.0], [790.0, 169500.0], [2340.0, 510000.0], [3990.0, 1500000.0], [2230.0, 426000.0], [2340.0, 476000.0], [1650.0, 453000.0], [2880.0, 440000.0], [2192.0, 310000.0], [1100.0, 450000.0], [3020.0, 465000.0], [2540.0, 799990.0], [2410.0, 330000.0], [1500.0, 470000.0], [2940.0, 590000.0], [2230.0, 400000.0], [890.0, 199990.0], [2240.0, 510000.0], [1800.0, 625000.0], [2670.0, 425000.0], [1800.0, 408200.0], [1260.0, 275000.0], [2000.0, 513000.0], [1740.0, 330000.0], [1440.0, 425000.0], [1760.0, 429950.0], [3200.0, 737500.0], [3490.0, 830000.0], [2530.0, 435000.0], [1100.0, 184000.0], [1650.0, 320000.0], [2790.0, 483453.0], [1700.0, 269500.0], [1300.0, 250000.0], [1190.0, 210000.0], [5370.0, 790000.0], [1200.0, 205000.0], [1140.0, 239950.0], [2090.0, 494000.0], [1210.0, 635000.0], [2590.0, 760000.0], [1330.0, 458450.0], [2650.0, 705000.0], [2410.0, 617950.0], [1360.0, 397000.0], [5710.0, 930000.0], [1610.0, 286950.0], [1400.0, 190000.0], [1400.0, 299000.0], [2010.0, 471000.0], [3080.0, 889950.0], [910.0, 182500.0], [2240.0, 363990.0], [2311.0, 399440.0], [1560.0, 915000.0], [1040.0, 234000.0], [2590.0, 700000.0], [1240.0, 153503.0], [1590.0, 489950.0], [1810.0, 495000.0], [2260.0, 325000.0], [1680.0, 530000.0], [3270.0, 797500.0], [3030.0, 1050000.0], [1450.0, 275000.0], [2300.0, 330000.0], [2210.0, 733000.0], [2810.0, 407000.0], [2390.0, 660000.0], [1680.0, 540400.0], [1200.0, 260000.0], [1950.0, 560000.0], [2480.0, 840000.0], [2620.0, 525000.0], [1920.0, 245000.0], [2070.0, 300000.0], [2360.0, 569900.0], [2550.0, 595000.0], [770.0, 220000.0], [2300.0, 265000.0], [2000.0, 570000.0], [2370.0, 675000.0], [1460.0, 162000.0], [2050.0, 280000.0], [1770.0, 450000.0], [4910.0, 1675000.0], [1620.0, 298000.0], [1100.0, 361000.0], [1320.0, 201500.0], [2040.0, 475000.0], [1840.0, 583000.0], [2110.0, 610000.0], [2770.0, 685000.0], [1550.0, 481015.0], [1910.0, 390000.0], [1450.0, 375000.0], [1900.0, 649950.0], [1260.0, 414900.0], [2030.0, 199000.0], [1470.0, 265953.0], [1240.0, 401000.0], [1250.0, 221000.0], [2070.0, 490000.0], [1820.0, 1010000.0], [1830.0, 305000.0], [2510.0, 675000.0], [1110.0, 416000.0], [1900.0, 450000.0], [2420.0, 375000.0], [1900.0, 536000.0], [4890.0, 865950.0], [1140.0, 549900.0], [810.0, 367000.0], [1550.0, 430000.0], [1410.0, 379500.0], [2130.0, 593450.0], [1430.0, 545000.0], [1430.0, 356000.0], [1070.0, 400800.0], [1400.0, 435000.0], [950.0, 193000.0], [1100.0, 190000.0], [2010.0, 282000.0], [1910.0, 607000.0], [5860.0, 1750000.0], [2840.0, 945000.0], [1230.0, 229500.0], [2570.0, 449000.0], [1210.0, 461100.0], [2580.0, 456500.0], [860.0, 305000.0], [1640.0, 300000.0], [1050.0, 440000.0], [2570.0, 275000.0], [1460.0, 320000.0], [1630.0, 925000.0], [1810.0, 513000.0], [2100.0, 475000.0], [2160.0, 410000.0], [1250.0, 338000.0], [1630.0, 610000.0], [2140.0, 339950.0], [1830.0, 358000.0], [1710.0, 237000.0], [710.0, 190000.0], [1320.0, 350000.0], [2040.0, 355000.0], [1540.0, 235000.0], [2740.0, 315000.0], [1850.0, 538000.0], [2420.0, 712500.0], [3110.0, 2260000.0], [1090.0, 392000.0], [2940.0, 589000.0], [2310.0, 470000.0], [3160.0, 845000.0], [3530.0, 1400000.0], [1520.0, 230000.0], [2430.0, 570000.0], [1270.0, 235000.0], [2100.0, 323000.0], [2110.0, 385000.0], [2410.0, 711800.0], [620.0, 244900.0], [1510.0, 250000.0], [2740.0, 1039000.0], [1810.0, 325000.0], [1460.0, 405000.0], [1790.0, 179000.0], [1780.0, 935000.0], [1560.0, 440000.0], [1470.0, 630000.0], [2280.0, 575000.0], [4790.0, 818500.0], [1990.0, 690000.0], [1520.0, 500000.0], [1200.0, 370900.0], [1670.0, 875000.0], [2820.0, 1600000.0], [2600.0, 555000.0], [4420.0, 925000.0], [1700.0, 985000.0], [3050.0, 1475000.0], [2480.0, 399000.0], [1490.0, 348000.0], [2490.0, 1081000.0], [1680.0, 350000.0], [2130.0, 361000.0], [1300.0, 257500.0], [2780.0, 950000.0], [1500.0, 470000.0], [2020.0, 490000.0], [3150.0, 580135.0], [2730.0, 510000.0], [3110.0, 436500.0], [2800.0, 449950.0], [1000.0, 378000.0], [1250.0, 263000.0], [1730.0, 445000.0], [1170.0, 282500.0], [3240.0, 1065000.0], [1445.0, 389999.0], [920.0, 207000.0], [1680.0, 620000.0], [3450.0, 840000.0], [2320.0, 400000.0], [1830.0, 550000.0], [1320.0, 430000.0], [1770.0, 183750.0], [2600.0, 780000.0], [840.0, 400000.0], [5780.0, 2321000.0], [2440.0, 280500.0], [1300.0, 300000.0], [2920.0, 675000.0], [1430.0, 552000.0], [1950.0, 485000.0], [1520.0, 405000.0], [1570.0, 340000.0], [1980.0, 395000.0], [1420.0, 435000.0], [2450.0, 555000.0], [1250.0, 462000.0], [3990.0, 810000.0], [2210.0, 799000.0], [1920.0, 481000.0], [3340.0, 592000.0], [460.0, 247000.0], [1880.0, 475999.0], [1210.0, 237000.0], [1920.0, 535000.0], [1230.0, 375000.0], [2220.0, 427000.0], [910.0, 254000.0], [1130.0, 426000.0], [670.0, 245000.0], [2370.0, 913888.0], [1250.0, 150000.0], [2090.0, 619400.0], [1960.0, 395000.0], [7730.0, 1920000.0], [1780.0, 285000.0], [2510.0, 520000.0], [1830.0, 323000.0], [1200.0, 402000.0], [1500.0, 440000.0], [1350.0, 414500.0], [1600.0, 465000.0], [2413.0, 454950.0], [870.0, 240000.0], [2390.0, 415000.0], [3620.0, 858000.0], [2800.0, 365000.0], [2530.0, 375000.0], [1610.0, 545000.0], [3940.0, 1965000.0], [2200.0, 505000.0], [910.0, 190000.0], [1740.0, 450000.0], [3290.0, 739900.0], [3430.0, 749950.0], [710.0, 375000.0], [2270.0, 420000.0], [1520.0, 230000.0], [3320.0, 799950.0], [1290.0, 647500.0], [3030.0, 529900.0], [710.0, 402000.0], [2060.0, 543000.0], [1280.0, 190000.0], [3910.0, 489000.0], [2490.0, 504750.0], [1340.0, 275000.0], [4690.0, 1945000.0], [1010.0, 405000.0], [1380.0, 240000.0], [1300.0, 650000.0], [2230.0, 590000.0], [2260.0, 599000.0], [2650.0, 745000.0], [1710.0, 637000.0], [1630.0, 339950.0], [2200.0, 285167.0], [2300.0, 482000.0], [2000.0, 244000.0], [2680.0, 502000.0], [1560.0, 239950.0], [1160.0, 375000.0], [2960.0, 389500.0], [1360.0, 222000.0], [3050.0, 890000.0], [3150.0, 1206505.0], [830.0, 175000.0], [1310.0, 455000.0], [1540.0, 690000.0], [1100.0, 280000.0], [1540.0, 475000.0], [1890.0, 322968.0], [2380.0, 574000.0], [3560.0, 882566.0], [4380.0, 1300000.0], [2910.0, 945000.0], [3860.0, 1698888.0], [1381.0, 360000.0], [1530.0, 260000.0], [1860.0, 535000.0], [2320.0, 525000.0], [2410.0, 883000.0], [910.0, 412000.0], [1990.0, 524400.0], [3320.0, 813000.0], [1860.0, 730000.0], [2750.0, 419900.0], [1440.0, 323000.0], [1830.0, 298900.0], [1720.0, 460000.0], [3210.0, 750000.0], [4210.0, 884744.0], [1990.0, 185000.0], [2390.0, 267500.0], [2220.0, 607500.0], [4010.0, 625000.0], [2040.0, 670000.0], [880.0, 241000.0], [1600.0, 356000.0], [1710.0, 353750.0], [1270.0, 433000.0], [1560.0, 250000.0], [1800.0, 305000.0], [980.0, 452000.0], [2290.0, 949880.0], [1830.0, 283000.0], [2330.0, 605000.0], [2060.0, 356250.0], [1800.0, 258500.0], [2340.0, 339900.0], [3060.0, 400000.0], [3790.0, 1600000.0], [1650.0, 273000.0], [2320.0, 364808.0], [1270.0, 343000.0], [2510.0, 825000.0], [1490.0, 437500.0], [1400.0, 545000.0], [3040.0, 330000.0], [1730.0, 510000.0], [2160.0, 532500.0], [4240.0, 1660000.0], [1510.0, 445000.0], [1320.0, 262000.0], [2360.0, 580050.0], [2490.0, 550000.0], [1850.0, 254000.0], [2860.0, 1298000.0], [1750.0, 329950.0], [2740.0, 483500.0], [960.0, 179950.0], [2910.0, 620000.0], [2120.0, 332000.0], [2880.0, 755000.0], [1440.0, 335000.0], [1350.0, 366000.0], [3420.0, 641000.0], [800.0, 330000.0], [1860.0, 384950.0], [960.0, 244000.0], [1360.0, 280000.0], [1700.0, 378000.0], [1520.0, 260000.0], [790.0, 200000.0], [1610.0, 278000.0], [1130.0, 411000.0], [3290.0, 750000.0], [940.0, 329000.0], [2550.0, 537500.0], [1720.0, 683000.0], [2473.0, 343000.0], [1380.0, 335000.0], [3500.0, 905000.0], [2330.0, 690000.0], [4110.0, 935000.0], [3030.0, 525000.0], [1990.0, 270000.0], [1660.0, 269950.0], [1300.0, 175000.0], [3380.0, 435000.0], [1640.0, 362000.0], [1540.0, 345000.0], [1190.0, 500000.0], [2390.0, 420000.0], [2100.0, 356000.0], [840.0, 401000.0], [3280.0, 785500.0], [2010.0, 639500.0], [870.0, 183000.0], [1970.0, 420000.0], [670.0, 202000.0], [1160.0, 284900.0], [1200.0, 320000.0], [1190.0, 195000.0]], \"columns\": [{\"dtype\": \"str\", \"name\": \"id\"}, {\"dtype\": \"datetime\", \"name\": \"date\"}, {\"dtype\": \"float\", \"name\": \"price\"}, {\"dtype\": \"float\", \"name\": \"bedrooms\"}, {\"dtype\": \"float\", \"name\": \"bathrooms\"}, {\"dtype\": \"float\", \"name\": \"sqft_living\"}, {\"dtype\": \"int\", \"name\": \"sqft_lot\"}, {\"dtype\": \"str\", \"name\": \"floors\"}, {\"dtype\": \"int\", \"name\": \"waterfront\"}, {\"dtype\": \"int\", \"name\": \"view\"}, {\"dtype\": \"int\", \"name\": \"condition\"}, {\"dtype\": \"int\", \"name\": \"grade\"}, {\"dtype\": \"int\", \"name\": \"sqft_above\"}, {\"dtype\": \"int\", \"name\": \"sqft_basement\"}, {\"dtype\": \"int\", \"name\": \"yr_built\"}, {\"dtype\": \"int\", \"name\": \"yr_renovated\"}, {\"dtype\": \"str\", \"name\": \"zipcode\"}, {\"dtype\": \"float\", \"name\": \"lat\"}, {\"dtype\": \"float\", \"name\": \"long\"}, {\"dtype\": \"float\", \"name\": \"sqft_living15\"}, {\"dtype\": \"float\", \"name\": \"sqft_lot15\"}]}, e);\n",
       "                });\n",
       "            })();\n",
       "        "
      ]
     },
     "metadata": {},
     "output_type": "display_data"
    }
   ],
   "source": [
    "graphlab.canvas.set_target('ipynb')\n",
    "train_data.show(view=\"Scatter Plot\", x=\"sqft_living\", y=\"price\")"
   ]
  },
  {
   "cell_type": "code",
   "execution_count": 21,
   "metadata": {
    "collapsed": false
   },
   "outputs": [
    {
     "name": "stdout",
     "output_type": "stream",
     "text": [
      "<class 'graphlab.data_structures.sframe.SFrame'>\n"
     ]
    }
   ],
   "source": [
    "print type(train_data)"
   ]
  },
  {
   "cell_type": "code",
   "execution_count": 22,
   "metadata": {
    "collapsed": true
   },
   "outputs": [],
   "source": [
    "house_model = graphlab.linear_regression.create(train_data, target='price', \n",
    "                                                features=['sqft_living'],\n",
    "                                                validation_set=None,verbose=False)"
   ]
  },
  {
   "cell_type": "code",
   "execution_count": 23,
   "metadata": {
    "collapsed": true
   },
   "outputs": [],
   "source": [
    "import matplotlib.pyplot as plt\n",
    "%matplotlib inline"
   ]
  },
  {
   "cell_type": "code",
   "execution_count": 24,
   "metadata": {
    "collapsed": false
   },
   "outputs": [
    {
     "data": {
      "text/plain": [
       "[<matplotlib.lines.Line2D at 0x2b070d30>,\n",
       " <matplotlib.lines.Line2D at 0x2b070dd8>]"
      ]
     },
     "execution_count": 24,
     "metadata": {},
     "output_type": "execute_result"
    },
    {
     "data": {
      "image/png": "[encoded data removed]",
      "text/plain": [
       "<matplotlib.figure.Figure at 0x2aa26b70>"
      ]
     },
     "metadata": {},
     "output_type": "display_data"
    }
   ],
   "source": [
    "plt.plot(train_data['sqft_living'], train_data['price'],'.',\n",
    "        train_data['sqft_living'], house_model.predict(train_data),'-')"
   ]
  },
  {
   "cell_type": "code",
   "execution_count": 25,
   "metadata": {
    "collapsed": false
   },
   "outputs": [
    {
     "name": "stdout",
     "output_type": "stream",
     "text": [
      "+-------------+-------+----------------+---------------+\n",
      "|     name    | index |     value      |     stderr    |\n",
      "+-------------+-------+----------------+---------------+\n",
      "| (intercept) |  None | -47114.0206702 | 4923.34437753 |\n",
      "| sqft_living |  None | 281.957850166  | 2.16405465323 |\n",
      "+-------------+-------+----------------+---------------+\n",
      "[2 rows x 4 columns]\n",
      "\n",
      "intercept =  -47116.0765749 , slope =  281.958838568\n"
     ]
    }
   ],
   "source": [
    "print house_model.get('coefficients')\n",
    "print \"intercept = \", intercept, \", slope = \", slope"
   ]
  },
  {
   "cell_type": "code",
   "execution_count": 28,
   "metadata": {
    "collapsed": false
   },
   "outputs": [],
   "source": [
    "def get_regression_predictions(sqft, intercept, slope):\n",
    "    return 1.0*sqft*slope+intercept"
   ]
  },
  {
   "cell_type": "code",
   "execution_count": 29,
   "metadata": {
    "collapsed": false
   },
   "outputs": [
    {
     "data": {
      "text/plain": [
       "700074.8456294581"
      ]
     },
     "execution_count": 29,
     "metadata": {},
     "output_type": "execute_result"
    }
   ],
   "source": [
    "get_regression_predictions(2650, intercept, slope)"
   ]
  },
  {
   "cell_type": "code",
   "execution_count": 30,
   "metadata": {
    "collapsed": false
   },
   "outputs": [],
   "source": [
    "def predict_price_from_sqft_linear_regression(sqft):\n",
    "    intercept = house_model.get('coefficients')['value'][0]\n",
    "    slope = house_model.get('coefficients')['value'][1]\n",
    "    return 1.0*sqft*slope-intercept"
   ]
  },
  {
   "cell_type": "code",
   "execution_count": 31,
   "metadata": {
    "collapsed": false
   },
   "outputs": [
    {
     "data": {
      "text/plain": [
       "794302.3236100874"
      ]
     },
     "execution_count": 31,
     "metadata": {},
     "output_type": "execute_result"
    }
   ],
   "source": [
    "predict_price_from_sqft_linear_regression(2650)"
   ]
  },
  {
   "cell_type": "markdown",
   "metadata": {},
   "source": [
    "Above is answer to programming quiz Q1\n",
    "\n",
    "Write a function that accepts column of data: ‘input_feature’, and ‘output’ and the regression parameters ‘slope’ and ‘intercept’ and outputs the Residual Sum of Squares (RSS).\n",
    "\n",
    "Recall that the RSS is the sum of the squares of the prediction errors (difference between output and prediction).\n",
    "\n",
    "use this to answer programming quiz Q2"
   ]
  },
  {
   "cell_type": "code",
   "execution_count": null,
   "metadata": {
    "collapsed": true
   },
   "outputs": [],
   "source": []
  },
  {
   "cell_type": "code",
   "execution_count": 17,
   "metadata": {
    "collapsed": false
   },
   "outputs": [],
   "source": [
    "def get_residual_sum_of_squares(input_feature, output, intercept,slope):\n",
    "    RSS = 0\n",
    "    return(RSS)"
   ]
  }
 ],
 "metadata": {
  "kernelspec": {
   "display_name": "Python 2",
   "language": "python",
   "name": "python2"
  },
  "language_info": {
   "codemirror_mode": {
    "name": "ipython",
    "version": 2
   },
   "file_extension": ".py",
   "mimetype": "text/x-python",
   "name": "python",
   "nbconvert_exporter": "python",
   "pygments_lexer": "ipython2",
   "version": "2.7.11"
  }
 },
 "nbformat": 4,
 "nbformat_minor": 0
}
