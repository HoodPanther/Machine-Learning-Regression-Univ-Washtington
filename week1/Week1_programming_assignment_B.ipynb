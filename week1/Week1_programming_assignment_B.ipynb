{
 "cells": [
  {
   "cell_type": "markdown",
   "metadata": {},
   "source": [
    "https://www.coursera.org/learn/ml-regression/supplement/z0Uef/reading-fitting-a-simple-linear-regression-model-on-housing-data"
   ]
  },
  {
   "cell_type": "code",
   "execution_count": 1,
   "metadata": {
    "collapsed": true
   },
   "outputs": [],
   "source": [
    "import graphlab"
   ]
  },
  {
   "cell_type": "code",
   "execution_count": 2,
   "metadata": {
    "collapsed": false
   },
   "outputs": [
    {
     "name": "stdout",
     "output_type": "stream",
     "text": [
      "This non-commercial license of GraphLab Create for academic use is assigned to bmatthewtaylor@gmail.com and will expire on October 27, 2017.\n"
     ]
    },
    {
     "name": "stderr",
     "output_type": "stream",
     "text": [
      "[INFO] graphlab.cython.cy_server: GraphLab Create v2.1 started. Logging: C:\\Users\\bmt\\AppData\\Local\\Temp\\graphlab_server_1481579692.log.0\n"
     ]
    },
    {
     "name": "stdout",
     "output_type": "stream",
     "text": [
      "<class 'graphlab.data_structures.sframe.SFrame'>\n"
     ]
    }
   ],
   "source": [
    "houseData = graphlab.SFrame('../data/kc_house_data.gl/')\n",
    "print type(houseData)"
   ]
  },
  {
   "cell_type": "code",
   "execution_count": 3,
   "metadata": {
    "collapsed": false
   },
   "outputs": [
    {
     "name": "stdout",
     "output_type": "stream",
     "text": [
      "train_data.shape =  (17384, 21)\n",
      "test_data.shape =  (4229, 21)\n"
     ]
    }
   ],
   "source": [
    "train_data,test_data = houseData.random_split(.8,seed=0)\n",
    "print \"train_data.shape = \", train_data.shape\n",
    "print \"test_data.shape = \", test_data.shape"
   ]
  },
  {
   "cell_type": "code",
   "execution_count": 4,
   "metadata": {
    "collapsed": false
   },
   "outputs": [
    {
     "name": "stdout",
     "output_type": "stream",
     "text": [
      "['id', 'date', 'price', 'bedrooms', 'bathrooms', 'sqft_living', 'sqft_lot', 'floors', 'waterfront', 'view', 'condition', 'grade', 'sqft_above', 'sqft_basement', 'yr_built', 'yr_renovated', 'zipcode', 'lat', 'long', 'sqft_living15', 'sqft_lot15']\n"
     ]
    }
   ],
   "source": [
    "#print train_data.head(2)\n",
    "print train_data.column_names()"
   ]
  },
  {
   "cell_type": "code",
   "execution_count": 5,
   "metadata": {
    "collapsed": true
   },
   "outputs": [],
   "source": [
    "def simple_linear_regression(input_feature, output):\n",
    "    \"\"\"\n",
    "    Fits intercept and slope using closed form solution in lectures\n",
    "    \"\"\"\n",
    "    numerator = 0.\n",
    "    sumXY = 0.\n",
    "    sumX = 0.\n",
    "    sumY = 0.\n",
    "    sumXX = 0.\n",
    "    N = len(input_feature)\n",
    "    print \"len(input_feature) = \", len(input_feature), \", len(input_feature) = \", len(input_feature)\n",
    "    print \"calculating sumX, sumY, sumXY, sum XX, long loop.\"\n",
    "    for i in range(N):\n",
    "        sumXY += input_feature[i] * output[i]\n",
    "        sumX += input_feature[i]\n",
    "        sumY += output[i]\n",
    "        sumXX += input_feature[i]*input_feature[i]\n",
    "    print \"N=\", N, \", sumXY = \", sumXY, \", sumX = \", sumX, \", sumY = \", sumY, \", sumXX = \", sumXX\n",
    "    numerator = sumXY*1.0 - (1.0/N)*(1.0*sumX*sumY)\n",
    "    denominator = sumXX*1.0 - (1.0/N)*(1.0*sumX*sumX)\n",
    "    slope = numerator*1.0 / denominator\n",
    "    meanY = sumY*1./N\n",
    "    meanX = sumX*1./N\n",
    "    print \"meanX = \", meanX\n",
    "    print \"meanY = \", meanY\n",
    "    intercept = meanY - meanX*slope\n",
    "    return(intercept, slope)"
   ]
  },
  {
   "cell_type": "code",
   "execution_count": 6,
   "metadata": {
    "collapsed": false
   },
   "outputs": [
    {
     "name": "stdout",
     "output_type": "stream",
     "text": [
      "len(input_feature) =  17384 , len(input_feature) =  17384\n",
      "calculating sumX, sumY, sumXY, sum XX, long loop.\n",
      "N= 17384 , sumXY =  2.36662568479e+13 , sumX =  36159233.0 , sumY =  9376349465.0 , sumXX =  89977452623.0\n",
      "meanX =  2080.02950989\n",
      "meanY =  539366.628221\n",
      "intercept =  -47116.0765749 , slope =  281.958838568\n"
     ]
    }
   ],
   "source": [
    "input_feature = train_data['sqft_living']\n",
    "output = train_data['price']\n",
    "intercept, slope = simple_linear_regression(input_feature, output)\n",
    "print \"intercept = \", intercept, \", slope = \", slope"
   ]
  },
  {
   "cell_type": "code",
   "execution_count": 7,
   "metadata": {
    "collapsed": false
   },
   "outputs": [],
   "source": [
    "def get_regression_predictions(input_feature, intercept, slope):\n",
    "    #[your code here]\n",
    "    predicted_output = 1.0 * input_feature * slope + intercept\n",
    "    return(predicted_output)"
   ]
  },
  {
   "cell_type": "code",
   "execution_count": 8,
   "metadata": {
    "collapsed": false
   },
   "outputs": [
    {
     "name": "stdout",
     "output_type": "stream",
     "text": [
      "700074.845629\n"
     ]
    }
   ],
   "source": [
    "print get_regression_predictions(2650, intercept, slope)\n",
    "#result & answer accepted by autograder = 700074.85"
   ]
  },
  {
   "cell_type": "markdown",
   "metadata": {},
   "source": [
    "Programming Quiz Q1\n",
    "Using your Slope and Intercept from predicting prices from square feet, what is the predicted price for a house with 2650 sqft? Use American-style decimals without comma separators (e.g. 300000.34), and round your answer to 2 decimal places. Do not include the dollar sign.\n",
    "700074.85 accepted by autograder as correct.\n"
   ]
  },
  {
   "cell_type": "markdown",
   "metadata": {},
   "source": [
    "Quiz Question: According to this function and the slope and intercept from (4) What is the RSS for the simple linear regression using squarefeet to predict prices on TRAINING data?"
   ]
  },
  {
   "cell_type": "code",
   "execution_count": 9,
   "metadata": {
    "collapsed": true
   },
   "outputs": [],
   "source": [
    "def get_residual_sum_of_squares(input_feature, output, intercept,slope):\n",
    "    \"\"\"\n",
    "    function accepts column of data: ‘input_feature’, and ‘output’ and the regression parameters ‘slope’ and ‘intercept’ \n",
    "    outputs the Residual Sum of Squares (RSS).\n",
    "    \"\"\"\n",
    "    predicted = []\n",
    "    RSS = 0\n",
    "    for i in range(len(input_feature)):\n",
    "        predicted.append(1.0 * input_feature[i]*slope + intercept)\n",
    "        RSS += (predicted[i] - output[i])**2\n",
    "    #print \"predicted = \", predicted\n",
    "    return(RSS)"
   ]
  },
  {
   "cell_type": "code",
   "execution_count": 10,
   "metadata": {
    "collapsed": false
   },
   "outputs": [
    {
     "data": {
      "text/plain": [
       "1201918356321968.0"
      ]
     },
     "execution_count": 10,
     "metadata": {},
     "output_type": "execute_result"
    }
   ],
   "source": [
    "get_residual_sum_of_squares(input_feature, output, intercept,slope)"
   ]
  },
  {
   "cell_type": "markdown",
   "metadata": {},
   "source": [
    "calc'd result = 1201918356321968.0\n",
    "Quiz 2 - answer = 'Between 1.1e+15 and 1.3e+15'"
   ]
  },
  {
   "cell_type": "markdown",
   "metadata": {},
   "source": [
    "According to the inverse regression function and the regression slope and intercept from predicting prices from square-feet, what is the estimated square-feet for a house costing $800,000?\n",
    "\n",
    "y = slope.x+intercept\n",
    "\n",
    "x = (y - intercept)/slope"
   ]
  },
  {
   "cell_type": "code",
   "execution_count": 11,
   "metadata": {
    "collapsed": true
   },
   "outputs": [],
   "source": [
    "def inverse_regression_predictions(output, intercept, slope):\n",
    "    estimated_input = (1.0*(output - intercept))/slope\n",
    "    return(estimated_input)"
   ]
  },
  {
   "cell_type": "code",
   "execution_count": 12,
   "metadata": {
    "collapsed": false
   },
   "outputs": [
    {
     "data": {
      "text/plain": [
       "3004.396247615945"
      ]
     },
     "execution_count": 12,
     "metadata": {},
     "output_type": "execute_result"
    }
   ],
   "source": [
    "inverse_regression_predictions(800000, intercept, slope)\n",
    "#3004.4 accepted as correct by autograder."
   ]
  },
  {
   "cell_type": "markdown",
   "metadata": {
    "collapsed": true
   },
   "source": [
    "Quiz Q4\n",
    "\n",
    "Which of the two models (square feet or bedrooms) has lower RSS on TEST data?\n",
    "Model 1 (Square feet)\n",
    "Model 2 (Bedrooms)\n",
    "\n",
    "We have RSS for Square Feet (calculated above) replicate this method to calculate RSS for Bedrooms."
   ]
  },
  {
   "cell_type": "code",
   "execution_count": 14,
   "metadata": {
    "collapsed": false
   },
   "outputs": [
    {
     "name": "stdout",
     "output_type": "stream",
     "text": [
      "len(input_feature) =  17384 , len(input_feature) =  17384\n",
      "calculating sumX, sumY, sumXY, sum XX, long loop.\n",
      "N= 17384 , sumXY =  33414715671.0 , sumX =  58573.0 , sumY =  9376349465.0 , sumXX =  211637.0\n",
      "meanX =  3.36936263231\n",
      "meanY =  539366.628221\n",
      "intercept =  109473.180469 , slope =  127588.952175\n"
     ]
    }
   ],
   "source": [
    "#print train_data.column_names()\n",
    "input_feature = train_data['bedrooms']\n",
    "intercept, slope = simple_linear_regression(input_feature, output)\n",
    "print \"intercept = \", intercept, \", slope = \", slope"
   ]
  },
  {
   "cell_type": "code",
   "execution_count": 15,
   "metadata": {
    "collapsed": false
   },
   "outputs": [
    {
     "data": {
      "text/plain": [
       "2143244494226585.0"
      ]
     },
     "execution_count": 15,
     "metadata": {},
     "output_type": "execute_result"
    }
   ],
   "source": [
    "get_residual_sum_of_squares(input_feature, output, intercept,slope)"
   ]
  },
  {
   "cell_type": "markdown",
   "metadata": {},
   "source": [
    "RSS for 'bedrooms'    = 2143244494226585.0\n",
    "RSS for 'sqft_living' = 1201918356321968.0\n",
    "\n",
    "RSS for 'sqft_living' is lower and the answer accepted by the autograder."
   ]
  }
 ],
 "metadata": {
  "kernelspec": {
   "display_name": "Python 2",
   "language": "python",
   "name": "python2"
  },
  "language_info": {
   "codemirror_mode": {
    "name": "ipython",
    "version": 2
   },
   "file_extension": ".py",
   "mimetype": "text/x-python",
   "name": "python",
   "nbconvert_exporter": "python",
   "pygments_lexer": "ipython2",
   "version": "2.7.11"
  }
 },
 "nbformat": 4,
 "nbformat_minor": 0
}
