{
 "cells": [
  {
   "cell_type": "markdown",
   "metadata": {},
   "source": [
    "# Predicting house prices using k-nearest neighbors regression\n",
    "In this notebook, you will implement k-nearest neighbors regression. You will:\n",
    "  * Find the k-nearest neighbors of a given query input\n",
    "  * Predict the output for the query input using the k-nearest neighbors\n",
    "  * Choose the best value of k using a validation set"
   ]
  },
  {
   "cell_type": "markdown",
   "metadata": {},
   "source": [
    "# Fire up GraphLab Create"
   ]
  },
  {
   "cell_type": "code",
   "execution_count": 1,
   "metadata": {
    "collapsed": false
   },
   "outputs": [
    {
     "name": "stdout",
     "output_type": "stream",
     "text": [
      "packages loaded\n"
     ]
    }
   ],
   "source": [
    "import graphlab\n",
    "print \"packages loaded\""
   ]
  },
  {
   "cell_type": "markdown",
   "metadata": {},
   "source": [
    "# Load in house sales data"
   ]
  },
  {
   "cell_type": "markdown",
   "metadata": {},
   "source": [
    "For this notebook, we use a subset of the King County housing dataset created by randomly selecting 40% of the houses in the full dataset."
   ]
  },
  {
   "cell_type": "code",
   "execution_count": 5,
   "metadata": {
    "collapsed": false
   },
   "outputs": [
    {
     "name": "stdout",
     "output_type": "stream",
     "text": [
      "(8703, 21)\n"
     ]
    }
   ],
   "source": [
    "sales = graphlab.SFrame('../data/kc_house_data_small.gl/')\n",
    "print sales.shape"
   ]
  },
  {
   "cell_type": "markdown",
   "metadata": {},
   "source": [
    "# Import useful functions from previous notebooks"
   ]
  },
  {
   "cell_type": "markdown",
   "metadata": {},
   "source": [
    "To efficiently compute pairwise distances among data points, we will convert the SFrame into a 2D Numpy array. First import the numpy library and then copy and paste `get_numpy_data()` from the second notebook of Week 2."
   ]
  },
  {
   "cell_type": "code",
   "execution_count": 7,
   "metadata": {
    "collapsed": false
   },
   "outputs": [
    {
     "name": "stdout",
     "output_type": "stream",
     "text": [
      "packages loaded\n"
     ]
    }
   ],
   "source": [
    "import numpy as np # note this allows us to refer to numpy as np instead\n",
    "print \"packages loaded\""
   ]
  },
  {
   "cell_type": "code",
   "execution_count": 57,
   "metadata": {
    "collapsed": false
   },
   "outputs": [
    {
     "name": "stdout",
     "output_type": "stream",
     "text": [
      "function get_numpy_data loaded\n"
     ]
    }
   ],
   "source": [
    "def get_numpy_data(data_sframe, features, output):\n",
    "    #get_numpy_data(SFrame [m rows x n features], list [n features], output [string =name of column for target column]):\n",
    "    #convert data_sframe from sframe to numpy.ndarray & assign column names from list \n",
    "    #convert output      from sframe to numpy.ndarray\n",
    "    data_sframe['constant'] = 1 # this is how you add a constant column to an SFrame\n",
    "    # add the column 'constant' to the front of the features list so that we can extract it along with the others:\n",
    "    features = ['constant'] + features # this is how you combine two lists\n",
    "    # select the columns of data_SFrame given by the features list into the SFrame features_sframe (now including constant):\n",
    "    features_sframe = data_sframe[features]\n",
    "    # the following line will convert the features_SFrame into a numpy matrix:\n",
    "    feature_matrix = features_sframe.to_numpy()\n",
    "    # assign the column of data_sframe with column name = string value of output to the SArray output_sarray\n",
    "    output_sarray = data_sframe[output]\n",
    "    # the following will convert the SArray into a numpy array\n",
    "    output_array = output_sarray.to_numpy()\n",
    "    return(feature_matrix, output_array)\n",
    "print \"function get_numpy_data loaded\""
   ]
  },
  {
   "cell_type": "markdown",
   "metadata": {},
   "source": [
    "We will also need the `normalize_features()` function from Week 5 that normalizes all feature columns to unit norm. Paste this function below."
   ]
  },
  {
   "cell_type": "code",
   "execution_count": 58,
   "metadata": {
    "collapsed": false
   },
   "outputs": [
    {
     "name": "stdout",
     "output_type": "stream",
     "text": [
      "function normalize_features loaded.\n"
     ]
    }
   ],
   "source": [
    "#compact version\n",
    "def normalize_features(feature_matrix):\n",
    "    #receives numpy.ndarray, calculates norm for each column,\n",
    "    #normalises each column, \n",
    "    #returns normalised numpy.ndarray [same # rows & columns as input] and \n",
    "    # numpy.ndarray [1D array] of norms.\n",
    "    #print \"type(feature_matrix) = \", type(feature_matrix)\n",
    "    #print \"feature_matrix.shape = \", feature_matrix.shape\n",
    "    norms = np.linalg.norm(feature_matrix, axis=0)\n",
    "    features=feature_matrix/norms\n",
    "    return features, norms\n",
    "print \"function normalize_features loaded.\""
   ]
  },
  {
   "cell_type": "markdown",
   "metadata": {},
   "source": [
    "# Split data into training, test, and validation sets"
   ]
  },
  {
   "cell_type": "code",
   "execution_count": 59,
   "metadata": {
    "collapsed": false
   },
   "outputs": [
    {
     "name": "stdout",
     "output_type": "stream",
     "text": [
      "train_and_validation :  <class 'graphlab.data_structures.sframe.SFrame'> ,  (6962, 21)\n",
      "test :  <class 'graphlab.data_structures.sframe.SFrame'> ,  (1741, 21)\n",
      "train :  <class 'graphlab.data_structures.sframe.SFrame'> ,  (5527, 21)\n",
      "validation :  <class 'graphlab.data_structures.sframe.SFrame'> ,  (1435, 21)\n"
     ]
    }
   ],
   "source": [
    "(train_and_validation, test) = sales.random_split(.8, seed=1) # initial train/test split\n",
    "(train, validation) = train_and_validation.random_split(.8, seed=1) # split training set into training and validation sets\n",
    "print \"train_and_validation : \", type(train_and_validation), \", \", train_and_validation.shape\n",
    "print \"test : \", type(test), \", \", test.shape\n",
    "print \"train : \", type(train), \", \", train.shape\n",
    "print \"validation : \", type(validation), \", \", validation.shape"
   ]
  },
  {
   "cell_type": "markdown",
   "metadata": {},
   "source": [
    "# Extract features and normalize"
   ]
  },
  {
   "cell_type": "markdown",
   "metadata": {},
   "source": [
    "Using all of the numerical inputs listed in `feature_list`, transform the training, test, and validation SFrames into Numpy arrays:"
   ]
  },
  {
   "cell_type": "code",
   "execution_count": 60,
   "metadata": {
    "collapsed": false
   },
   "outputs": [
    {
     "name": "stdout",
     "output_type": "stream",
     "text": [
      "len(feature_list) =  17\n",
      "features_train :  <type 'numpy.ndarray'> ,  (5527L, 18L)\n",
      "output_train :  <type 'numpy.ndarray'> ,  (5527L,)\n",
      "features_test :  <type 'numpy.ndarray'> ,  (1741L, 18L)\n",
      "output_test :  <type 'numpy.ndarray'> ,  (1741L,)\n",
      "features_valid :  <type 'numpy.ndarray'> ,  (1435L, 18L)\n",
      "output_valid :  <type 'numpy.ndarray'> ,  (1435L,)\n"
     ]
    }
   ],
   "source": [
    "feature_list = ['bedrooms',  \n",
    "                'bathrooms',  \n",
    "                'sqft_living',  \n",
    "                'sqft_lot',  \n",
    "                'floors',\n",
    "                'waterfront',  \n",
    "                'view',  \n",
    "                'condition',  \n",
    "                'grade',  \n",
    "                'sqft_above',  \n",
    "                'sqft_basement',\n",
    "                'yr_built',  \n",
    "                'yr_renovated',  \n",
    "                'lat',  \n",
    "                'long',  \n",
    "                'sqft_living15',  \n",
    "                'sqft_lot15']\n",
    "print \"len(feature_list) = \", len(feature_list)\n",
    "features_train, output_train = get_numpy_data(train, feature_list, 'price')\n",
    "features_test, output_test = get_numpy_data(test, feature_list, 'price')\n",
    "features_valid, output_valid = get_numpy_data(validation, feature_list, 'price')\n",
    "print \"features_train : \", type(features_train), \", \", features_train.shape\n",
    "print \"output_train : \", type(output_train), \", \", output_train.shape\n",
    "print \"features_test : \", type(features_test), \", \", features_test.shape\n",
    "print \"output_test : \", type(output_test), \", \", output_test.shape\n",
    "print \"features_valid : \", type(features_valid), \", \", features_valid.shape\n",
    "print \"output_valid : \", type(output_valid), \", \", output_valid.shape\n",
    "\n",
    "#notes: \n",
    "#output_train = single column ndarray with same # of rows as features_train\n",
    "#output_test  = single column ndarray with same # of rows as features_test\n",
    "#output_valid = single column ndarray with same # of rows as features_valid\n",
    "\n",
    "# features_train, features_test & features_valid have one more column \n",
    "# than len(feature_list) due to 'constant' (or 'intercept') at start.\n",
    "\n",
    "# features calculated will represent ['constant'] + feature_list"
   ]
  },
  {
   "cell_type": "markdown",
   "metadata": {},
   "source": [
    "In computing distances, it is crucial to normalize features. Otherwise, for example, the `sqft_living` feature (typically on the order of thousands) would exert a much larger influence on distance than the `bedrooms` feature (typically on the order of ones). We divide each column of the training feature matrix by its 2-norm, so that the transformed column has unit norm.\n",
    "\n",
    "IMPORTANT: Make sure to store the norms of the features in the training set. The features in the test and validation sets must be divided by these same norms, so that the training, test, and validation sets are normalized consistently."
   ]
  },
  {
   "cell_type": "code",
   "execution_count": 61,
   "metadata": {
    "collapsed": false
   },
   "outputs": [
    {
     "name": "stdout",
     "output_type": "stream",
     "text": [
      "features_train :  <type 'numpy.ndarray'> ,  (5527L, 18L)\n",
      "norms :  <type 'numpy.ndarray'> ,  (18L,)\n"
     ]
    }
   ],
   "source": [
    "features_train, norms = normalize_features(features_train) \n",
    "\n",
    "print \"features_train : \", type(features_train), \", \", features_train.shape\n",
    "print \"norms : \", type(norms), \", \", norms.shape\n",
    "#NB: norms is single column array with same# rows as features_train\n",
    "\n",
    "# normalize training set features (columns)\n",
    "features_test = features_test / norms \n",
    "# normalize test set by training set norms\n",
    "features_valid = features_valid / norms \n",
    "# normalize validation set by training set norms\n",
    "\n",
    "#NB: norms are calulated on features_train then applied to \n",
    "# features_test & features_valid. This is valid since it is adjusting the\n",
    "# scale/normalisation for the entire data set and needs to be consistent\n",
    "# across train/test/validity data sets."
   ]
  },
  {
   "cell_type": "markdown",
   "metadata": {},
   "source": [
    "# Compute a single distance"
   ]
  },
  {
   "cell_type": "markdown",
   "metadata": {},
   "source": [
    "To start, let's just explore computing the \"distance\" between two given houses.  We will take our **query house** to be the first house of the test set and look at the distance between this house and the 10th house of the training set.\n",
    "\n",
    "To see the features associated with the query house, print the first row (index 0) of the test feature matrix. You should get an 18-dimensional vector whose components are between 0 and 1."
   ]
  },
  {
   "cell_type": "code",
   "execution_count": 62,
   "metadata": {
    "collapsed": false
   },
   "outputs": [
    {
     "data": {
      "text/plain": [
       "array([ 0.01345102,  0.01551285,  0.01807473,  0.01759212,  0.00160518,\n",
       "        0.017059  ,  0.        ,  0.05102365,  0.0116321 ,  0.01564352,\n",
       "        0.01362084,  0.02481682,  0.01350306,  0.        ,  0.01345386,\n",
       "       -0.01346927,  0.01375926,  0.0016225 ])"
      ]
     },
     "execution_count": 62,
     "metadata": {},
     "output_type": "execute_result"
    }
   ],
   "source": [
    "features_test[0]"
   ]
  },
  {
   "cell_type": "markdown",
   "metadata": {},
   "source": [
    "Now print the 10th row (index 9) of the training feature matrix. Again, you get an 18-dimensional vector with components between 0 and 1."
   ]
  },
  {
   "cell_type": "code",
   "execution_count": 63,
   "metadata": {
    "collapsed": false
   },
   "outputs": [
    {
     "data": {
      "text/plain": [
       "array([ 0.01345102,  0.01163464,  0.00602491,  0.0083488 ,  0.00050756,\n",
       "        0.01279425,  0.        ,  0.        ,  0.01938684,  0.01390535,\n",
       "        0.0096309 ,  0.        ,  0.01302544,  0.        ,  0.01346821,\n",
       "       -0.01346254,  0.01195898,  0.00156612])"
      ]
     },
     "execution_count": 63,
     "metadata": {},
     "output_type": "execute_result"
    }
   ],
   "source": [
    "features_train[9]"
   ]
  },
  {
   "cell_type": "markdown",
   "metadata": {},
   "source": [
    "***QUIZ QUESTION ***\n",
    "\n",
    "What is the Euclidean distance between the query house and the 10th house of the training set? \n",
    "\n",
    "Note: Do not use the `np.linalg.norm` function; use `np.sqrt`, `np.sum`, and the power operator (`**`) instead. The latter approach is more easily adapted to computing multiple distances at once."
   ]
  },
  {
   "cell_type": "code",
   "execution_count": 64,
   "metadata": {
    "collapsed": false
   },
   "outputs": [
    {
     "data": {
      "text/plain": [
       "0.059723593716661257"
      ]
     },
     "execution_count": 64,
     "metadata": {},
     "output_type": "execute_result"
    }
   ],
   "source": [
    "#Euclidean distance between points p(p1, p2, p3...pn) and q(q1, q2, q2...qn)\n",
    "# = sum[(q1-p1)^2 + (q2-p2)^2 + (q3-p3)^2 + .... + (qn-pn)^2]\n",
    "np.sqrt( ( (features_train[9] - features_test[0])**2).sum() )"
   ]
  },
  {
   "cell_type": "markdown",
   "metadata": {},
   "source": [
    "# Compute multiple distances"
   ]
  },
  {
   "cell_type": "markdown",
   "metadata": {},
   "source": [
    "Of course, to do nearest neighbor regression, we need to compute the distance between our query house and *all* houses in the training set.  \n",
    "\n",
    "To visualize this nearest-neighbor search, let's first compute the distance from our query house (`features_test[0]`) to the first 10 houses of the training set (`features_train[0:10]`) and then search for the nearest neighbor within this small set of houses.  Through restricting ourselves to a small set of houses to begin with, we can visually scan the list of 10 distances to verify that our code for finding the nearest neighbor is working.\n",
    "\n",
    "Write a loop to compute the Euclidean distance from the query house to each of the first 10 houses in the training set."
   ]
  },
  {
   "cell_type": "code",
   "execution_count": 65,
   "metadata": {
    "collapsed": false
   },
   "outputs": [
    {
     "name": "stdout",
     "output_type": "stream",
     "text": [
      "Euclidean distance between features_train[x] & features_test[0]\n",
      "features_train[ 0 ] :  0.060274709173\n",
      "features_train[ 1 ] :  0.0854688114883\n",
      "features_train[ 2 ] :  0.0614994643712\n",
      "features_train[ 3 ] :  0.0534027397882\n",
      "features_train[ 4 ] :  0.0584448406394\n",
      "features_train[ 5 ] :  0.0598792151018\n",
      "features_train[ 6 ] :  0.0546314049726\n",
      "features_train[ 7 ] :  0.0554310832416\n",
      "features_train[ 8 ] :  0.052383627841\n",
      "features_train[ 9 ] :  0.0597235937167\n"
     ]
    }
   ],
   "source": [
    "print \"Euclidean distance between features_train[x] & features_test[0]\"\n",
    "dist = []\n",
    "for i in range(10):\n",
    "    dist.append( np.sqrt( ( (features_train[i] - features_test[0])**2).sum() ) )\n",
    "    print \"features_train[\", i, \"] : \", dist[i]"
   ]
  },
  {
   "cell_type": "markdown",
   "metadata": {},
   "source": [
    "*** QUIZ QUESTION ***\n",
    "\n",
    "Among the first 10 training houses, which house is the closest to the query house?"
   ]
  },
  {
   "cell_type": "code",
   "execution_count": 66,
   "metadata": {
    "collapsed": false
   },
   "outputs": [
    {
     "name": "stdout",
     "output_type": "stream",
     "text": [
      "min euclidian distance =  0.052383627841  at index= 8\n"
     ]
    }
   ],
   "source": [
    "print \"min euclidian distance = \", min(dist), \" at index=\", dist.index(min(dist))"
   ]
  },
  {
   "cell_type": "markdown",
   "metadata": {},
   "source": [
    "It is computationally inefficient to loop over computing distances to all houses in our training dataset. Fortunately, many of the Numpy functions can be **vectorized**, applying the same operation over multiple values or vectors.  We now walk through this process."
   ]
  },
  {
   "cell_type": "markdown",
   "metadata": {},
   "source": [
    "Consider the following loop that computes the element-wise difference between the features of the query house (`features_test[0]`) and the first 3 training houses (`features_train[0:3]`):"
   ]
  },
  {
   "cell_type": "code",
   "execution_count": 67,
   "metadata": {
    "collapsed": false,
    "scrolled": false
   },
   "outputs": [
    {
     "name": "stdout",
     "output_type": "stream",
     "text": [
      "[  0.00000000e+00  -3.87821276e-03  -1.20498190e-02  -1.05552733e-02\n",
      "   2.08673616e-04  -8.52950206e-03   0.00000000e+00  -5.10236549e-02\n",
      "   0.00000000e+00  -3.47633726e-03  -5.50336860e-03  -2.48168183e-02\n",
      "  -1.63756198e-04   0.00000000e+00  -1.70072004e-05   1.30577772e-05\n",
      "  -5.14364795e-03   6.69281453e-04]\n",
      "[  0.00000000e+00  -3.87821276e-03  -4.51868214e-03  -2.26610387e-03\n",
      "   7.19763456e-04   0.00000000e+00   0.00000000e+00  -5.10236549e-02\n",
      "   0.00000000e+00  -3.47633726e-03   1.30705004e-03  -1.45830788e-02\n",
      "  -1.91048898e-04   6.65082271e-02   4.23240653e-05   6.22415897e-06\n",
      "  -2.89330197e-03   1.47606982e-03]\n",
      "[  0.00000000e+00  -7.75642553e-03  -1.20498190e-02  -1.30002801e-02\n",
      "   1.60518166e-03  -8.52950206e-03   0.00000000e+00  -5.10236549e-02\n",
      "   0.00000000e+00  -5.21450589e-03  -8.32384500e-03  -2.48168183e-02\n",
      "  -3.13866046e-04   0.00000000e+00   4.71047219e-05   1.56530415e-05\n",
      "   3.72914476e-03   1.64764925e-03]\n"
     ]
    }
   ],
   "source": [
    "for i in xrange(3):\n",
    "    print features_train[i]-features_test[0]\n",
    "    # should print 3 vectors of length 18"
   ]
  },
  {
   "cell_type": "markdown",
   "metadata": {},
   "source": [
    "The subtraction operator (`-`) in Numpy is vectorized as follows:"
   ]
  },
  {
   "cell_type": "code",
   "execution_count": 68,
   "metadata": {
    "collapsed": false
   },
   "outputs": [
    {
     "name": "stdout",
     "output_type": "stream",
     "text": [
      "[[  0.00000000e+00  -3.87821276e-03  -1.20498190e-02  -1.05552733e-02\n",
      "    2.08673616e-04  -8.52950206e-03   0.00000000e+00  -5.10236549e-02\n",
      "    0.00000000e+00  -3.47633726e-03  -5.50336860e-03  -2.48168183e-02\n",
      "   -1.63756198e-04   0.00000000e+00  -1.70072004e-05   1.30577772e-05\n",
      "   -5.14364795e-03   6.69281453e-04]\n",
      " [  0.00000000e+00  -3.87821276e-03  -4.51868214e-03  -2.26610387e-03\n",
      "    7.19763456e-04   0.00000000e+00   0.00000000e+00  -5.10236549e-02\n",
      "    0.00000000e+00  -3.47633726e-03   1.30705004e-03  -1.45830788e-02\n",
      "   -1.91048898e-04   6.65082271e-02   4.23240653e-05   6.22415897e-06\n",
      "   -2.89330197e-03   1.47606982e-03]\n",
      " [  0.00000000e+00  -7.75642553e-03  -1.20498190e-02  -1.30002801e-02\n",
      "    1.60518166e-03  -8.52950206e-03   0.00000000e+00  -5.10236549e-02\n",
      "    0.00000000e+00  -5.21450589e-03  -8.32384500e-03  -2.48168183e-02\n",
      "   -3.13866046e-04   0.00000000e+00   4.71047219e-05   1.56530415e-05\n",
      "    3.72914476e-03   1.64764925e-03]]\n"
     ]
    }
   ],
   "source": [
    "print features_train[0:3] - features_test[0]"
   ]
  },
  {
   "cell_type": "markdown",
   "metadata": {},
   "source": [
    "Note that the output of this vectorized operation is identical to that of the loop above, which can be verified below:"
   ]
  },
  {
   "cell_type": "code",
   "execution_count": 69,
   "metadata": {
    "collapsed": false
   },
   "outputs": [
    {
     "name": "stdout",
     "output_type": "stream",
     "text": [
      "[ 0.  0.  0.  0.  0.  0.  0.  0.  0.  0.  0.  0.  0.  0.  0.  0.  0.  0.]\n",
      "[ 0.  0.  0.  0.  0.  0.  0.  0.  0.  0.  0.  0.  0.  0.  0.  0.  0.  0.]\n",
      "[ 0.  0.  0.  0.  0.  0.  0.  0.  0.  0.  0.  0.  0.  0.  0.  0.  0.  0.]\n"
     ]
    }
   ],
   "source": [
    "# verify that vectorization works\n",
    "results = features_train[0:3] - features_test[0]\n",
    "print results[0] - (features_train[0]-features_test[0])\n",
    "# should print all 0's if results[0] == (features_train[0]-features_test[0])\n",
    "print results[1] - (features_train[1]-features_test[0])\n",
    "# should print all 0's if results[1] == (features_train[1]-features_test[0])\n",
    "print results[2] - (features_train[2]-features_test[0])\n",
    "# should print all 0's if results[2] == (features_train[2]-features_test[0])"
   ]
  },
  {
   "cell_type": "markdown",
   "metadata": {},
   "source": [
    "Aside: it is a good idea to write tests like this cell whenever you are vectorizing a complicated operation."
   ]
  },
  {
   "cell_type": "markdown",
   "metadata": {},
   "source": [
    "# Perform 1-nearest neighbor regression\n",
    "\n",
    "Now that we have the element-wise differences, it is not too hard to compute the Euclidean distances between our query house and all of the training houses. First, write a single-line expression to define a variable `diff` such that `diff[i]` gives the element-wise difference between the features of the query house and the `i`-th training house."
   ]
  },
  {
   "cell_type": "code",
   "execution_count": 70,
   "metadata": {
    "collapsed": false
   },
   "outputs": [
    {
     "name": "stdout",
     "output_type": "stream",
     "text": [
      "<type 'numpy.ndarray'> (5527L, 18L)\n",
      "<type 'numpy.ndarray'> (18L,)\n"
     ]
    }
   ],
   "source": [
    "#diff[i] = i-th training house - features_test[0] for all i.\n",
    "diff=features_train-features_test[0]\n",
    "print type(features_train), features_train.shape\n",
    "print type(features_test[0]), features_test[0].shape"
   ]
  },
  {
   "cell_type": "markdown",
   "metadata": {},
   "source": [
    "To test the code above, run the following cell, which should output a value -0.0934339605842:"
   ]
  },
  {
   "cell_type": "code",
   "execution_count": 71,
   "metadata": {
    "collapsed": false
   },
   "outputs": [
    {
     "name": "stdout",
     "output_type": "stream",
     "text": [
      "-0.0934339605842\n",
      "diff :  <type 'numpy.ndarray'> (5527L, 18L)\n",
      "diff[-1] :  <type 'numpy.ndarray'> (18L,)\n",
      "diff[-1] = \n",
      "[  0.00000000e+00  -3.87821276e-03  -3.01245476e-03  -8.46807236e-03\n",
      "  -1.24208957e-03   8.52950206e-03   0.00000000e+00  -5.10236549e-02\n",
      "   0.00000000e+00  -1.73816863e-03  -3.09564484e-03  -2.48168183e-02\n",
      "   2.04695248e-04   0.00000000e+00   3.61763127e-05   3.22568982e-06\n",
      "  -3.92203156e-03  -1.01041218e-03]\n"
     ]
    }
   ],
   "source": [
    "print diff[-1].sum() \n",
    "# sum of the feature differences between the query and last training house\n",
    "# NB: diff[-1] = last row of diff.\n",
    "# should print -0.0934339605842\n",
    "print \"diff : \", type(diff), diff.shape\n",
    "print \"diff[-1] : \", type(diff[-1]), diff[-1].shape\n",
    "print \"diff[-1] = \\n\", diff[-1]\n"
   ]
  },
  {
   "cell_type": "markdown",
   "metadata": {},
   "source": [
    "The next step in computing the Euclidean distances is to take these feature-by-feature differences in `diff`, square each, and take the sum over feature indices.  That is, compute the sum of square feature differences for each training house (row in `diff`).\n",
    "\n",
    "By default, `np.sum` sums up everything in the matrix and returns a single number. To instead sum only over a row or column, we need to specifiy the `axis` parameter described in the `np.sum` [documentation](http://docs.scipy.org/doc/numpy-1.10.1/reference/generated/numpy.sum.html). In particular, `axis=1` computes the sum across each row.\n",
    "\n",
    "Below, we compute this sum of square feature differences for all training houses and verify that the output for the 16th house in the training set is equivalent to having examined only the 16th row of `diff` and computing the sum of squares on that row alone."
   ]
  },
  {
   "cell_type": "code",
   "execution_count": 72,
   "metadata": {
    "collapsed": false
   },
   "outputs": [
    {
     "name": "stdout",
     "output_type": "stream",
     "text": [
      "0.00330705902879\n",
      "0.00330705902879\n"
     ]
    }
   ],
   "source": [
    "#NB: 16th row = index position #15.\n",
    "#https://docs.scipy.org/doc/numpy/reference/generated/numpy.sum.html\n",
    "#axis=0 : sum down columns, axis=1 : sum across rows\n",
    "print np.sum(diff**2, axis=1)[15] # take sum of squares across each row, and print the 16th sum\n",
    "print np.sum(diff[15]**2) # print the sum of squares for the 16th row -- should be same as above"
   ]
  },
  {
   "cell_type": "markdown",
   "metadata": {},
   "source": [
    "With this result in mind, write a single-line expression to compute the Euclidean distances between the query house and all houses in the training set. Assign the result to a variable `distances`.\n",
    "\n",
    "**Hint**: Do not forget to take the square root of the sum of squares."
   ]
  },
  {
   "cell_type": "code",
   "execution_count": 73,
   "metadata": {
    "collapsed": false
   },
   "outputs": [
    {
     "name": "stdout",
     "output_type": "stream",
     "text": [
      "<type 'numpy.ndarray'> (5527L, 18L)\n",
      "<type 'numpy.ndarray'> (5527L,)\n",
      "(5526L,)\n"
     ]
    }
   ],
   "source": [
    "#Euclidean distances between the query house and all houses in the training set.\n",
    "#recall : diff[i] = i-th training house - features_test[0] for all i.\n",
    "#diff=features_train-features_test[0]\n",
    "# np.sum(diff**2, axis=1) = sum across rows of diff^2\n",
    "temp = diff**2\n",
    "print type(temp), temp.shape   #<type 'numpy.ndarray'> (5527L, 18L)\n",
    "temp = np.sum(diff**2, axis=1) \n",
    "print type(temp), temp.shape   #<type 'numpy.ndarray'> (5527L,)\n",
    "print np.sum(diff**2, axis=1)[0:-1].shape \n",
    "#(5526L,) : excludes last element \n",
    "# np.sum(diff**2, axis=1)[0:-1] = sum elements & exclude last element.\n",
    "\n",
    "#1. calc diff between training features & 0th feature in test set.\n",
    "#2. square and sum elements. exclude last element because ???\n",
    "#  (nb: sum w axis=1 = sum over rows, requ'd since diff**2 is a single row ndarray)\n",
    "#3. \n",
    "distances= np.sqrt(np.sum(diff**2, axis=1)[0:-1])"
   ]
  },
  {
   "cell_type": "markdown",
   "metadata": {},
   "source": [
    "To test the code above, run the following cell, which should output a value 0.0237082324496:"
   ]
  },
  {
   "cell_type": "code",
   "execution_count": 74,
   "metadata": {
    "collapsed": false
   },
   "outputs": [
    {
     "name": "stdout",
     "output_type": "stream",
     "text": [
      "0.0237082324496\n"
     ]
    }
   ],
   "source": [
    "print distances[100] # Euclidean distance between the query house and the 101th training house\n",
    "# should print 0.0237082324496"
   ]
  },
  {
   "cell_type": "markdown",
   "metadata": {},
   "source": [
    "Now you are ready to write a function that computes the distances from a query house to all training houses. The function should take two parameters: (i) the matrix of training features and (ii) the single feature vector associated with the query."
   ]
  },
  {
   "cell_type": "code",
   "execution_count": 75,
   "metadata": {
    "collapsed": false
   },
   "outputs": [
    {
     "name": "stdout",
     "output_type": "stream",
     "text": [
      "function get_dist created\n"
     ]
    }
   ],
   "source": [
    "def get_dist(features_train, query_house):\n",
    "    #features_train to be m x n ndarray, m elements x n features\n",
    "    #query_house to be single column ndarray = n features for 1 house\n",
    "    #returns single column ndarray of euclidian distances \n",
    "    #between query_house & elements of features_train\n",
    "    diff = features_train - query_house\n",
    "    #diff is m x n ndarray\n",
    "    distances = np.sqrt(np.sum(diff**2, axis=1)[0:-1])\n",
    "    return distances\n",
    "print \"function get_dist created\""
   ]
  },
  {
   "cell_type": "markdown",
   "metadata": {
    "collapsed": false
   },
   "source": [
    "*** QUIZ QUESTIONS ***\n",
    "\n",
    "1.  Take the query house to be third house of the test set (`features_test[2]`).  What is the index of the house in the training set that is closest to this query house?\n",
    "2.  What is the predicted value of the query house based on 1-nearest neighbor regression?"
   ]
  },
  {
   "cell_type": "code",
   "execution_count": 80,
   "metadata": {
    "collapsed": false
   },
   "outputs": [
    {
     "name": "stdout",
     "output_type": "stream",
     "text": [
      "<type 'numpy.ndarray'> (5526L,)\n",
      "minimun distance =  0.00286049526751\n",
      "position of minimun =  382\n"
     ]
    }
   ],
   "source": [
    "distances = get_dist(features_train,features_test[2])\n",
    "print type(distances), distances.shape\n",
    "print \"minimun distance = \", np.amin(distances, axis=0)\n",
    "#https://docs.scipy.org/doc/numpy/reference/generated/numpy.amin.html\n",
    "#NB: need to take min across axis=0 since this is a single column ndarray.\n",
    "#NBB: if attempt to take min across axis=0 then get error.\n",
    "#axis=0 : sum down columns, axis=1 : sum across rows\n",
    "posMinimun = np.argmin(distances)\n",
    "#https://docs.scipy.org/doc/numpy/reference/generated/numpy.argmin.html\n",
    "#Returns the indices of the minimum values along an axis.\n",
    "#axis : int, optional\n",
    "#By default, the index is into the flattened array, otherwise along the specified axis.\n",
    "#since distances is a flattened array we dont need to specify axis.\n",
    "print \"position of minimun = \", posMinimun"
   ]
  },
  {
   "cell_type": "code",
   "execution_count": 56,
   "metadata": {
    "collapsed": false
   },
   "outputs": [
    {
     "name": "stdout",
     "output_type": "stream",
     "text": [
      "249000\n"
     ]
    }
   ],
   "source": [
    "# recall : features_train, output_train = get_numpy_data(train, feature_list, 'price')\n",
    "print  output_train[posMinimun]"
   ]
  },
  {
   "cell_type": "markdown",
   "metadata": {},
   "source": [
    "# Perform k-nearest neighbor regression"
   ]
  },
  {
   "cell_type": "markdown",
   "metadata": {},
   "source": [
    "For k-nearest neighbors, we need to find a *set* of k houses in the training set closest to a given query house. We then make predictions based on these k nearest neighbors."
   ]
  },
  {
   "cell_type": "markdown",
   "metadata": {},
   "source": [
    "## Fetch k-nearest neighbors\n",
    "\n",
    "Using the functions above, implement a function that takes in\n",
    " * the value of k;\n",
    " * the feature matrix for the training houses; and\n",
    " * the feature vector of the query house\n",
    " \n",
    "and returns the indices of the k closest training houses. For instance, with 2-nearest neighbor, a return value of [5, 10] would indicate that the 6th and 11th training houses are closest to the query house.\n",
    "\n",
    "**Hint**: Look at the [documentation for `np.argsort`](http://docs.scipy.org/doc/numpy/reference/generated/numpy.argsort.html)."
   ]
  },
  {
   "cell_type": "code",
   "execution_count": 81,
   "metadata": {
    "collapsed": false
   },
   "outputs": [
    {
     "name": "stdout",
     "output_type": "stream",
     "text": [
      "function knearest loaded\n"
     ]
    }
   ],
   "source": [
    "def knearest(k, features_train, feature_query):\n",
    "    #k [int] : number of nearest neighbours to return\n",
    "    #features_train [numpy.ndarray] : training data, matrix of m rows x n features\n",
    "    #feature_query [numpy.ndarray] : test data, row of n features.\n",
    "    #calc distances of houses in features_train from house in feature_query\n",
    "    distances=get_dist(features_train, feature_query)\n",
    "    \n",
    "    #sort distances into ascending order\n",
    "    #https://docs.scipy.org/doc/numpy/reference/generated/numpy.argsort.html\n",
    "    #numpy.argsort(a, axis=-1, kind='quicksort', order=None)[source]\n",
    "    #Returns:index_array : ndarray, int\n",
    "    indices=np.argsort(distances)\n",
    "    \n",
    "    #select indices of first k houses sorted by distance.\n",
    "    return indices[0:k]\n",
    "\n",
    "print \"function knearest loaded\""
   ]
  },
  {
   "cell_type": "markdown",
   "metadata": {},
   "source": [
    "*** QUIZ QUESTION ***\n",
    "\n",
    "Take the query house to be third house of the test set (`features_test[2]`).  What are the indices of the 4 training houses closest to the query house?"
   ]
  },
  {
   "cell_type": "code",
   "execution_count": 84,
   "metadata": {
    "collapsed": false
   },
   "outputs": [
    {
     "name": "stdout",
     "output_type": "stream",
     "text": [
      "indices of the 4 training houses closest to the query house = \n",
      "[ 382 1149 4087 3142]\n"
     ]
    }
   ],
   "source": [
    "indices = knearest(4, features_train, features_test[2])\n",
    "print \"indices of the 4 training houses closest to the query house = \\n\", indices"
   ]
  },
  {
   "cell_type": "markdown",
   "metadata": {},
   "source": [
    "## Make a single prediction by averaging k nearest neighbor outputs"
   ]
  },
  {
   "cell_type": "markdown",
   "metadata": {},
   "source": [
    "Now that we know how to find the k-nearest neighbors, write a function that predicts the value of a given query house. **For simplicity, take the average of the prices of the k nearest neighbors in the training set**. The function should have the following parameters:\n",
    " * the value of k;\n",
    " * the feature matrix for the training houses;\n",
    " * the output values (prices) of the training houses; and\n",
    " * the feature vector of the query house, whose price we are predicting.\n",
    " \n",
    "The function should return a predicted value of the query house.\n",
    "\n",
    "**Hint**: You can extract multiple items from a Numpy array using a list of indices. For instance, `output_train[[6, 10]]` returns the prices of the 7th and 11th training houses."
   ]
  },
  {
   "cell_type": "code",
   "execution_count": 85,
   "metadata": {
    "collapsed": false
   },
   "outputs": [
    {
     "name": "stdout",
     "output_type": "stream",
     "text": [
      "function predict loaded.\n"
     ]
    }
   ],
   "source": [
    "def predict(k, features_train, output, feature_query):\n",
    "    #k [int] : k nearest values to use\n",
    "    #features_train [numpy.ndarray] : training data, matrix of m rows x n features\n",
    "    #output [numpy.ndarray] : m rows x single column - prices of training set houses we are predicting\n",
    "    #feature_query [numpy.ndarray] :  feature vector of the query house, whose price we are predicting.\n",
    "    #ie feature_query will be single row vector.\n",
    "    indices = knearest(k,features_train, feature_query)\n",
    "    #now find prices for houses corresponding to indices.\n",
    "    prices = output[indices]\n",
    "    #returns average of prices obtained.\n",
    "    #NB: mult by 1.0 to ensure function returns float. \n",
    "    #(likely redundant since prices were likely originally floats)\n",
    "    return 1.0*prices.sum()/k\n",
    "print \"function predict loaded.\""
   ]
  },
  {
   "cell_type": "markdown",
   "metadata": {},
   "source": [
    "*** QUIZ QUESTION ***\n",
    "\n",
    "Again taking the query house to be third house of the test set (`features_test[2]`), predict the value of the query house using k-nearest neighbors with `k=4` and the simple averaging method described and implemented above."
   ]
  },
  {
   "cell_type": "code",
   "execution_count": 91,
   "metadata": {
    "collapsed": false
   },
   "outputs": [
    {
     "name": "stdout",
     "output_type": "stream",
     "text": [
      "predicted price for features_test[2] using k nearest neighbours (k=4) =  413987.5\n",
      "output_test[2] =  438000\n",
      "predicted price for features_test[2] using k nearest neighbours (k=1) =  249000.0\n"
     ]
    }
   ],
   "source": [
    "predicted = predict(4, features_train, output_train, features_test[2])\n",
    "print \"predicted price for features_test[2] using k nearest neighbours (k=4) = \", predicted\n",
    "print \"output_test[2] = \", output_test[2]\n",
    "predictedk1 = predict(1, features_train, output_train, features_test[2])\n",
    "print \"predicted price for features_test[2] using k nearest neighbours (k=1) = \", predictedk1\n",
    "#todo: do prediction using 1-nearest neighbour method instead of k=1 and k-nearest neighbour method.\n",
    "#NB: this is likely example of averaging error as demo'd in lecture."
   ]
  },
  {
   "cell_type": "markdown",
   "metadata": {},
   "source": [
    "Compare this predicted value using 4-nearest neighbors to the predicted value using 1-nearest neighbor computed earlier."
   ]
  },
  {
   "cell_type": "markdown",
   "metadata": {},
   "source": [
    "## Make multiple predictions"
   ]
  },
  {
   "cell_type": "markdown",
   "metadata": {},
   "source": [
    "Write a function to predict the value of *each and every* house in a query set. (The query set can be any subset of the dataset, be it the test set or validation set.) The idea is to have a loop where we take each house in the query set as the query house and make a prediction for that specific house. The new function should take the following parameters:\n",
    " * the value of k;\n",
    " * the feature matrix for the training houses;\n",
    " * the output values (prices) of the training houses; and\n",
    " * the feature matrix for the query set.\n",
    " \n",
    "The function should return a set of predicted values, one for each house in the query set.\n",
    "\n",
    "**Hint**: To get the number of houses in the query set, use the `.shape` field of the query features matrix. See [the documentation](http://docs.scipy.org/doc/numpy-1.10.1/reference/generated/numpy.ndarray.shape.html)."
   ]
  },
  {
   "cell_type": "code",
   "execution_count": null,
   "metadata": {
    "collapsed": true
   },
   "outputs": [],
   "source": []
  },
  {
   "cell_type": "markdown",
   "metadata": {},
   "source": [
    "*** QUIZ QUESTION ***\n",
    "\n",
    "Make predictions for the first 10 houses in the test set using k-nearest neighbors with `k=10`. \n",
    "\n",
    "1. What is the index of the house in this query set that has the lowest predicted value? \n",
    "2. What is the predicted value of this house?"
   ]
  },
  {
   "cell_type": "code",
   "execution_count": null,
   "metadata": {
    "collapsed": false
   },
   "outputs": [],
   "source": []
  },
  {
   "cell_type": "markdown",
   "metadata": {},
   "source": [
    "## Choosing the best value of k using a validation set"
   ]
  },
  {
   "cell_type": "markdown",
   "metadata": {},
   "source": [
    "There remains a question of choosing the value of k to use in making predictions. Here, we use a validation set to choose this value. Write a loop that does the following:\n",
    "\n",
    "* For `k` in [1, 2, ..., 15]:\n",
    "    * Makes predictions for each house in the VALIDATION set using the k-nearest neighbors from the TRAINING set.\n",
    "    * Computes the RSS for these predictions on the VALIDATION set\n",
    "    * Stores the RSS computed above in `rss_all`\n",
    "* Report which `k` produced the lowest RSS on VALIDATION set."
   ]
  },
  {
   "cell_type": "markdown",
   "metadata": {},
   "source": [
    "(Depending on your computing environment, this computation may take 10-15 minutes.)"
   ]
  },
  {
   "cell_type": "code",
   "execution_count": null,
   "metadata": {
    "collapsed": false
   },
   "outputs": [],
   "source": []
  },
  {
   "cell_type": "markdown",
   "metadata": {
    "collapsed": false
   },
   "source": [
    "To visualize the performance as a function of `k`, plot the RSS on the VALIDATION set for each considered `k` value:"
   ]
  },
  {
   "cell_type": "code",
   "execution_count": null,
   "metadata": {
    "collapsed": true
   },
   "outputs": [],
   "source": [
    "import matplotlib.pyplot as plt\n",
    "%matplotlib inline\n",
    "\n",
    "kvals = range(1, 16)\n",
    "plt.plot(kvals, rss_all,'bo-')"
   ]
  },
  {
   "cell_type": "markdown",
   "metadata": {},
   "source": [
    "***QUIZ QUESTION ***\n",
    "\n",
    "What is the RSS on the TEST data using the value of k found above?  To be clear, sum over all houses in the TEST set."
   ]
  },
  {
   "cell_type": "code",
   "execution_count": null,
   "metadata": {
    "collapsed": false
   },
   "outputs": [],
   "source": []
  }
 ],
 "metadata": {
  "kernelspec": {
   "display_name": "Python 2",
   "language": "python",
   "name": "python2"
  },
  "language_info": {
   "codemirror_mode": {
    "name": "ipython",
    "version": 2
   },
   "file_extension": ".py",
   "mimetype": "text/x-python",
   "name": "python",
   "nbconvert_exporter": "python",
   "pygments_lexer": "ipython2",
   "version": "2.7.11"
  }
 },
 "nbformat": 4,
 "nbformat_minor": 0
}
