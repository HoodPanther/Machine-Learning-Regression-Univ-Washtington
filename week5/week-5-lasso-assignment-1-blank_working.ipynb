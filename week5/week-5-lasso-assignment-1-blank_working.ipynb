{
 "cells": [
  {
   "cell_type": "markdown",
   "metadata": {},
   "source": [
    "# Regression Week 5: Feature Selection and LASSO (Interpretation)"
   ]
  },
  {
   "cell_type": "markdown",
   "metadata": {},
   "source": [
    "In this notebook, you will use LASSO to select features, building on a pre-implemented solver for LASSO (using GraphLab Create, though you can use other solvers). You will:\n",
    "* Run LASSO with different L1 penalties.\n",
    "* Choose best L1 penalty using a validation set.\n",
    "* Choose best L1 penalty using a validation set, with additional constraint on the size of subset.\n",
    "\n",
    "In the second notebook, you will implement your own LASSO solver, using coordinate descent. "
   ]
  },
  {
   "cell_type": "markdown",
   "metadata": {},
   "source": [
    "# Fire up Graphlab Create"
   ]
  },
  {
   "cell_type": "code",
   "execution_count": 2,
   "metadata": {
    "collapsed": true
   },
   "outputs": [],
   "source": [
    "import graphlab\n",
    "import numpy as np"
   ]
  },
  {
   "cell_type": "markdown",
   "metadata": {},
   "source": [
    "# Load in house sales data\n",
    "\n",
    "Dataset is from house sales in King County, the region where the city of Seattle, WA is located."
   ]
  },
  {
   "cell_type": "code",
   "execution_count": 3,
   "metadata": {
    "collapsed": false,
    "scrolled": true
   },
   "outputs": [
    {
     "name": "stdout",
     "output_type": "stream",
     "text": [
      "This non-commercial license of GraphLab Create for academic use is assigned to bmatthewtaylor@gmail.com and will expire on October 27, 2017.\n"
     ]
    },
    {
     "name": "stderr",
     "output_type": "stream",
     "text": [
      "[INFO] graphlab.cython.cy_server: GraphLab Create v2.1 started. Logging: C:\\Users\\username\\AppData\\Local\\Temp\\graphlab_server_1483582806.log.0\n"
     ]
    },
    {
     "name": "stdout",
     "output_type": "stream",
     "text": [
      "(21613, 21)\n"
     ]
    }
   ],
   "source": [
    "sales = graphlab.SFrame('../data/kc_house_data.gl/')\n",
    "print sales.shape"
   ]
  },
  {
   "cell_type": "markdown",
   "metadata": {},
   "source": [
    "# Create new features"
   ]
  },
  {
   "cell_type": "markdown",
   "metadata": {},
   "source": [
    "As in Week 2, we consider features that are some transformations of inputs."
   ]
  },
  {
   "cell_type": "code",
   "execution_count": 5,
   "metadata": {
    "collapsed": false
   },
   "outputs": [
    {
     "name": "stdout",
     "output_type": "stream",
     "text": [
      "['id', 'date', 'price', 'bedrooms', 'bathrooms', 'sqft_living', 'sqft_lot', 'floors', 'waterfront', 'view', 'condition', 'grade', 'sqft_above', 'sqft_basement', 'yr_built', 'yr_renovated', 'zipcode', 'lat', 'long', 'sqft_living15', 'sqft_lot15', 'sqft_living_sqrt', 'sqft_lot_sqrt', 'bedrooms_square', 'floors_square']\n",
      "(21613, 25)\n"
     ]
    }
   ],
   "source": [
    "from math import log, sqrt\n",
    "sales['sqft_living_sqrt'] = sales['sqft_living'].apply(sqrt)\n",
    "#create additional column sqrt('sqft_living')\n",
    "sales['sqft_lot_sqrt'] = sales['sqft_lot'].apply(sqrt)\n",
    "#create additional column sqrt('sqft_lot')\n",
    "sales['bedrooms_square'] = sales['bedrooms']*sales['bedrooms']\n",
    "#create additional column 'bedrooms'^2\n",
    "\n",
    "# In the dataset, 'floors' was defined with type string, \n",
    "# so we'll convert them to float, before creating a new feature.\n",
    "sales['floors'] = sales['floors'].astype(float) \n",
    "# convert column from string to float\n",
    "sales['floors_square'] = sales['floors']*sales['floors']\n",
    "#create new column 'floors'^2\n",
    "print sales.column_names()\n",
    "print sales.shape  #nb: additional 4 columns"
   ]
  },
  {
   "cell_type": "markdown",
   "metadata": {},
   "source": [
    "* Squaring bedrooms will increase the separation between not many bedrooms (e.g. 1) and lots of bedrooms (e.g. 4) since 1^2 = 1 but 4^2 = 16. Consequently this variable will mostly affect houses with many bedrooms.\n",
    "* On the other hand, taking square root of sqft_living will decrease the separation between big house and small house. The owner may not be exactly twice as happy for getting a house that is twice as big."
   ]
  },
  {
   "cell_type": "markdown",
   "metadata": {},
   "source": [
    "# Learn regression weights with L1 penalty"
   ]
  },
  {
   "cell_type": "markdown",
   "metadata": {},
   "source": [
    "Let us fit a model with all the features available, plus the features we just created above."
   ]
  },
  {
   "cell_type": "markdown",
   "metadata": {},
   "source": [
    "Applying L1 penalty requires adding an extra parameter (`l1_penalty`) to the linear regression call in GraphLab Create. (Other tools may have separate implementations of LASSO.)  Note that it's important to set `l2_penalty=0` to ensure we don't introduce an additional L2 penalty."
   ]
  },
  {
   "cell_type": "code",
   "execution_count": 7,
   "metadata": {
    "collapsed": false
   },
   "outputs": [
    {
     "name": "stdout",
     "output_type": "stream",
     "text": [
      "17\n"
     ]
    }
   ],
   "source": [
    "all_features = ['bedrooms', 'bedrooms_square',\n",
    "            'bathrooms',\n",
    "            'sqft_living', 'sqft_living_sqrt',\n",
    "            'sqft_lot', 'sqft_lot_sqrt',\n",
    "            'floors', 'floors_square',\n",
    "            'waterfront', 'view', 'condition', 'grade',\n",
    "            'sqft_above',\n",
    "            'sqft_basement',\n",
    "            'yr_built', 'yr_renovated']\n",
    "print len(all_features)\n",
    "#NB above list excludes these columns  ['zipcode', 'lat', 'long', 'sqft_living15', 'sqft_lot15']"
   ]
  },
  {
   "cell_type": "code",
   "execution_count": 8,
   "metadata": {
    "collapsed": false
   },
   "outputs": [
    {
     "name": "stdout",
     "output_type": "stream",
     "text": [
      "sales.shape =  (21613, 25)\n",
      "len(all_features) =  17\n",
      "model_all.coefficients.shape =  (18, 4)\n"
     ]
    }
   ],
   "source": [
    "model_all = graphlab.linear_regression.create(sales, \n",
    "                                              target='price', \n",
    "                                              features=all_features,\n",
    "                                              validation_set=None, \n",
    "                                              l2_penalty=0., \n",
    "                                              l1_penalty=1e10, \n",
    "                                              verbose=False)\n",
    "print \"sales.shape = \", sales.shape\n",
    "print \"len(all_features) = \", len(all_features)\n",
    "print \"model_all.coefficients.shape = \", model_all.coefficients.shape\n",
    "#NB: one more coefficient than in list of features because first element is intercept"
   ]
  },
  {
   "cell_type": "markdown",
   "metadata": {},
   "source": [
    "Find what features had non-zero weight."
   ]
  },
  {
   "cell_type": "code",
   "execution_count": 108,
   "metadata": {
    "collapsed": false
   },
   "outputs": [
    {
     "name": "stdout",
     "output_type": "stream",
     "text": [
      "model_all.coefficients.column_names() =  ['name', 'index', 'value', 'stderr']\n",
      "len(model_all.coefficients['value']) =  18\n",
      "model_all.coefficients['value'] =  [274873.0559504957, 0.0, 0.0, 8468.531086910072, 24.420720982445214, 350.0605533860648, 0.0, 0.0, 0.0, 0.0, 0.0, 0.0, 0.0, 842.0680348976282, 20.024722417091304, 0.0, 0.0, 0.0]\n",
      "model_all_coeffs.non zero coefficients =  6 , total coefficients =  18\n",
      "\n",
      "non zero coefficients, names and values\n",
      "(intercept)  =  274873.05595\n",
      "bathrooms  =  8468.53108691\n",
      "sqft_living  =  24.4207209824\n",
      "sqft_living_sqrt  =  350.060553386\n",
      "grade  =  842.068034898\n",
      "sqft_above  =  20.0247224171\n",
      "\n",
      "zero value coefficients\n",
      "bedrooms\n",
      "bedrooms_square\n",
      "sqft_lot\n",
      "sqft_lot_sqrt\n",
      "floors\n",
      "floors_square\n",
      "waterfront\n",
      "view\n",
      "condition\n",
      "sqft_basement\n",
      "yr_built\n",
      "yr_renovated\n",
      "\n",
      "______________________\n",
      "+------------------+-------+---------------+--------+\n",
      "|       name       | index |     value     | stderr |\n",
      "+------------------+-------+---------------+--------+\n",
      "|   (intercept)    |  None |  274873.05595 |  None  |\n",
      "|     bedrooms     |  None |      0.0      |  None  |\n",
      "| bedrooms_square  |  None |      0.0      |  None  |\n",
      "|    bathrooms     |  None | 8468.53108691 |  None  |\n",
      "|   sqft_living    |  None | 24.4207209824 |  None  |\n",
      "| sqft_living_sqrt |  None | 350.060553386 |  None  |\n",
      "|     sqft_lot     |  None |      0.0      |  None  |\n",
      "|  sqft_lot_sqrt   |  None |      0.0      |  None  |\n",
      "|      floors      |  None |      0.0      |  None  |\n",
      "|  floors_square   |  None |      0.0      |  None  |\n",
      "|    waterfront    |  None |      0.0      |  None  |\n",
      "|       view       |  None |      0.0      |  None  |\n",
      "|    condition     |  None |      0.0      |  None  |\n",
      "|      grade       |  None | 842.068034898 |  None  |\n",
      "|    sqft_above    |  None | 20.0247224171 |  None  |\n",
      "|  sqft_basement   |  None |      0.0      |  None  |\n",
      "|     yr_built     |  None |      0.0      |  None  |\n",
      "|   yr_renovated   |  None |      0.0      |  None  |\n",
      "+------------------+-------+---------------+--------+\n",
      "[18 rows x 4 columns]\n",
      "\n",
      "None\n"
     ]
    }
   ],
   "source": [
    "#print \"type(model_all) = \", type(model_all)\n",
    "print \"model_all.coefficients.column_names() = \", model_all.coefficients.column_names()\n",
    "model_all_coeffs = model_all.coefficients['value']\n",
    "\n",
    "print \"len(model_all.coefficients['value']) = \", len(model_all.coefficients['value'])\n",
    "#print type(model_all_coeffs)\n",
    "#<class 'graphlab.data_structures.sarray.SArray'>\n",
    "print \"model_all.coefficients['value'] = \", model_all.coefficients['value']\n",
    "print \"model_all_coeffs.non zero coefficients = \", model_all.coefficients['value'].nnz(), \\\n",
    "    \", total coefficients = \", len(model_all.coefficients['value'])\n",
    "\n",
    "print \"\\nnon zero coefficients, names and values\"\n",
    "for i in range(len(model_all.coefficients['value'])):\n",
    "    if model_all.coefficients['value'][i]!=0:\n",
    "        print model_all.coefficients['name'][i], \" = \", model_all.coefficients['value'][i]\n",
    "print \"\\nzero value coefficients\"\n",
    "for i in range(len(model_all.coefficients['value'])):\n",
    "    if model_all.coefficients['value'][i]==0:\n",
    "        print model_all.coefficients['name'][i]\n",
    "print \"\\n______________________\"\n",
    "print model_all.coefficients.print_rows(num_rows=18)"
   ]
  },
  {
   "cell_type": "code",
   "execution_count": 33,
   "metadata": {
    "collapsed": false
   },
   "outputs": [
    {
     "name": "stdout",
     "output_type": "stream",
     "text": [
      "model.coefficients.shape =  (18, 4)\n",
      "(intercept)  \t= \t274873.05595\n",
      "bathrooms  \t= \t8468.53108691\n",
      "sqft_living  \t= \t24.4207209824\n",
      "sqft_living_sqrt  \t= \t350.060553386\n",
      "grade  \t= \t842.068034898\n",
      "sqft_above  \t= \t20.0247224171\n",
      "\n",
      "zero value coefficients\n",
      "bedrooms_square\n",
      "bathrooms\n",
      "sqft_lot_sqrt\n",
      "floors\n",
      "floors_square\n",
      "waterfront\n",
      "view\n",
      "condition\n",
      "grade\n",
      "yr_built\n",
      "yr_renovated\n",
      "# of non zero features =  6\n"
     ]
    }
   ],
   "source": [
    "#replicate above as a function\n",
    "def list_non_zero_coeffs(model):\n",
    "    print \"model.coefficients.shape = \", model.coefficients.shape\n",
    "    model_all_coeffs = model.coefficients['value']\n",
    "    non_zero_coeffs_list = []\n",
    "    for i in range(len(model_all_coeffs)-1):\n",
    "        if model_all_coeffs[i]!=0:\n",
    "            print model.coefficients['name'][i], \" \\t= \\t\", model_all_coeffs[i]\n",
    "            non_zero_coeffs_list.append(model.coefficients['name'][i])\n",
    "    print \"\\nzero value coefficients\"\n",
    "    for i in range(len(model_all_coeffs)-1):\n",
    "        if model_all_coeffs[i]==0:\n",
    "            print all_features[i]\n",
    "    return non_zero_coeffs_list\n",
    "nonzero_list = list_non_zero_coeffs(model_all)\n",
    "#NB: intercept is included in this list. intercept <> weight on feature\n",
    "print \"# of non zero features = \", len(nonzero_list)"
   ]
  },
  {
   "cell_type": "markdown",
   "metadata": {},
   "source": [
    "Note that a majority of the weights have been set to zero. So by setting an L1 penalty that's large enough, we are performing a subset selection. \n",
    "\n",
    "***QUIZ QUESTION***:\n",
    "According to this list of weights, which of the features have been chosen? "
   ]
  },
  {
   "cell_type": "markdown",
   "metadata": {},
   "source": [
    "# Selecting an L1 penalty"
   ]
  },
  {
   "cell_type": "markdown",
   "metadata": {},
   "source": [
    "To find a good L1 penalty, we will explore multiple values using a validation set. Let us do three way split into train, validation, and test sets:\n",
    "* Split our sales data into 2 sets: training and test\n",
    "* Further split our training data into two sets: train, validation\n",
    "\n",
    "Be *very* careful that you use seed = 1 to ensure you get the same answer!"
   ]
  },
  {
   "cell_type": "code",
   "execution_count": 34,
   "metadata": {
    "collapsed": true
   },
   "outputs": [],
   "source": [
    "(training_and_validation, testing) = sales.random_split(.9,seed=1) # initial train/test split\n",
    "(training, validation) = training_and_validation.random_split(0.5, seed=1) # split training into train and validate"
   ]
  },
  {
   "cell_type": "code",
   "execution_count": 38,
   "metadata": {
    "collapsed": false
   },
   "outputs": [
    {
     "name": "stdout",
     "output_type": "stream",
     "text": [
      "training_and_validation.shape =  (19396, 25)\n",
      "testing =  (2217, 25)\n",
      "training.shape =  (9761, 24)\n",
      "validation.shape =  (9635, 25)\n",
      "training.column_names() =  ['id', 'price', 'bedrooms', 'bathrooms', 'sqft_living', 'sqft_lot', 'floors', 'waterfront', 'view', 'condition', 'grade', 'sqft_above', 'sqft_basement', 'yr_built', 'yr_renovated', 'zipcode', 'lat', 'long', 'sqft_living15', 'sqft_lot15', 'sqft_living_sqrt', 'sqft_lot_sqrt', 'bedrooms_square', 'floors_square']\n"
     ]
    }
   ],
   "source": [
    "print \"training_and_validation.shape = \", training_and_validation.shape\n",
    "print \"testing = \", testing.shape\n",
    "print \"training.shape = \", training.shape\n",
    "print \"validation.shape = \", validation.shape\n",
    "col_names = training.column_names()\n",
    "print \"training.column_names() = \", col_names\n",
    "#del col_names[2]#delete 'price'\n",
    "#del col_names[1] #delete 'date'\n",
    "#print \"\\ncol_names after deleting date = \", col_names\n",
    "#training = training[col_names]\n",
    "#print \"\\n\", training.column_names()"
   ]
  },
  {
   "cell_type": "markdown",
   "metadata": {},
   "source": [
    "Next, we write a loop that does the following:\n",
    "* For `l1_penalty` in [10^1, 10^1.5, 10^2, 10^2.5, ..., 10^7] (to get this in Python, type `np.logspace(1, 7, num=13)`.)\n",
    "    * Fit a regression model with a given `l1_penalty` on TRAIN data. Specify `l1_penalty=l1_penalty` and `l2_penalty=0.` in the parameter list.\n",
    "    * Compute the RSS on VALIDATION data (here you will want to use `.predict()`) for that `l1_penalty`\n",
    "* Report which `l1_penalty` produced the lowest RSS on validation data.\n",
    "\n",
    "When you call `linear_regression.create()` make sure you set `validation_set = None`.\n",
    "\n",
    "Note: you can turn off the print out of `linear_regression.create()` with `verbose = False`"
   ]
  },
  {
   "cell_type": "code",
   "execution_count": 39,
   "metadata": {
    "collapsed": false
   },
   "outputs": [
    {
     "name": "stdout",
     "output_type": "stream",
     "text": [
      "l1_penalty_series =  [  1.00000000e+01   3.16227766e+01   1.00000000e+02   3.16227766e+02\n",
      "   1.00000000e+03   3.16227766e+03   1.00000000e+04   3.16227766e+04\n",
      "   1.00000000e+05   3.16227766e+05   1.00000000e+06   3.16227766e+06\n",
      "   1.00000000e+07]\n",
      "len(l1_penalty_series) =  13\n"
     ]
    }
   ],
   "source": [
    "l1_penalty_series = np.logspace(1, 7, num=13)\n",
    "print \"l1_penalty_series = \", l1_penalty_series\n",
    "print \"len(l1_penalty_series) = \", len(l1_penalty_series)"
   ]
  },
  {
   "cell_type": "code",
   "execution_count": 40,
   "metadata": {
    "collapsed": false
   },
   "outputs": [
    {
     "name": "stdout",
     "output_type": "stream",
     "text": [
      "model.coefficients.shape =  (18, 4)\n",
      "i= 0 , l1_penalty =  10.0 , rss =  6.25766285142e+14\n",
      "model.coefficients.shape =  (18, 4)\n",
      "i= 1 , l1_penalty =  31.6227766017 , rss =  6.25766285362e+14\n",
      "model.coefficients.shape =  (18, 4)\n",
      "i= 2 , l1_penalty =  100.0 , rss =  6.25766286058e+14\n",
      "model.coefficients.shape =  (18, 4)\n",
      "i= 3 , l1_penalty =  316.227766017 , rss =  6.25766288257e+14\n",
      "model.coefficients.shape =  (18, 4)\n",
      "i= 4 , l1_penalty =  1000.0 , rss =  6.25766295212e+14\n",
      "model.coefficients.shape =  (18, 4)\n",
      "i= 5 , l1_penalty =  3162.27766017 , rss =  6.25766317206e+14\n",
      "model.coefficients.shape =  (18, 4)\n",
      "i= 6 , l1_penalty =  10000.0 , rss =  6.25766386761e+14\n",
      "model.coefficients.shape =  (18, 4)\n",
      "i= 7 , l1_penalty =  31622.7766017 , rss =  6.25766606749e+14\n",
      "model.coefficients.shape =  (18, 4)\n",
      "i= 8 , l1_penalty =  100000.0 , rss =  6.25767302792e+14\n",
      "model.coefficients.shape =  (18, 4)\n",
      "i= 9 , l1_penalty =  316227.766017 , rss =  6.25769507644e+14\n",
      "model.coefficients.shape =  (18, 4)\n",
      "i= 10 , l1_penalty =  1000000.0 , rss =  6.25776517727e+14\n",
      "model.coefficients.shape =  (18, 4)\n",
      "i= 11 , l1_penalty =  3162277.66017 , rss =  6.25799062845e+14\n",
      "model.coefficients.shape =  (18, 4)\n",
      "i= 12 , l1_penalty =  10000000.0 , rss =  6.25883719085e+14\n"
     ]
    }
   ],
   "source": [
    "rss_stored = []\n",
    "i = 0\n",
    "for l1_penalty in l1_penalty_series:\n",
    "    #https://turi.com/products/create/docs/generated/graphlab.linear_regression.create.html\n",
    "    model = graphlab.linear_regression.create(training, \n",
    "                                              target='price', \n",
    "                                              features= all_features,\n",
    "                                              #NB: previously we excluded some columns.\n",
    "                                              #this causes errors if we exclude 'price' from features list.\n",
    "                                              l2_penalty=0., \n",
    "                                              l1_penalty=l1_penalty, \n",
    "                                              validation_set=None, \n",
    "                                              verbose=False)\n",
    "    \n",
    "    #print type(model) \n",
    "    #graphlab.toolkits.regression.linear_regression.LinearRegression\n",
    "    print \"model.coefficients.shape = \", model.coefficients.shape\n",
    "    predicted = model.predict(validation)\n",
    "    #NB: user model trained on training, to predict values in validation set.\n",
    "    error = predicted - validation['price']\n",
    "    rss = (error**2).sum()\n",
    "    #rss = sum squared errors\n",
    "    print \"i=\", i, \", l1_penalty = \", l1_penalty, \", rss = \", rss\n",
    "    rss_stored.append(rss)\n",
    "    i += 1"
   ]
  },
  {
   "cell_type": "code",
   "execution_count": 41,
   "metadata": {
    "collapsed": false
   },
   "outputs": [
    {
     "name": "stdout",
     "output_type": "stream",
     "text": [
      "min rss =  6.25766285142e+14\n",
      "index of min rss =  0\n",
      "l1_penalty =  10.0\n"
     ]
    }
   ],
   "source": [
    "print \"min rss = \", min(rss_stored)\n",
    "print \"index of min rss = \", rss_stored.index(min(rss_stored))\n",
    "l1_penalty_minRSS = l1_penalty_series[rss_stored.index(min(rss_stored))]\n",
    "print \"l1_penalty = \", l1_penalty_minRSS"
   ]
  },
  {
   "cell_type": "markdown",
   "metadata": {},
   "source": [
    "*** QUIZ QUESTION. *** What was the best value for the `l1_penalty`?"
   ]
  },
  {
   "cell_type": "code",
   "execution_count": 49,
   "metadata": {
    "collapsed": false
   },
   "outputs": [
    {
     "name": "stdout",
     "output_type": "stream",
     "text": [
      "model.coefficients.shape =  (18, 4)\n",
      "rss =  1.56983602382e+14\n",
      "+------------------+-------+------------------+--------+\n",
      "|       name       | index |      value       | stderr |\n",
      "+------------------+-------+------------------+--------+\n",
      "|   (intercept)    |  None |  18993.4272128   |  None  |\n",
      "|     bedrooms     |  None |  7936.96767903   |  None  |\n",
      "| bedrooms_square  |  None |  936.993368193   |  None  |\n",
      "|    bathrooms     |  None |  25409.5889341   |  None  |\n",
      "|   sqft_living    |  None |  39.1151363797   |  None  |\n",
      "| sqft_living_sqrt |  None |  1124.65021281   |  None  |\n",
      "|     sqft_lot     |  None | 0.00348361822299 |  None  |\n",
      "|  sqft_lot_sqrt   |  None |  148.258391011   |  None  |\n",
      "|      floors      |  None |   21204.335467   |  None  |\n",
      "|  floors_square   |  None |  12915.5243361   |  None  |\n",
      "|    waterfront    |  None |  601905.594545   |  None  |\n",
      "|       view       |  None |  93312.8573119   |  None  |\n",
      "|    condition     |  None |  6609.03571245   |  None  |\n",
      "|      grade       |  None |  6206.93999188   |  None  |\n",
      "|    sqft_above    |  None |  43.2870534193   |  None  |\n",
      "|  sqft_basement   |  None |  122.367827534   |  None  |\n",
      "|     yr_built     |  None |  9.43363539372   |  None  |\n",
      "|   yr_renovated   |  None |  56.0720034488   |  None  |\n",
      "+------------------+-------+------------------+--------+\n",
      "[18 rows x 4 columns]\n",
      "\n",
      "None\n",
      "18\n"
     ]
    }
   ],
   "source": [
    "model = graphlab.linear_regression.create(training, \n",
    "                                          target='price', \n",
    "                                          features=all_features,\n",
    "                                          l2_penalty=0., \n",
    "                                          l1_penalty=l1_penalty_minRSS, \n",
    "                                          validation_set=None, \n",
    "                                          verbose=False)\n",
    "print \"model.coefficients.shape = \", model.coefficients.shape\n",
    "#NB: need to set features = list, o/wise function builds non sensible model.\n",
    "\n",
    "#NBB: check if we are supposed to calculated this on testing or validation\n",
    "predicted = model.predict(testing)\n",
    "error = predicted - testing['price']\n",
    "rss = (error**2).sum()\n",
    "#rss = sum squared errors\n",
    "print \"rss = \", rss\n",
    "print model.coefficients.print_rows(num_rows=18)\n",
    "print model.coefficients['value'].nnz()"
   ]
  },
  {
   "cell_type": "markdown",
   "metadata": {},
   "source": [
    "***QUIZ QUESTION***\n",
    "Also, using this value of L1 penalty, how many nonzero weights do you have?"
   ]
  },
  {
   "cell_type": "code",
   "execution_count": null,
   "metadata": {
    "collapsed": false
   },
   "outputs": [],
   "source": [
    "#print list_non_zero_coeffs(model)\n",
    "print training.shape\n",
    "print model.coefficients.shape"
   ]
  },
  {
   "cell_type": "markdown",
   "metadata": {},
   "source": [
    "# Limit the number of nonzero weights\n",
    "\n",
    "What if we absolutely wanted to limit ourselves to, say, 7 features? This may be important if we want to derive \"a rule of thumb\" --- an interpretable model that has only a few features in them."
   ]
  },
  {
   "cell_type": "markdown",
   "metadata": {},
   "source": [
    "In this section, you are going to implement a simple, two phase procedure to achive this goal:\n",
    "1. Explore a large range of `l1_penalty` values to find a narrow region of `l1_penalty` values where models are likely to have the desired number of non-zero weights.\n",
    "2. Further explore the narrow region you found to find a good value for `l1_penalty` that achieves the desired sparsity.  Here, we will again use a validation set to choose the best value for `l1_penalty`."
   ]
  },
  {
   "cell_type": "code",
   "execution_count": 55,
   "metadata": {
    "collapsed": true
   },
   "outputs": [],
   "source": [
    "max_nonzeros = 7"
   ]
  },
  {
   "cell_type": "markdown",
   "metadata": {},
   "source": [
    "## Exploring the larger range of values to find a narrow range with the desired sparsity\n",
    "\n",
    "Let's define a wide range of possible `l1_penalty_values`:"
   ]
  },
  {
   "cell_type": "code",
   "execution_count": 50,
   "metadata": {
    "collapsed": false
   },
   "outputs": [
    {
     "name": "stdout",
     "output_type": "stream",
     "text": [
      "l1_penalty_values =  [  1.00000000e+08   1.27427499e+08   1.62377674e+08   2.06913808e+08\n",
      "   2.63665090e+08   3.35981829e+08   4.28133240e+08   5.45559478e+08\n",
      "   6.95192796e+08   8.85866790e+08   1.12883789e+09   1.43844989e+09\n",
      "   1.83298071e+09   2.33572147e+09   2.97635144e+09   3.79269019e+09\n",
      "   4.83293024e+09   6.15848211e+09   7.84759970e+09   1.00000000e+10]\n"
     ]
    }
   ],
   "source": [
    "l1_penalty_values = np.logspace(8, 10, num=20)\n",
    "print \"l1_penalty_values = \", l1_penalty_values"
   ]
  },
  {
   "cell_type": "markdown",
   "metadata": {},
   "source": [
    "Now, implement a loop that search through this space of possible `l1_penalty` values:\n",
    "\n",
    "* For `l1_penalty` in `np.logspace(8, 10, num=20)`:\n",
    "    * Fit a regression model with a given `l1_penalty` on TRAIN data. Specify `l1_penalty=l1_penalty` and `l2_penalty=0.` in the parameter list. When you call `linear_regression.create()` make sure you set `validation_set = None`\n",
    "    * Extract the weights of the model and count the number of nonzeros. Save the number of nonzeros to a list.\n",
    "        * *Hint: `model['coefficients']['value']` gives you an SArray with the parameters you learned.  If you call the method `.nnz()` on it, you will find the number of non-zero parameters!* "
   ]
  },
  {
   "cell_type": "code",
   "execution_count": 52,
   "metadata": {
    "collapsed": false
   },
   "outputs": [
    {
     "name": "stdout",
     "output_type": "stream",
     "text": [
      "model.coefficients.shape =  (18, 4)\n",
      "i= 0 , l1_penalty =  100000000.0 , rss =  6.27492659875e+14 , non zero weights =  18\n",
      "model.coefficients.shape =  (18, 4)\n",
      "i= 1 , l1_penalty =  127427498.57 , rss =  6.28210516771e+14 , non zero weights =  18\n",
      "model.coefficients.shape =  (18, 4)\n",
      "i= 2 , l1_penalty =  162377673.919 , rss =  6.29176689541e+14 , non zero weights =  18\n",
      "model.coefficients.shape =  (18, 4)\n",
      "i= 3 , l1_penalty =  206913808.111 , rss =  6.30650082719e+14 , non zero weights =  18\n",
      "model.coefficients.shape =  (18, 4)\n",
      "i= 4 , l1_penalty =  263665089.873 , rss =  6.32940229287e+14 , non zero weights =  17\n",
      "model.coefficients.shape =  (18, 4)\n",
      "i= 5 , l1_penalty =  335981828.628 , rss =  6.3626814023e+14 , non zero weights =  17\n",
      "model.coefficients.shape =  (18, 4)\n",
      "i= 6 , l1_penalty =  428133239.872 , rss =  6.41261198311e+14 , non zero weights =  17\n",
      "model.coefficients.shape =  (18, 4)\n",
      "i= 7 , l1_penalty =  545559478.117 , rss =  6.48983455376e+14 , non zero weights =  17\n",
      "model.coefficients.shape =  (18, 4)\n",
      "i= 8 , l1_penalty =  695192796.178 , rss =  6.60962217696e+14 , non zero weights =  17\n",
      "model.coefficients.shape =  (18, 4)\n",
      "i= 9 , l1_penalty =  885866790.41 , rss =  6.77261520728e+14 , non zero weights =  16\n",
      "model.coefficients.shape =  (18, 4)\n",
      "i= 10 , l1_penalty =  1128837891.68 , rss =  7.01046815867e+14 , non zero weights =  15\n",
      "model.coefficients.shape =  (18, 4)\n",
      "i= 11 , l1_penalty =  1438449888.29 , rss =  7.37850622829e+14 , non zero weights =  15\n",
      "model.coefficients.shape =  (18, 4)\n",
      "i= 12 , l1_penalty =  1832980710.83 , rss =  7.9616310964e+14 , non zero weights =  13\n",
      "model.coefficients.shape =  (18, 4)\n",
      "i= 13 , l1_penalty =  2335721469.09 , rss =  8.69018172894e+14 , non zero weights =  12\n",
      "model.coefficients.shape =  (18, 4)\n",
      "i= 14 , l1_penalty =  2976351441.63 , rss =  9.66925692362e+14 , non zero weights =  10\n",
      "model.coefficients.shape =  (18, 4)\n",
      "i= 15 , l1_penalty =  3792690190.73 , rss =  1.08186759232e+15 , non zero weights =  6\n",
      "model.coefficients.shape =  (18, 4)\n",
      "i= 16 , l1_penalty =  4832930238.57 , rss =  1.24492736032e+15 , non zero weights =  5\n",
      "model.coefficients.shape =  (18, 4)\n",
      "i= 17 , l1_penalty =  6158482110.66 , rss =  1.38416149024e+15 , non zero weights =  3\n",
      "model.coefficients.shape =  (18, 4)\n",
      "i= 18 , l1_penalty =  7847599703.51 , rss =  1.23079472046e+15 , non zero weights =  1\n",
      "model.coefficients.shape =  (18, 4)\n",
      "i= 19 , l1_penalty =  10000000000.0 , rss =  1.22915716064e+15 , non zero weights =  1\n"
     ]
    }
   ],
   "source": [
    "model_coefficients_values_nnz = []\n",
    "rss_stored = []\n",
    "i = 0\n",
    "for l1_penalty in l1_penalty_values:\n",
    "    #https://turi.com/products/create/docs/generated/graphlab.linear_regression.create.html\n",
    "    model = graphlab.linear_regression.create(training, \n",
    "                                              target='price', \n",
    "                                              features= all_features,\n",
    "                                              #NB: previously we excluded some columns.\n",
    "                                              #this causes errors if we exclude 'price' from features list.\n",
    "                                              l2_penalty=0., \n",
    "                                              l1_penalty=l1_penalty, \n",
    "                                              validation_set=None, \n",
    "                                              verbose=False)\n",
    "    print \"model.coefficients.shape = \", model.coefficients.shape\n",
    "    predicted = model.predict(validation)\n",
    "    #NB: user model trained on training, to predict values in validation set.\n",
    "    error = predicted - validation['price']\n",
    "    rss = (error**2).sum()\n",
    "    #rss = sum squared errors\n",
    "    model_coefficients_values_nnz.append(model.coefficients['value'].nnz())\n",
    "    print \"i=\", i, \", l1_penalty = \", l1_penalty, \", rss = \", rss, \", non zero weights = \", model_coefficients_values_nnz[i]\n",
    "    rss_stored.append(rss)\n",
    "    i += 1"
   ]
  },
  {
   "cell_type": "markdown",
   "metadata": {},
   "source": [
    "Out of this large range, we want to find the two ends of our desired narrow range of `l1_penalty`.  At one end, we will have `l1_penalty` values that have too few non-zeros, and at the other end, we will have an `l1_penalty` that has too many non-zeros.  \n",
    "\n",
    "More formally, find:\n",
    "* The largest `l1_penalty` that has more non-zeros than `max_nonzeros` (if we pick a penalty smaller than this value, we will definitely have too many non-zero weights)\n",
    "    * Store this value in the variable `l1_penalty_min` (we will use it later)\n",
    "* The smallest `l1_penalty` that has fewer non-zeros than `max_nonzeros` (if we pick a penalty larger than this value, we will definitely have too few non-zero weights)\n",
    "    * Store this value in the variable `l1_penalty_max` (we will use it later)\n",
    "\n",
    "\n",
    "*Hint: there are many ways to do this, e.g.:*\n",
    "* Programmatically within the loop above\n",
    "* Creating a list with the number of non-zeros for each value of `l1_penalty` and inspecting it to find the appropriate boundaries."
   ]
  },
  {
   "cell_type": "code",
   "execution_count": 65,
   "metadata": {
    "collapsed": false
   },
   "outputs": [
    {
     "name": "stdout",
     "output_type": "stream",
     "text": [
      "model_coefficients_values_nnz =  [18, 18, 18, 18, 17, 17, 17, 17, 17, 16, 15, 15, 13, 12, 10, 6, 5, 3, 1, 1]\n",
      "l1_penalty_values =  [  1.00000000e+08   1.27427499e+08   1.62377674e+08   2.06913808e+08\n",
      "   2.63665090e+08   3.35981829e+08   4.28133240e+08   5.45559478e+08\n",
      "   6.95192796e+08   8.85866790e+08   1.12883789e+09   1.43844989e+09\n",
      "   1.83298071e+09   2.33572147e+09   2.97635144e+09   3.79269019e+09\n",
      "   4.83293024e+09   6.15848211e+09   7.84759970e+09   1.00000000e+10]\n",
      "l1_penalty_min =  2976351441.63\n",
      "l1_penalty_max =  3792690190.73\n"
     ]
    }
   ],
   "source": [
    "#recall max_nonzeros = 7\n",
    "#display values for readability purposes.\n",
    "print \"model_coefficients_values_nnz = \", model_coefficients_values_nnz\n",
    "print \"l1_penalty_values = \", l1_penalty_values\n",
    "\n",
    "#NB: l1_penalty_values increments in value with index.\n",
    "#NBB: model_coefficients_values_nnz decreases in value with index.\n",
    "# thus once we find threshhold point we know both l1_penalty_max and l1_penalty_min\n",
    "# NBB: logic suits this sequence, better logic needed for general case.\n",
    "i = 0\n",
    "l1_penalty_min = -1.\n",
    "l1_penalty_max = -1.\n",
    "\n",
    "for l1_penalty in l1_penalty_values:\n",
    "    #print \"i=\", i, \"l1_penalty=\", l1_penalty, \"model_coefficients_values_nnz[i]=\", model_coefficients_values_nnz[i]\n",
    "    if model_coefficients_values_nnz[i] < max_nonzeros and l1_penalty_min == -1.:\n",
    "        l1_penalty_min = l1_penalty_values[i-1]\n",
    "        l1_penalty_max = l1_penalty_values[i]\n",
    "        break\n",
    "    i += 1\n",
    "print \"l1_penalty_min = \", l1_penalty_min\n",
    "print \"l1_penalty_max = \", l1_penalty_max"
   ]
  },
  {
   "cell_type": "markdown",
   "metadata": {},
   "source": [
    "***QUIZ QUESTION.*** What values did you find for `l1_penalty_min` and `l1_penalty_max`, respectively? "
   ]
  },
  {
   "cell_type": "markdown",
   "metadata": {},
   "source": [
    "## Exploring the narrow range of values to find the solution with the right number of non-zeros that has lowest RSS on the validation set \n",
    "\n",
    "We will now explore the narrow region of `l1_penalty` values we found:"
   ]
  },
  {
   "cell_type": "code",
   "execution_count": 67,
   "metadata": {
    "collapsed": false
   },
   "outputs": [
    {
     "name": "stdout",
     "output_type": "stream",
     "text": [
      "20\n",
      "l1_penalty_values =  [  2.97635144e+09   3.01931664e+09   3.06228184e+09   3.10524703e+09\n",
      "   3.14821223e+09   3.19117743e+09   3.23414263e+09   3.27710782e+09\n",
      "   3.32007302e+09   3.36303822e+09   3.40600341e+09   3.44896861e+09\n",
      "   3.49193381e+09   3.53489901e+09   3.57786420e+09   3.62082940e+09\n",
      "   3.66379460e+09   3.70675980e+09   3.74972499e+09   3.79269019e+09]\n"
     ]
    }
   ],
   "source": [
    "l1_penalty_values = np.linspace(l1_penalty_min,l1_penalty_max,20)\n",
    "#https://docs.scipy.org/doc/numpy-1.10.0/reference/generated/numpy.linspace.html\n",
    "#numpy.linspace(start, stop, num=50, endpoint=True, retstep=False, dtype=None)[source]\n",
    "#Return evenly spaced numbers over a specified interval.\n",
    "print len(l1_penalty_values)\n",
    "print \"l1_penalty_values = \", l1_penalty_values"
   ]
  },
  {
   "cell_type": "markdown",
   "metadata": {},
   "source": [
    "* For `l1_penalty` in `np.linspace(l1_penalty_min,l1_penalty_max,20)`:\n",
    "    * Fit a regression model with a given `l1_penalty` on TRAIN data. Specify `l1_penalty=l1_penalty` and `l2_penalty=0.` in the parameter list. When you call `linear_regression.create()` make sure you set `validation_set = None`\n",
    "    * Measure the RSS of the learned model on the VALIDATION set\n",
    "\n",
    "Find the model that the lowest RSS on the VALIDATION set and has sparsity *equal* to `max_nonzeros`."
   ]
  },
  {
   "cell_type": "code",
   "execution_count": 68,
   "metadata": {
    "collapsed": false
   },
   "outputs": [
    {
     "name": "stdout",
     "output_type": "stream",
     "text": [
      "model.coefficients.shape =  (18, 4)\n",
      "i= 0 l1_penalty= 2976351441.63 model_coefficients_values_nnz[i]= 10\n",
      "model.coefficients.shape =  (18, 4)\n",
      "i= 1 l1_penalty= 3019316638.95 model_coefficients_values_nnz[i]= 10\n",
      "model.coefficients.shape =  (18, 4)\n",
      "i= 2 l1_penalty= 3062281836.27 model_coefficients_values_nnz[i]= 10\n",
      "model.coefficients.shape =  (18, 4)\n",
      "i= 3 l1_penalty= 3105247033.59 model_coefficients_values_nnz[i]= 10\n",
      "model.coefficients.shape =  (18, 4)\n",
      "i= 4 l1_penalty= 3148212230.92 model_coefficients_values_nnz[i]= 10\n",
      "model.coefficients.shape =  (18, 4)\n",
      "i= 5 l1_penalty= 3191177428.24 model_coefficients_values_nnz[i]= 10\n",
      "model.coefficients.shape =  (18, 4)\n",
      "i= 6 l1_penalty= 3234142625.56 model_coefficients_values_nnz[i]= 10\n",
      "model.coefficients.shape =  (18, 4)\n",
      "i= 7 l1_penalty= 3277107822.88 model_coefficients_values_nnz[i]= 10\n",
      "model.coefficients.shape =  (18, 4)\n",
      "i= 8 l1_penalty= 3320073020.2 model_coefficients_values_nnz[i]= 8\n",
      "model.coefficients.shape =  (18, 4)\n",
      "i= 9 l1_penalty= 3363038217.52 model_coefficients_values_nnz[i]= 8\n",
      "model.coefficients.shape =  (18, 4)\n",
      "i= 10 l1_penalty= 3406003414.84 model_coefficients_values_nnz[i]= 8\n",
      "model.coefficients.shape =  (18, 4)\n",
      "i= 11 l1_penalty= 3448968612.16 model_coefficients_values_nnz[i]= 7\n",
      "model.coefficients.shape =  (18, 4)\n",
      "i= 12 l1_penalty= 3491933809.48 model_coefficients_values_nnz[i]= 7\n",
      "model.coefficients.shape =  (18, 4)\n",
      "i= 13 l1_penalty= 3534899006.81 model_coefficients_values_nnz[i]= 7\n",
      "model.coefficients.shape =  (18, 4)\n",
      "i= 14 l1_penalty= 3577864204.13 model_coefficients_values_nnz[i]= 7\n",
      "model.coefficients.shape =  (18, 4)\n",
      "i= 15 l1_penalty= 3620829401.45 model_coefficients_values_nnz[i]= 6\n",
      "model.coefficients.shape =  (18, 4)\n",
      "i= 16 l1_penalty= 3663794598.77 model_coefficients_values_nnz[i]= 6\n",
      "model.coefficients.shape =  (18, 4)\n",
      "i= 17 l1_penalty= 3706759796.09 model_coefficients_values_nnz[i]= 6\n",
      "model.coefficients.shape =  (18, 4)\n",
      "i= 18 l1_penalty= 3749724993.41 model_coefficients_values_nnz[i]= 6\n",
      "model.coefficients.shape =  (18, 4)\n",
      "i= 19 l1_penalty= 3792690190.73 model_coefficients_values_nnz[i]= 6\n"
     ]
    }
   ],
   "source": [
    "model_coefficients_values_nnz = []\n",
    "rss_stored = []\n",
    "i = 0\n",
    "\n",
    "for l1_penalty in l1_penalty_values:\n",
    "    model = graphlab.linear_regression.create(training, \n",
    "                                              target='price', \n",
    "                                              features= all_features,\n",
    "                                              #NB: previously we excluded some columns.\n",
    "                                              #this causes errors if we exclude 'price' from features list.\n",
    "                                              l2_penalty=0., \n",
    "                                              l1_penalty=l1_penalty, \n",
    "                                              validation_set=None, \n",
    "                                              verbose=False)\n",
    "    #Measure the RSS of the learned model on the VALIDATION set\n",
    "    print \"model.coefficients.shape = \", model.coefficients.shape\n",
    "    predicted = model.predict(validation)\n",
    "    #NB: user model trained on training, need to predict values in validation set.\n",
    "    error = predicted - validation['price']\n",
    "    rss = (error**2).sum()\n",
    "    #rss = sum squared errors\n",
    "    rss_stored.append(rss)\n",
    "    model_coefficients_values_nnz.append(model.coefficients['value'].nnz())\n",
    "    print \"i=\", i, \"l1_penalty=\", l1_penalty, \"model_coefficients_values_nnz[i]=\", model_coefficients_values_nnz[i]\n",
    "    i += 1\n",
    "#Find the model that the lowest RSS on the VALIDATION set and has sparsity equal to max_nonzeros.\n"
   ]
  },
  {
   "cell_type": "code",
   "execution_count": 100,
   "metadata": {
    "collapsed": false
   },
   "outputs": [
    {
     "name": "stdout",
     "output_type": "stream",
     "text": [
      "indices_Max_nonzeros =  [11, 12, 13, 14]\n",
      "indices_Max_nonzeros[0] =  11\n",
      "len(indices_Max_nonzeros) =  4\n",
      "rss_stored_Max_nonzeros =  [1046937488751711.1, 1051147625612860.9, 1055992735342999.1, 1060799531763287.8]\n",
      "min(rss_stored_Max_nonzeros) =  1.04693748875e+15\n",
      "rss_stored_Max_nonzeros.index(min(rss_stored_Max_nonzeros)) =  0\n",
      "min_rss_indice_Max_nonzeros =  11\n",
      "l1_penalty_values[min_rss_indice_Max_nonzeros] =  3448968612.16\n"
     ]
    }
   ],
   "source": [
    "#Find the model that the lowest RSS on the VALIDATION set and has sparsity equal to max_nonzeros.\n",
    "# we have lists model_coefficients_values_nnz, rss_stored, l1_penalty_values\n",
    "# recall we have max_nonzeros = 7\n",
    "# we want l1_penalty providing the lowest RSS on the VALIDATION set and has sparsity *equal* to `max_nonzeros`.\n",
    "indices_Max_nonzeros = [i for i, x in enumerate(model_coefficients_values_nnz) if x == 7]\n",
    "print \"indices_Max_nonzeros = \", indices_Max_nonzeros\n",
    "print \"indices_Max_nonzeros[0] = \", indices_Max_nonzeros[0]\n",
    "print \"len(indices_Max_nonzeros) = \", len(indices_Max_nonzeros)\n",
    "rss_stored_Max_nonzeros = rss_stored[indices_Max_nonzeros[0]:(indices_Max_nonzeros[0]+len(indices_Max_nonzeros))]\n",
    "print \"rss_stored_Max_nonzeros = \", rss_stored_Max_nonzeros\n",
    "print \"min(rss_stored_Max_nonzeros) = \", min(rss_stored_Max_nonzeros)\n",
    "print \"rss_stored_Max_nonzeros.index(min(rss_stored_Max_nonzeros)) = \", rss_stored_Max_nonzeros.index(min(rss_stored_Max_nonzeros))\n",
    "min_rss_indice_Max_nonzeros = indices_Max_nonzeros[0] + rss_stored_Max_nonzeros.index(min(rss_stored_Max_nonzeros))\n",
    "print \"min_rss_indice_Max_nonzeros = \", min_rss_indice_Max_nonzeros\n",
    "print \"l1_penalty_values[min_rss_indice_Max_nonzeros] = \", l1_penalty_values[min_rss_indice_Max_nonzeros]"
   ]
  },
  {
   "cell_type": "code",
   "execution_count": 106,
   "metadata": {
    "collapsed": false
   },
   "outputs": [
    {
     "name": "stdout",
     "output_type": "stream",
     "text": [
      "min RSS =  9.66925692362e+14\n",
      "index of min RSS =  0\n",
      "l1_penalty for min RSS =  2976351441.63\n"
     ]
    }
   ],
   "source": [
    "#NB: for comparison purposes, find the minimum RSS and the corresponding l1_penalty value\n",
    "print \"min RSS = \", min(rss_stored)\n",
    "print \"index of min RSS = \", rss_stored.index(min(rss_stored))\n",
    "print \"l1_penalty for min RSS = \", l1_penalty_values[rss_stored.index(min(rss_stored))]\n",
    "#NBB : This is obviously not the lowest RSS with sparsity *equal* to `max_nonzeros`."
   ]
  },
  {
   "cell_type": "code",
   "execution_count": 107,
   "metadata": {
    "collapsed": false
   },
   "outputs": [
    {
     "name": "stdout",
     "output_type": "stream",
     "text": [
      "model_coeffs.shape =  (18, 4)\n",
      "model_coeffs.shape[0] =  18\n",
      "<type 'int'>\n",
      "<class 'graphlab.data_structures.sarray.SArray'>\n",
      "[222253.19254432785, 661.7227177822587, 0.0, 15873.957259267981, 32.41022145125964, 690.1147733133256, 0.0, 0.0, 0.0, 0.0, 0.0, 0.0, 0.0, 2899.4202697498786, 30.011575302201045, 0.0, 0.0, 0.0]\n",
      "+------------------+-------+---------------+--------+\n",
      "|       name       | index |     value     | stderr |\n",
      "+------------------+-------+---------------+--------+\n",
      "|   (intercept)    |  None | 222253.192544 |  None  |\n",
      "|     bedrooms     |  None | 661.722717782 |  None  |\n",
      "| bedrooms_square  |  None |      0.0      |  None  |\n",
      "|    bathrooms     |  None | 15873.9572593 |  None  |\n",
      "|   sqft_living    |  None | 32.4102214513 |  None  |\n",
      "| sqft_living_sqrt |  None | 690.114773313 |  None  |\n",
      "|     sqft_lot     |  None |      0.0      |  None  |\n",
      "|  sqft_lot_sqrt   |  None |      0.0      |  None  |\n",
      "|      floors      |  None |      0.0      |  None  |\n",
      "|  floors_square   |  None |      0.0      |  None  |\n",
      "|    waterfront    |  None |      0.0      |  None  |\n",
      "|       view       |  None |      0.0      |  None  |\n",
      "|    condition     |  None |      0.0      |  None  |\n",
      "|      grade       |  None | 2899.42026975 |  None  |\n",
      "|    sqft_above    |  None | 30.0115753022 |  None  |\n",
      "|  sqft_basement   |  None |      0.0      |  None  |\n",
      "|     yr_built     |  None |      0.0      |  None  |\n",
      "|   yr_renovated   |  None |      0.0      |  None  |\n",
      "+------------------+-------+---------------+--------+\n",
      "[18 rows x 4 columns]\n",
      "\n",
      "None\n",
      "non zero value coefficients\n",
      "(intercept)           = 222253.192544\n",
      "bedrooms              = 661.722717782\n",
      "bathrooms             = 15873.9572593\n",
      "sqft_living           = 32.4102214513\n",
      "sqft_living_sqrt      = 690.114773313\n",
      "grade                 = 2899.42026975\n",
      "sqft_above            = 30.0115753022\n",
      "\n",
      "zero value coefficients\n",
      "bedrooms_square\n",
      "sqft_lot\n",
      "sqft_lot_sqrt\n",
      "floors\n",
      "floors_square\n",
      "waterfront\n",
      "view\n",
      "condition\n",
      "sqft_basement\n",
      "yr_built\n",
      "yr_renovated\n"
     ]
    }
   ],
   "source": [
    "model = graphlab.linear_regression.create(training, \n",
    "                                          target='price', \n",
    "                                          features= all_features, \n",
    "                                          l2_penalty=0., \n",
    "                                          l1_penalty=l1_penalty_values[min_rss_indice_Max_nonzeros], \n",
    "                                          validation_set=None, \n",
    "                                          verbose=False)\n",
    "model_coeffs = model.get(\"coefficients\")\n",
    "print \"model_coeffs.shape = \", model_coeffs.shape\n",
    "print \"model_coeffs.shape[0] = \", model_coeffs.shape[0]\n",
    "print type(model_coeffs.shape[0])\n",
    "print type(model_all_coeffs)\n",
    "print model.get(\"coefficients\")['value']\n",
    "print model_coeffs.print_rows(num_rows=18)\n",
    "\n",
    "print \"non zero value coefficients\"\n",
    "for i in range(model_coeffs.shape[0]):\n",
    "    if model.get(\"coefficients\")['value'][i]!=0:\n",
    "        print \"%-*s  = %s\" % (20,model.get(\"coefficients\")['name'][i], model.get(\"coefficients\")['value'][i])\n",
    "print \"\\nzero value coefficients\"\n",
    "for i in range(model_coeffs.shape[0]):\n",
    "    if model.get(\"coefficients\")['value'][i]==0:\n",
    "        print model.get(\"coefficients\")['name'][i]\n"
   ]
  },
  {
   "cell_type": "markdown",
   "metadata": {},
   "source": [
    "***QUIZ QUESTIONS***\n",
    "1. What value of `l1_penalty` in our narrow range has the lowest RSS on the VALIDATION set and has sparsity *equal* to `max_nonzeros`?\n",
    "2. What features in this model have non-zero coefficients?"
   ]
  },
  {
   "cell_type": "code",
   "execution_count": null,
   "metadata": {
    "collapsed": false
   },
   "outputs": [],
   "source": []
  }
 ],
 "metadata": {
  "kernelspec": {
   "display_name": "Python 2",
   "language": "python",
   "name": "python2"
  },
  "language_info": {
   "codemirror_mode": {
    "name": "ipython",
    "version": 2
   },
   "file_extension": ".py",
   "mimetype": "text/x-python",
   "name": "python",
   "nbconvert_exporter": "python",
   "pygments_lexer": "ipython2",
   "version": "2.7.11"
  }
 },
 "nbformat": 4,
 "nbformat_minor": 0
}
