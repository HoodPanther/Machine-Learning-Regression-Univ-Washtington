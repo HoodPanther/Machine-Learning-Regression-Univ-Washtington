{
 "cells": [
  {
   "cell_type": "markdown",
   "metadata": {},
   "source": [
    "# Regression Week 5: LASSO (coordinate descent)"
   ]
  },
  {
   "cell_type": "markdown",
   "metadata": {},
   "source": [
    "In this notebook, you will implement your very own LASSO solver via coordinate descent. You will:\n",
    "* Write a function to normalize features\n",
    "* Implement coordinate descent for LASSO\n",
    "* Explore effects of L1 penalty"
   ]
  },
  {
   "cell_type": "markdown",
   "metadata": {},
   "source": [
    "# Fire up graphlab create"
   ]
  },
  {
   "cell_type": "markdown",
   "metadata": {},
   "source": [
    "Make sure you have the latest version of graphlab (>= 1.7)"
   ]
  },
  {
   "cell_type": "code",
   "execution_count": 25,
   "metadata": {
    "collapsed": false
   },
   "outputs": [],
   "source": [
    "import graphlab\n",
    "import numpy"
   ]
  },
  {
   "cell_type": "markdown",
   "metadata": {},
   "source": [
    "# Load in house sales data\n",
    "\n",
    "Dataset is from house sales in King County, the region where the city of Seattle, WA is located."
   ]
  },
  {
   "cell_type": "code",
   "execution_count": 2,
   "metadata": {
    "collapsed": false
   },
   "outputs": [
    {
     "name": "stdout",
     "output_type": "stream",
     "text": [
      "This non-commercial license of GraphLab Create for academic use is assigned to bmatthewtaylor@gmail.com and will expire on October 27, 2017.\n"
     ]
    },
    {
     "name": "stderr",
     "output_type": "stream",
     "text": [
      "[INFO] graphlab.cython.cy_server: GraphLab Create v2.1 started. Logging: C:\\Users\\username\\AppData\\Local\\Temp\\graphlab_server_1483760957.log.0\n"
     ]
    },
    {
     "name": "stdout",
     "output_type": "stream",
     "text": [
      "sales.shape =  (21613, 21)\n"
     ]
    }
   ],
   "source": [
    "sales = graphlab.SFrame('../data/kc_house_data.gl/')\n",
    "print \"sales.shape = \", sales.shape\n",
    "# In the dataset, 'floors' was defined with type string, \n",
    "# so we'll convert them to int, before using it below\n",
    "sales['floors'] = sales['floors'].astype(int) "
   ]
  },
  {
   "cell_type": "markdown",
   "metadata": {},
   "source": [
    "If we want to do any \"feature engineering\" like creating new features or adjusting existing ones we should do this directly using the SFrames as seen in the first notebook of Week 2. For this notebook, however, we will work with the existing features."
   ]
  },
  {
   "cell_type": "markdown",
   "metadata": {},
   "source": [
    "# Import useful functions from previous notebook"
   ]
  },
  {
   "cell_type": "markdown",
   "metadata": {},
   "source": [
    "As in Week 2, we convert the SFrame into a 2D Numpy array. Copy and paste `get_num_data()` from the second notebook of Week 2."
   ]
  },
  {
   "cell_type": "code",
   "execution_count": 3,
   "metadata": {
    "collapsed": false
   },
   "outputs": [
    {
     "name": "stdout",
     "output_type": "stream",
     "text": [
      "numpy loaded\n"
     ]
    }
   ],
   "source": [
    "import numpy as np # note this allows us to refer to numpy as np instead \n",
    "from math import *\n",
    "print \"numpy loaded\""
   ]
  },
  {
   "cell_type": "code",
   "execution_count": 4,
   "metadata": {
    "collapsed": false
   },
   "outputs": [
    {
     "name": "stdout",
     "output_type": "stream",
     "text": [
      "get_numpy_data loaded\n"
     ]
    }
   ],
   "source": [
    "def get_numpy_data(data_sframe, features, output):\n",
    "    #copied from week-2-multiple-regression-assignment-2-gradient_descent_working_A \n",
    "    data_sframe['constant'] = 1 \n",
    "    # this is how you add a constant column to an SFrame\n",
    "    # add the column 'constant' to the front of the features list so that we can \n",
    "    # extract it along with the others:\n",
    "    features = ['constant'] + features # this is how you combine two lists\n",
    "    # select the columns of data_SFrame given by the features list into the \n",
    "    # SFrame features_sframe (now including constant):\n",
    "    features_sframe = data_sframe[features]\n",
    "    # the following line will convert the features_SFrame into a numpy matrix:\n",
    "    feature_matrix = features_sframe.to_numpy()\n",
    "    # assign the column of data_sframe associated with the output to the SArray output_sarray\n",
    "    output_sarray = data_sframe[output]\n",
    "    # the following will convert the SArray into a numpy array by first converting it to a list\n",
    "    output_array = output_sarray.to_numpy()\n",
    "    return(feature_matrix, output_array)\n",
    "print \"get_numpy_data loaded\""
   ]
  },
  {
   "cell_type": "markdown",
   "metadata": {},
   "source": [
    "Also, copy and paste the `predict_output()` function to compute the predictions for an entire matrix of features given the matrix and the weights:"
   ]
  },
  {
   "cell_type": "code",
   "execution_count": 5,
   "metadata": {
    "collapsed": false
   },
   "outputs": [
    {
     "name": "stdout",
     "output_type": "stream",
     "text": [
      "predict_output loaded\n"
     ]
    }
   ],
   "source": [
    "def predict_output(feature_matrix, weights):\n",
    "    #copied from week-2-multiple-regression-assignment-2-gradient_descent_working_A\n",
    "    # assume feature_matrix is a numpy matrix containing the features as columns and weights is a corresponding numpy array\n",
    "    # create the predictions vector by using np.dot()\n",
    "    #print \"predict_output called, performing dot mult\"\n",
    "    predictions = np.dot(feature_matrix, weights)\n",
    "    #print \"predict_output called, dot mult completed\"\n",
    "    return(predictions)\n",
    "print \"predict_output loaded\""
   ]
  },
  {
   "cell_type": "markdown",
   "metadata": {},
   "source": [
    "# Normalize features\n",
    "In the house dataset, features vary wildly in their relative magnitude: `sqft_living` is very large overall compared to `bedrooms`, for instance. As a result, weight for `sqft_living` would be much smaller than weight for `bedrooms`. This is problematic because \"small\" weights are dropped first as `l1_penalty` goes up. \n",
    "\n",
    "To give equal considerations for all features, we need to **normalize features** as discussed in the lectures: we divide each feature by its 2-norm so that the transformed feature has norm 1.\n",
    "\n",
    "Let's see how we can do this normalization easily with Numpy: let us first consider a small matrix."
   ]
  },
  {
   "cell_type": "code",
   "execution_count": 6,
   "metadata": {
    "collapsed": false
   },
   "outputs": [
    {
     "name": "stdout",
     "output_type": "stream",
     "text": [
      "[[  3.   5.   8.]\n",
      " [  4.  12.  15.]]\n"
     ]
    }
   ],
   "source": [
    "X = np.array([[3.,5.,8.],[4.,12.,15.]])\n",
    "print X"
   ]
  },
  {
   "cell_type": "markdown",
   "metadata": {},
   "source": [
    "Numpy provides a shorthand for computing 2-norms of each column:"
   ]
  },
  {
   "cell_type": "code",
   "execution_count": 7,
   "metadata": {
    "collapsed": false
   },
   "outputs": [
    {
     "name": "stdout",
     "output_type": "stream",
     "text": [
      "[  5.  13.  17.]\n"
     ]
    }
   ],
   "source": [
    "norms = np.linalg.norm(X, axis=0) # gives [norm(X[:,0]), norm(X[:,1]), norm(X[:,2])]\n",
    "print norms\n",
    "#https://docs.scipy.org/doc/numpy/reference/generated/numpy.linalg.norm.html\n",
    "#numpy.linalg.norm(x, ord=None, axis=None, keepdims=False)\n",
    "#This function is able to return one of eight different matrix norms, or one of an infinite number of vector norms \n",
    "#(described below), depending on the value of the ord parameter.\n",
    "#ord : {non-zero int, inf, -inf, ‘fro’, ‘nuc’}, optional\n",
    "#ord\tnorm for matrices\tnorm for vectors\n",
    "#None\tFrobenius norm\t   2-norm\n",
    "# Order of the norm (see table under Notes). inf means numpy’s inf object.\n",
    "#n : float or ndarray : Norm of the matrix or vector(s).\n",
    "\n",
    "#NB: default when ord is not not nominated is Frobenius norm for matrices\n",
    "#http://mathworld.wolfram.com/FrobeniusNorm.html"
   ]
  },
  {
   "cell_type": "markdown",
   "metadata": {},
   "source": [
    "To normalize, apply element-wise division:"
   ]
  },
  {
   "cell_type": "code",
   "execution_count": 8,
   "metadata": {
    "collapsed": false
   },
   "outputs": [
    {
     "name": "stdout",
     "output_type": "stream",
     "text": [
      "[[ 0.6         0.38461538  0.47058824]\n",
      " [ 0.8         0.92307692  0.88235294]]\n"
     ]
    }
   ],
   "source": [
    "print X / norms \n",
    "# gives [X[:,0]/norm(X[:,0]), X[:,1]/norm(X[:,1]), X[:,2]/norm(X[:,2])]"
   ]
  },
  {
   "cell_type": "markdown",
   "metadata": {},
   "source": [
    "Using the shorthand we just covered, write a short function called `normalize_features(feature_matrix)`, which normalizes columns of a given feature matrix. The function should return a pair `(normalized_features, norms)`, where the second item contains the norms of original features. As discussed in the lectures, we will use these norms to normalize the test data in the same way as we normalized the training data. "
   ]
  },
  {
   "cell_type": "code",
   "execution_count": 56,
   "metadata": {
    "collapsed": false
   },
   "outputs": [
    {
     "name": "stdout",
     "output_type": "stream",
     "text": [
      "normalize_features defined\n"
     ]
    }
   ],
   "source": [
    "#verbose version\n",
    "#NB: messy. debugging identified wrong output object type\n",
    "#NBB: functional description above does not nominate output object types requ'd.\n",
    "def normalize_features(feature_matrix):\n",
    "    #normalizes columns of a given feature matrix.\n",
    "    normalized_features = feature_matrix\n",
    "    norms = []\n",
    "    num_cols = feature_matrix.shape[1]\n",
    "    #print \"num_cols = \", num_cols\n",
    "    for i in range(num_cols):\n",
    "        #print \"normalizing column \", i\n",
    "        X = feature_matrix[:,i]\n",
    "        norms.append(np.linalg.norm(X, axis=0))\n",
    "        normalized_features[:,i] = X/norms[i]\n",
    "    norms = np.array(norms)\n",
    "    return normalized_features, norms\n",
    "print \"normalize_features defined\""
   ]
  },
  {
   "cell_type": "code",
   "execution_count": 58,
   "metadata": {
    "collapsed": false
   },
   "outputs": [
    {
     "name": "stdout",
     "output_type": "stream",
     "text": [
      "type(features) =  <type 'numpy.ndarray'> , features.shape =  (2L, 3L)\n",
      "type(norms) = <type 'numpy.ndarray'> , norms.shape =  (3L,)\n",
      "---------------\n",
      "features = \n",
      "[[ 0.6  0.6  0.6]\n",
      " [ 0.8  0.8  0.8]]\n",
      "array matches, is ok\n",
      "---------------\n",
      "norms = \n",
      "[  5.  10.  15.]\n",
      "norms match, is ok\n"
     ]
    }
   ],
   "source": [
    "import numpy\n",
    "features, norms = normalize_features(np.array([[3.,6.,9.],[4.,8.,12.]]))\n",
    "print \"type(features) = \", type(features), \", features.shape = \", features.shape\n",
    "print \"type(norms) =\", type(norms), \", norms.shape = \", norms.shape\n",
    "print \"---------------\\nfeatures = \\n\", features\n",
    "if numpy.array_equal(features, np.array( [[ 0.6, 0.6, 0.6], [ 0.8, 0.8, 0.8]])):\n",
    "    print \"array matches, is ok\"\n",
    "else:\n",
    "    print \"error\"\n",
    "# should print\n",
    "# [[ 0.6  0.6  0.6]\n",
    "#  [ 0.8  0.8  0.8]]\n",
    "print \"---------------\\nnorms = \\n\", norms\n",
    "# should print\n",
    "# [5.  10.  15.]\n",
    "if numpy.array_equal(norms, np.array([5.0, 10.0, 15.0])):\n",
    "    print \"norms match, is ok\"\n",
    "else:\n",
    "    print \"error\""
   ]
  },
  {
   "cell_type": "code",
   "execution_count": 59,
   "metadata": {
    "collapsed": true
   },
   "outputs": [],
   "source": [
    "#compact version\n",
    "def normalize_features(feature_matrix):\n",
    "    #receives numpy.ndarray, calculates norm for each column,\n",
    "    #normalises each column, \n",
    "    #returns normalised numpy.ndarray [same # rows & columns as input] and \n",
    "    # numpy.ndarray [1D array] of norms.\n",
    "    #print \"type(feature_matrix) = \", type(feature_matrix)\n",
    "    #print \"feature_matrix.shape = \", feature_matrix.shape\n",
    "    norms = np.linalg.norm(feature_matrix, axis=0)\n",
    "    features=feature_matrix/norms\n",
    "    return features,norms"
   ]
  },
  {
   "cell_type": "markdown",
   "metadata": {},
   "source": [
    "To test the function, run the following:"
   ]
  },
  {
   "cell_type": "code",
   "execution_count": 60,
   "metadata": {
    "collapsed": false
   },
   "outputs": [
    {
     "name": "stdout",
     "output_type": "stream",
     "text": [
      "type(features) =  <type 'numpy.ndarray'> , features.shape =  (2L, 3L)\n",
      "type(norms) = <type 'numpy.ndarray'> , norms.shape =  (3L,)\n",
      "---------------\n",
      "features = \n",
      "[[ 0.6  0.6  0.6]\n",
      " [ 0.8  0.8  0.8]]\n",
      "array matches, is ok\n",
      "---------------\n",
      "norms = \n",
      "[  5.  10.  15.]\n",
      "norms match, is ok\n"
     ]
    }
   ],
   "source": [
    "import numpy\n",
    "features, norms = normalize_features(np.array([[3.,6.,9.],[4.,8.,12.]]))\n",
    "print \"type(features) = \", type(features), \", features.shape = \", features.shape\n",
    "print \"type(norms) =\", type(norms), \", norms.shape = \", norms.shape\n",
    "print \"---------------\\nfeatures = \\n\", features\n",
    "if numpy.array_equal(features, np.array( [[ 0.6, 0.6, 0.6], [ 0.8, 0.8, 0.8]])):\n",
    "    print \"array matches, is ok\"\n",
    "else:\n",
    "    print \"error\"\n",
    "# should print\n",
    "# [[ 0.6  0.6  0.6]\n",
    "#  [ 0.8  0.8  0.8]]\n",
    "print \"---------------\\nnorms = \\n\", norms\n",
    "# should print\n",
    "# [5.  10.  15.]\n",
    "if numpy.array_equal(norms, np.array([5.0, 10.0, 15.0])):\n",
    "    print \"norms match, is ok\"\n",
    "else:\n",
    "    print \"error\""
   ]
  },
  {
   "cell_type": "markdown",
   "metadata": {},
   "source": [
    "# Implementing Coordinate Descent with normalized features"
   ]
  },
  {
   "cell_type": "markdown",
   "metadata": {},
   "source": [
    "We seek to obtain a sparse set of weights by minimizing the LASSO cost function\n",
    "```\n",
    "SUM[ (prediction - output)^2 ] + lambda*( |w[1]| + ... + |w[k]|).\n",
    "```\n",
    "(By convention, we do not include `w[0]` in the L1 penalty term. We never want to push the intercept to zero.)\n",
    "\n",
    "The absolute value sign makes the cost function non-differentiable, so simple gradient descent is not viable (you would need to implement a method called subgradient descent). Instead, we will use **coordinate descent**: at each iteration, we will fix all weights but weight `i` and find the value of weight `i` that minimizes the objective. That is, we look for\n",
    "```\n",
    "argmin_{w[i]} [ SUM[ (prediction - output)^2 ] + lambda*( |w[1]| + ... + |w[k]|) ]\n",
    "```\n",
    "where all weights other than `w[i]` are held to be constant. We will optimize one `w[i]` at a time, circling through the weights multiple times.  \n",
    "  1. Pick a coordinate `i`\n",
    "  2. Compute `w[i]` that minimizes the cost function `SUM[ (prediction - output)^2 ] + lambda*( |w[1]| + ... + |w[k]|)`\n",
    "  3. Repeat Steps 1 and 2 for all coordinates, multiple times"
   ]
  },
  {
   "cell_type": "markdown",
   "metadata": {},
   "source": [
    "For this notebook, we use **cyclical coordinate descent with normalized features**, where we cycle through coordinates 0 to (d-1) in order, and assume the features were normalized as discussed above. The formula for optimizing each coordinate is as follows:\n",
    "```\n",
    "       ┌ (ro[i] + lambda/2)     if ro[i] < -lambda/2\n",
    "w[i] = ├ 0                      if -lambda/2 <= ro[i] <= lambda/2\n",
    "       └ (ro[i] - lambda/2)     if ro[i] > lambda/2\n",
    "```\n",
    "where\n",
    "```\n",
    "ro[i] = SUM[ [feature_i]*(output - prediction + w[i]*[feature_i]) ].\n",
    "```\n",
    "\n",
    "Note that we do not regularize the weight of the constant feature (intercept) `w[0]`, so, for this weight, the update is simply:\n",
    "```\n",
    "w[0] = ro[i]\n",
    "```"
   ]
  },
  {
   "cell_type": "markdown",
   "metadata": {},
   "source": [
    "## Effect of L1 penalty"
   ]
  },
  {
   "cell_type": "markdown",
   "metadata": {},
   "source": [
    "Let us consider a simple model with 2 features:"
   ]
  },
  {
   "cell_type": "code",
   "execution_count": 70,
   "metadata": {
    "collapsed": false
   },
   "outputs": [
    {
     "name": "stdout",
     "output_type": "stream",
     "text": [
      "<type 'numpy.ndarray'> (21613L, 3L)\n",
      "<type 'numpy.ndarray'> (21613L,)\n"
     ]
    }
   ],
   "source": [
    "simple_features = ['sqft_living', 'bedrooms']\n",
    "my_output = 'price'\n",
    "(simple_feature_matrix, output) = get_numpy_data(sales, simple_features, my_output)\n",
    "print type(simple_feature_matrix), simple_feature_matrix.shape\n",
    "print type(output), output.shape"
   ]
  },
  {
   "cell_type": "markdown",
   "metadata": {},
   "source": [
    "Don't forget to normalize features:"
   ]
  },
  {
   "cell_type": "code",
   "execution_count": 71,
   "metadata": {
    "collapsed": false
   },
   "outputs": [
    {
     "name": "stdout",
     "output_type": "stream",
     "text": [
      "simple_feature_matrix.shape =  (21613L, 3L)\n",
      "<type 'numpy.ndarray'> 3\n"
     ]
    }
   ],
   "source": [
    "simple_feature_matrix, norms = normalize_features(simple_feature_matrix)\n",
    "print \"simple_feature_matrix.shape = \", simple_feature_matrix.shape\n",
    "print type(norms), len(norms)"
   ]
  },
  {
   "cell_type": "markdown",
   "metadata": {},
   "source": [
    "We assign some random set of initial weights and inspect the values of `ro[i]`:"
   ]
  },
  {
   "cell_type": "code",
   "execution_count": 72,
   "metadata": {
    "collapsed": false
   },
   "outputs": [],
   "source": [
    "weights = np.array([1., 4., 1.])"
   ]
  },
  {
   "cell_type": "markdown",
   "metadata": {},
   "source": [
    "Use `predict_output()` to make predictions on this data."
   ]
  },
  {
   "cell_type": "code",
   "execution_count": 73,
   "metadata": {
    "collapsed": false
   },
   "outputs": [
    {
     "name": "stdout",
     "output_type": "stream",
     "text": [
      "<type 'numpy.ndarray'> (21613L,)\n"
     ]
    }
   ],
   "source": [
    "#predict_output(feature_matrix, weights)\n",
    "prediction = predict_output(simple_feature_matrix, weights)\n",
    "print type(prediction), prediction.shape"
   ]
  },
  {
   "cell_type": "markdown",
   "metadata": {},
   "source": [
    "Compute the values of `ro[i]` for each feature in this simple model, using the formula given above, using the formula:\n",
    "```\n",
    "ro[i] = SUM[ [feature_i]*(output - prediction + w[i]*[feature_i]) ]\n",
    "```\n",
    "\n",
    "*Hint: You can get a Numpy vector for feature_i using:*\n",
    "```\n",
    "simple_feature_matrix[:,i]\n",
    "```"
   ]
  },
  {
   "cell_type": "code",
   "execution_count": 74,
   "metadata": {
    "collapsed": false
   },
   "outputs": [
    {
     "name": "stdout",
     "output_type": "stream",
     "text": [
      "simple_feature_matrix.shape =  (21613L, 3L)\n",
      "num_features (excluding intercept) =  2\n",
      "type(num_features) =  <type 'int'>\n",
      "ro =  []\n",
      "type(ro) =  <type 'list'>\n",
      "ro =  [79400300.034929156, 87939470.772991076, 80966698.675965652]\n"
     ]
    }
   ],
   "source": [
    "print \"simple_feature_matrix.shape = \", simple_feature_matrix.shape\n",
    "num_features = int(simple_feature_matrix.shape[1]-1)#number of columns\n",
    "print \"num_features (excluding intercept) = \", num_features\n",
    "print \"type(num_features) = \", type(num_features)\n",
    "ro = []\n",
    "print \"ro = \", ro\n",
    "print \"type(ro) = \", type(ro)\n",
    "#for i in range(1, len(simple_features)+1):\n",
    "for i in range(len(simple_features)+1):\n",
    "    #loop over all columns\n",
    "    #ro.append(SUM[ [feature_i]*(output - prediction + w[i]*[feature_i]) ])\n",
    "    feature_i = simple_feature_matrix[:,i]\n",
    "    #slice a column & calculate \n",
    "    temp =  (feature_i*(output - prediction + weights[i]*feature_i) ).sum()\n",
    "    ro.append(temp)\n",
    "print \"ro = \", ro"
   ]
  },
  {
   "cell_type": "markdown",
   "metadata": {},
   "source": [
    "***QUIZ QUESTION***\n",
    "\n",
    "Recall that, whenever `ro[i]` falls between `-l1_penalty/2` and `l1_penalty/2`, the corresponding weight `w[i]` is sent to zero. Now suppose we were to take one step of coordinate descent on either feature 1 or feature 2. What range of values of `l1_penalty` **would not** set `w[1]` zero, but **would** set `w[2]` to zero, if we were to take a step in that coordinate? "
   ]
  },
  {
   "cell_type": "code",
   "execution_count": 89,
   "metadata": {
    "collapsed": false
   },
   "outputs": [
    {
     "name": "stdout",
     "output_type": "stream",
     "text": [
      "for ro[0] = 7.94E+07 , l1_penalty must be < 1.59E+08 to cause w[1] to NOT be set to zero\n",
      "for ro[0] = 7.94E+07, l1_penalty must be > 1.59E+08 to cause w[1] to be set to zero\n",
      "for ro[1] = 8.79E+07, l1_penalty must be > 1.76E+08 to cause w[2] to be set to zero\n"
     ]
    }
   ],
   "source": [
    "#take one step of coordinate descent on either feature 1 or feature 2.\n",
    "#whenever ro[i] falls between -l1_penalty/2 and l1_penalty/2, \n",
    "#the corresponding weight w[i] is sent to zero.\n",
    "from decimal import Decimal\n",
    "print \"for ro[0] = %.2E , l1_penalty must be < %.2E to cause w[1] to NOT be set to zero\" % (Decimal(ro[0]), Decimal(2*ro[0]))\n",
    "print \"for ro[0] = %.2E, l1_penalty must be > %.2E to cause w[1] to be set to zero\" % (Decimal(ro[0]), Decimal(2*ro[0]))\n",
    "print \"for ro[1] = %.2E, l1_penalty must be > %.2E to cause w[2] to be set to zero\" % (Decimal(ro[1]), Decimal(2*ro[1]))\n",
    "#NBB: variations in quiz question wording between multiple quiz attempts were observed. YMMV\n",
    "#nb: need to recheck my formula used to define range of l1_penalty, \n",
    "# have sighted alternative formula."
   ]
  },
  {
   "cell_type": "markdown",
   "metadata": {},
   "source": [
    "***QUIZ QUESTION***\n",
    "\n",
    "What range of values of `l1_penalty` would set **both** `w[1]` and `w[2]` to zero, if we were to take a step in that coordinate? "
   ]
  },
  {
   "cell_type": "code",
   "execution_count": 93,
   "metadata": {
    "collapsed": false
   },
   "outputs": [
    {
     "name": "stdout",
     "output_type": "stream",
     "text": [
      "when 1.59E+08 < l1_penalty < 1.76E+08, w[1] will NOT be zero and w[2] will be zero\n",
      "when l1_penalty is > 1.59E+08, **both** w[1] and w[2] will be set to zero\n"
     ]
    }
   ],
   "source": [
    "#quiz questions 1 & 2\n",
    "print 'when %.2E < l1_penalty < %.2E, w[1] will NOT be zero and w[2] will be zero' \\\n",
    " % (Decimal(2*ro[0]), Decimal(2*ro[1]))\n",
    "print 'when l1_penalty is > %.2E, **both** w[1] and w[2] will be set to zero' % Decimal(2*ro[0])"
   ]
  },
  {
   "cell_type": "markdown",
   "metadata": {},
   "source": [
    "So we can say that `ro[i]` quantifies the significance of the i-th feature: the larger `ro[i]` is, the more likely it is for the i-th feature to be retained."
   ]
  },
  {
   "cell_type": "markdown",
   "metadata": {},
   "source": [
    "## Single Coordinate Descent Step"
   ]
  },
  {
   "cell_type": "markdown",
   "metadata": {},
   "source": [
    "Using the formula above, implement coordinate descent that minimizes the cost function over a single feature i. Note that the intercept (weight 0) is not regularized. The function should accept feature matrix, output, current weights, l1 penalty, and index of feature to optimize over. The function should return new weight for feature i."
   ]
  },
  {
   "cell_type": "markdown",
   "metadata": {},
   "source": [
    "[formula/logic repeated from above]\n",
    "\n",
    "The formula for optimizing each coordinate is as follows:\n",
    "       ┌ (ro[i] + lambda/2)     if ro[i] < -lambda/2\n",
    "w[i] = ├ 0                      if -lambda/2 <= ro[i] <= lambda/2\n",
    "       └ (ro[i] - lambda/2)     if ro[i] > lambda/2"
   ]
  },
  {
   "cell_type": "code",
   "execution_count": 91,
   "metadata": {
    "collapsed": false
   },
   "outputs": [],
   "source": [
    "def lasso_coordinate_descent_step(i, feature_matrix, output, weights, l1_penalty):\n",
    "    # compute prediction\n",
    "    prediction = predict_output(feature_matrix, weights)\n",
    "    # compute ro[i] = SUM[ [feature_i]*(output - prediction + weight[i]*[feature_i]) ]\n",
    "    feature_i = feature_matrix[:,i] # pull this out for readability.\n",
    "    ro_i = (feature_i*(output - prediction + weights[i]*feature_i) ).sum()\n",
    "    #or rewrite above two lines as one line.\n",
    "    #ro_i = (feature_matrix[:,i]*(output-prediction+weights[i]*feature_matrix[:,i])).sum()\n",
    "\n",
    "    if i == 0: # intercept -- do not regularize\n",
    "        new_weight_i = ro_i \n",
    "    elif ro_i < -l1_penalty/2.:\n",
    "        new_weight_i = ro_i + l1_penalty/2\n",
    "    elif ro_i > l1_penalty/2.:\n",
    "        new_weight_i = ro_i - l1_penalty/2\n",
    "    else:\n",
    "        new_weight_i = 0.\n",
    "    \n",
    "    return new_weight_i"
   ]
  },
  {
   "cell_type": "markdown",
   "metadata": {},
   "source": [
    "To test the function, run the following cell:"
   ]
  },
  {
   "cell_type": "code",
   "execution_count": 92,
   "metadata": {
    "collapsed": false
   },
   "outputs": [
    {
     "name": "stdout",
     "output_type": "stream",
     "text": [
      "0.425558846691\n"
     ]
    }
   ],
   "source": [
    "# should print 0.425558846691\n",
    "import math\n",
    "print lasso_coordinate_descent_step(1, np.array([[3./math.sqrt(13),1./math.sqrt(10)],[2./math.sqrt(13),3./math.sqrt(10)]]), \n",
    "                                   np.array([1., 1.]), np.array([1., 4.]), 0.1)"
   ]
  },
  {
   "cell_type": "markdown",
   "metadata": {
    "collapsed": true
   },
   "source": [
    "## Cyclical coordinate descent "
   ]
  },
  {
   "cell_type": "markdown",
   "metadata": {},
   "source": [
    "Now that we have a function that optimizes the cost function over a single coordinate, let us implement cyclical coordinate descent where we optimize coordinates 0, 1, ..., (d-1) in order and repeat.\n",
    "\n",
    "When do we know to stop? Each time we scan all the coordinates (features) once, we measure the change in weight for each coordinate. If no coordinate changes by more than a specified threshold, we stop."
   ]
  },
  {
   "cell_type": "markdown",
   "metadata": {},
   "source": [
    "For each iteration:\n",
    "1. As you loop over features in order and perform coordinate descent, measure how much each coordinate changes.\n",
    "2. After the loop, if the maximum change across all coordinates is falls below the tolerance, stop. Otherwise, go back to step 1.\n",
    "\n",
    "Return weights\n",
    "\n",
    "**IMPORTANT: when computing a new weight for coordinate i, make sure to incorporate the new weights for coordinates 0, 1, ..., i-1. One good way is to update your weights variable in-place. See following pseudocode for illustration.**\n",
    "```\n",
    "for i in range(len(weights)):\n",
    "    old_weights_i = weights[i] # remember old value of weight[i], as it will be overwritten\n",
    "    # the following line uses new values for weight[0], weight[1], ..., weight[i-1]\n",
    "    #     and old values for weight[i], ..., weight[d-1]\n",
    "    weights[i] = lasso_coordinate_descent_step(i, feature_matrix, output, weights, l1_penalty)\n",
    "    \n",
    "    # use old_weights_i to compute change in coordinate\n",
    "    ...\n",
    "```"
   ]
  },
  {
   "cell_type": "code",
   "execution_count": 131,
   "metadata": {
    "collapsed": false
   },
   "outputs": [],
   "source": [
    "def get_RSS(pred, outcome):\n",
    "    #rss = residual sum of squares = (pred - outcome)^2\n",
    "    #helper method to aid readability\n",
    "    res= outcome-pred\n",
    "    rss=(res*res).sum()\n",
    "    return(rss)   "
   ]
  },
  {
   "cell_type": "code",
   "execution_count": 132,
   "metadata": {
    "collapsed": true
   },
   "outputs": [],
   "source": [
    "def lasso_cyclical_coordinate_descent(feature_matrix, output, initial_weights, l1_penalty, tolerance):\n",
    "    d=2*tolerance\n",
    "    while  (d >tolerance):\n",
    "        weights=initial_weights\n",
    "        deltas= [0 for i in range(len(weights))]\n",
    "        for i in range(len(weights)):\n",
    "            old_weights_i = weights[i] # remember old value of weight[i], as it will be overwritten\n",
    "            # the following line uses new values for weight[0], weight[1], ..., weight[i-1]\n",
    "            #     and old values for weight[i], ..., weight[d-1]\n",
    "            weights[i] = lasso_coordinate_descent_step(i, feature_matrix, output, weights, l1_penalty)\n",
    "\n",
    "            # use old_weights_i to compute change in coordinate\n",
    "            deltas[i]=abs(weights[i]-old_weights_i)\n",
    "        d= max(deltas)\n",
    "      #  print d\n",
    "    return weights"
   ]
  },
  {
   "cell_type": "markdown",
   "metadata": {},
   "source": [
    "Using the following parameters, learn the weights on the sales dataset. "
   ]
  },
  {
   "cell_type": "code",
   "execution_count": 133,
   "metadata": {
    "collapsed": false
   },
   "outputs": [],
   "source": [
    "simple_features = ['sqft_living', 'bedrooms']\n",
    "my_output = 'price'\n",
    "initial_weights = np.zeros(3)\n",
    "l1_penalty = 1e7\n",
    "tolerance = 1.0"
   ]
  },
  {
   "cell_type": "markdown",
   "metadata": {},
   "source": [
    "First create a normalized version of the feature matrix, `normalized_simple_feature_matrix`."
   ]
  },
  {
   "cell_type": "code",
   "execution_count": 134,
   "metadata": {
    "collapsed": false
   },
   "outputs": [
    {
     "name": "stdout",
     "output_type": "stream",
     "text": [
      "simple_feature_matrix =  <type 'numpy.ndarray'> (21613L, 3L)\n",
      "output =  <type 'numpy.ndarray'> (21613L,)\n",
      "normalized_simple_feature_matrix =  <type 'numpy.ndarray'> (21613L, 3L)\n",
      "simple_norms =  <type 'numpy.ndarray'> (3L,)\n"
     ]
    }
   ],
   "source": [
    "(simple_feature_matrix, output) = get_numpy_data(sales, simple_features, my_output)\n",
    "(normalized_simple_feature_matrix, simple_norms) = normalize_features(simple_feature_matrix) \n",
    "# normalize features\n",
    "print \"simple_feature_matrix = \", type(simple_feature_matrix), simple_feature_matrix.shape\n",
    "print \"output = \", type(output), output.shape\n",
    "print \"normalized_simple_feature_matrix = \", type(normalized_simple_feature_matrix), normalized_simple_feature_matrix.shape\n",
    "print \"simple_norms = \",  type(simple_norms), simple_norms.shape"
   ]
  },
  {
   "cell_type": "markdown",
   "metadata": {},
   "source": [
    "Then, run your implementation of LASSO coordinate descent:"
   ]
  },
  {
   "cell_type": "code",
   "execution_count": 135,
   "metadata": {
    "collapsed": false
   },
   "outputs": [
    {
     "name": "stdout",
     "output_type": "stream",
     "text": [
      "weights =  [ 21624998.36636292  63157246.78545421         0.        ] (3L,)\n",
      "type(normalized_simple_feature_matrix) =  <type 'numpy.ndarray'>\n",
      "type(weights) =  <type 'numpy.ndarray'>\n",
      "RSS =  1.63049248148e+15\n",
      "Quiz Q3 answer: RSS = 1.63E+15\n",
      "quiz Q 4 answer: features & values\n",
      "constant  = 2.16E+07\n",
      "sqft_living  = 6.32E+07\n",
      "bedrooms  = 0.00E+00\n"
     ]
    }
   ],
   "source": [
    "weights = lasso_cyclical_coordinate_descent(normalized_simple_feature_matrix, \n",
    "                                            output,\n",
    "                                            initial_weights, \n",
    "                                            l1_penalty, tolerance)\n",
    "print \"weights = \", weights, weights.shape\n",
    "print \"type(normalized_simple_feature_matrix) = \", type(normalized_simple_feature_matrix)\n",
    "print \"type(weights) = \", type(weights)\n",
    "prediction = predict_output(normalized_simple_feature_matrix, weights)\n",
    "RSS = ((prediction-output)**2).sum()\n",
    "#quiz Q3 answer\n",
    "print \"RSS = \", RSS\n",
    "print 'Quiz Q3 answer: RSS = %.2E' % Decimal(RSS)\n",
    "# recall: normalized_simple_feature_matrix is generated from \n",
    "# simple_features = ['sqft_living', 'bedrooms']\n",
    "# weights represents ['intercept', 'sqft_living', 'bedrooms'] \n",
    "# ('intercept' also referred to as 'constant')\n",
    "# \n",
    "temp = ['constant']+simple_features\n",
    "print \"quiz Q 4 answer: features & values\"\n",
    "for i  in range(len(temp)):\n",
    "    print temp[i], \" = %.2E\" % Decimal(weights[i])\n",
    "    "
   ]
  },
  {
   "cell_type": "markdown",
   "metadata": {},
   "source": [
    "***QUIZ QUESTIONS***\n",
    "1. What is the RSS of the learned model on the normalized dataset? (Hint: use the normalized feature matrix when you make predictions.)\n",
    "2. Which features had weight zero at convergence?"
   ]
  },
  {
   "cell_type": "markdown",
   "metadata": {},
   "source": [
    "# Evaluating LASSO fit with more features"
   ]
  },
  {
   "cell_type": "markdown",
   "metadata": {},
   "source": [
    "Let us split the sales dataset into training and test sets."
   ]
  },
  {
   "cell_type": "code",
   "execution_count": 136,
   "metadata": {
    "collapsed": false
   },
   "outputs": [
    {
     "name": "stdout",
     "output_type": "stream",
     "text": [
      "train_data :  <class 'graphlab.data_structures.sframe.SFrame'> (17384, 22)\n",
      "test_data :  <class 'graphlab.data_structures.sframe.SFrame'> (4229, 22)\n"
     ]
    }
   ],
   "source": [
    "train_data,test_data = sales.random_split(.8,seed=0)\n",
    "print \"train_data : \", type(train_data), train_data.shape\n",
    "print \"test_data : \", type(test_data), test_data.shape\n"
   ]
  },
  {
   "cell_type": "markdown",
   "metadata": {},
   "source": [
    "Let us consider the following set of features."
   ]
  },
  {
   "cell_type": "code",
   "execution_count": 137,
   "metadata": {
    "collapsed": false
   },
   "outputs": [
    {
     "name": "stdout",
     "output_type": "stream",
     "text": [
      "all_features :  <type 'list'> 13\n"
     ]
    }
   ],
   "source": [
    "all_features = ['bedrooms',\n",
    "                'bathrooms',\n",
    "                'sqft_living',\n",
    "                'sqft_lot',\n",
    "                'floors',\n",
    "                'waterfront', \n",
    "                'view', \n",
    "                'condition', \n",
    "                'grade',\n",
    "                'sqft_above',\n",
    "                'sqft_basement',\n",
    "                'yr_built', \n",
    "                'yr_renovated']\n",
    "print \"all_features : \", type(all_features), len(all_features)"
   ]
  },
  {
   "cell_type": "markdown",
   "metadata": {},
   "source": [
    "First, create a normalized feature matrix from the TRAINING data with these features.  (Make you store the norms for the normalization, since we'll use them later)"
   ]
  },
  {
   "cell_type": "code",
   "execution_count": 138,
   "metadata": {
    "collapsed": false
   },
   "outputs": [
    {
     "name": "stdout",
     "output_type": "stream",
     "text": [
      "[[ 0.00758447  0.00652117  0.0033687  ...,  0.          0.00752148  0.        ]\n",
      " [ 0.00758447  0.00652117  0.00757957 ...,  0.0057043   0.0075061\n",
      "   0.03707954]\n",
      " [ 0.00758447  0.00434745  0.0033687  ...,  0.          0.00743684  0.        ]\n",
      " ..., \n",
      " [ 0.00758447  0.00652117  0.00842175 ...,  0.          0.00772924  0.        ]\n",
      " [ 0.00758447  0.00652117  0.00842175 ...,  0.          0.00771     0.        ]\n",
      " [ 0.00758447  0.00434745  0.00252652 ...,  0.          0.00772539  0.        ]]\n",
      "feature_matrix :  <type 'numpy.ndarray'> (17384L, 14L)\n",
      "output :  <type 'numpy.ndarray'> (17384L,)\n",
      "norm_feature_matrix :  <type 'numpy.ndarray'> (17384L, 14L)\n",
      "norms :  <type 'numpy.ndarray'> (14L,)\n"
     ]
    }
   ],
   "source": [
    "(feature_matrix, output) = get_numpy_data(train_data, all_features, my_output)\n",
    "norm_feature_matrix, norms = normalize_features(feature_matrix)\n",
    "print norm_feature_matrix\n",
    "print \"feature_matrix : \", type(feature_matrix), feature_matrix.shape\n",
    "print \"output : \", type(output), output.shape\n",
    "print \"norm_feature_matrix : \", type(norm_feature_matrix), norm_feature_matrix.shape\n",
    "print \"norms : \", type(norms), norms.shape\n",
    "#NB: all_features has 13 element, norms has 14 elements, first element is for constant."
   ]
  },
  {
   "cell_type": "code",
   "execution_count": 152,
   "metadata": {
    "collapsed": false
   },
   "outputs": [
    {
     "name": "stdout",
     "output_type": "stream",
     "text": [
      "weights1e7 :  <type 'numpy.ndarray'> (14L,)\n",
      "rss :  <type 'numpy.float64'>  =  1.23159557516e+15\n",
      "quiz Q5 answer\n",
      "        constant = 2.44E+07\n",
      "        bedrooms = 0.00E+00\n",
      "       bathrooms = 0.00E+00\n",
      "     sqft_living = 4.84E+07\n",
      "        sqft_lot = 0.00E+00\n",
      "          floors = 0.00E+00\n",
      "      waterfront = 3.32E+06\n",
      "            view = 7.33E+06\n",
      "       condition = 0.00E+00\n",
      "           grade = 0.00E+00\n",
      "      sqft_above = 0.00E+00\n",
      "   sqft_basement = 0.00E+00\n",
      "        yr_built = 0.00E+00\n",
      "    yr_renovated = 0.00E+00\n"
     ]
    }
   ],
   "source": [
    "my_output = 'price'\n",
    "initial_weights = np.zeros(14)#Initialize weights to all zeros,\n",
    "l1_penalty = 1e7\n",
    "tolerance = 1\n",
    "weights1e7 = lasso_cyclical_coordinate_descent(norm_feature_matrix, \n",
    "                                               output,\n",
    "                                               initial_weights, \n",
    "                                               l1_penalty, tolerance)\n",
    "print \"weights1e7 : \", type(weights1e7), weights1e7.shape\n",
    "predictions=predict_output(norm_feature_matrix, weights1e7)\n",
    "rss= get_RSS(predictions, output)\n",
    "print \"rss : \", type(rss), \" = \", rss\n",
    "features = ['constant']+all_features\n",
    "print \"quiz Q5 answer\"\n",
    "for i in range(len(features)):\n",
    "    #print features[i], \" = \", weights1e7[i]\n",
    "    print \" %15s = %.2E\" % (features[i], Decimal(weights1e7[i]))"
   ]
  },
  {
   "cell_type": "markdown",
   "metadata": {},
   "source": [
    "First, learn the weights with `l1_penalty=1e7`, on the training data. Initialize weights to all zeros, and set the `tolerance=1`.  Call resulting weights `weights1e7`, you will need them later."
   ]
  },
  {
   "cell_type": "markdown",
   "metadata": {},
   "source": [
    "***QUIZ QUESTION***\n",
    "\n",
    "What features had non-zero weight in this case?"
   ]
  },
  {
   "cell_type": "markdown",
   "metadata": {
    "collapsed": true
   },
   "source": [
    "Next, learn the weights with `l1_penalty=1e8`, on the training data. Initialize weights to all zeros, and set the `tolerance=1`.  Call resulting weights `weights1e8`, you will need them later."
   ]
  },
  {
   "cell_type": "code",
   "execution_count": 151,
   "metadata": {
    "collapsed": false
   },
   "outputs": [
    {
     "name": "stdout",
     "output_type": "stream",
     "text": [
      "rss :  <type 'numpy.float64'>  =  2.37576185506e+15\n",
      "quiz Q6 answer, weights\n",
      "        constant = 7.11E+07\n",
      "        bedrooms = 0.00E+00\n",
      "       bathrooms = 0.00E+00\n",
      "     sqft_living = 0.00E+00\n",
      "        sqft_lot = 0.00E+00\n",
      "          floors = 0.00E+00\n",
      "      waterfront = 0.00E+00\n",
      "            view = 0.00E+00\n",
      "       condition = 0.00E+00\n",
      "           grade = 0.00E+00\n",
      "      sqft_above = 0.00E+00\n",
      "   sqft_basement = 0.00E+00\n",
      "        yr_built = 0.00E+00\n",
      "    yr_renovated = 0.00E+00\n"
     ]
    }
   ],
   "source": [
    "my_output = 'price'\n",
    "initial_weights = np.zeros(14)\n",
    "l1_penalty = 1e8\n",
    "tolerance = 1\n",
    "weights1e8 = lasso_cyclical_coordinate_descent(norm_feature_matrix, output,\n",
    "                                            initial_weights, l1_penalty, tolerance)\n",
    "predictions=predict_output(norm_feature_matrix, weights1e8)\n",
    "rss= get_RSS(predictions, output)\n",
    "print \"rss : \", type(rss), \" = \", rss\n",
    "features = ['constant']+all_features\n",
    "print \"quiz Q6 answer, weights\"\n",
    "for i in range(len(features)):\n",
    "    #print features[i], \" = \", weights1e7[i]\n",
    "    print \" %15s = %.2E\" % (features[i], Decimal(weights1e8[i]))"
   ]
  },
  {
   "cell_type": "markdown",
   "metadata": {},
   "source": [
    "***QUIZ QUESTION***\n",
    "\n",
    "What features had non-zero weight in this case?"
   ]
  },
  {
   "cell_type": "markdown",
   "metadata": {},
   "source": [
    "Finally, learn the weights with `l1_penalty=1e4`, on the training data. Initialize weights to all zeros, and set the `tolerance=5e5`.  Call resulting weights `weights1e4`, you will need them later.  (This case will take quite a bit longer to converge than the others above.)"
   ]
  },
  {
   "cell_type": "code",
   "execution_count": 155,
   "metadata": {
    "collapsed": false
   },
   "outputs": [
    {
     "name": "stdout",
     "output_type": "stream",
     "text": [
      "rss :  <type 'numpy.float64'>  =  9.84789065063e+14\n",
      "quiz Q7 answer, weights\n",
      "        constant = 7.78E+07\n",
      "        bedrooms = -2.29E+07\n",
      "       bathrooms = 1.53E+07\n",
      "     sqft_living = 9.22E+07\n",
      "        sqft_lot = -2.14E+06\n",
      "          floors = -8.82E+06\n",
      "      waterfront = 6.49E+06\n",
      "            view = 7.07E+06\n",
      "       condition = 4.12E+06\n",
      "           grade = 1.84E+07\n",
      "      sqft_above = -1.46E+07\n",
      "   sqft_basement = -5.53E+06\n",
      "        yr_built = -8.36E+07\n",
      "    yr_renovated = 2.78E+06\n"
     ]
    }
   ],
   "source": [
    "my_output = 'price'\n",
    "initial_weights = np.zeros(14)\n",
    "l1_penalty = 1e4\n",
    "tolerance = 5e5\n",
    "weights1e4= lasso_cyclical_coordinate_descent(norm_feature_matrix, output,\n",
    "                                            initial_weights, l1_penalty, tolerance)\n",
    "#print weights1e4\n",
    "predictions=predict_output(norm_feature_matrix, weights1e4)\n",
    "rss= get_RSS(predictions, output)\n",
    "#print rss\n",
    "\n",
    "print \"rss : \", type(rss), \" = \", rss\n",
    "features = ['constant']+all_features\n",
    "print \"quiz Q7 answer, weights\"\n",
    "for i in range(len(features)):\n",
    "    #print features[i], \" = \", weights1e7[i]\n",
    "    print \" %15s = %.2E\" % (features[i], Decimal(weights1e4[i]))"
   ]
  },
  {
   "cell_type": "markdown",
   "metadata": {},
   "source": [
    "***QUIZ QUESTION***\n",
    "\n",
    "What features had non-zero weight in this case?"
   ]
  },
  {
   "cell_type": "markdown",
   "metadata": {},
   "source": [
    "## Rescaling learned weights"
   ]
  },
  {
   "cell_type": "markdown",
   "metadata": {},
   "source": [
    "Recall that we normalized our feature matrix, before learning the weights.  To use these weights on a test set, we must normalize the test data in the same way.\n",
    "\n",
    "Alternatively, we can rescale the learned weights to include the normalization, so we never have to worry about normalizing the test data: \n",
    "\n",
    "In this case, we must scale the resulting weights so that we can make predictions with *original* features:\n",
    " 1. Store the norms of the original features to a vector called `norms`:\n",
    "```\n",
    "features, norms = normalize_features(features)\n",
    "```\n",
    " 2. Run Lasso on the normalized features and obtain a `weights` vector\n",
    " 3. Compute the weights for the original features by performing element-wise division, i.e.\n",
    "```\n",
    "weights_normalized = weights / norms\n",
    "```\n",
    "Now, we can apply `weights_normalized` to the test data, without normalizing it!"
   ]
  },
  {
   "cell_type": "markdown",
   "metadata": {},
   "source": [
    "Create a normalized version of each of the weights learned above. (`weights1e4`, `weights1e7`, `weights1e8`)."
   ]
  },
  {
   "cell_type": "code",
   "execution_count": 157,
   "metadata": {
    "collapsed": false
   },
   "outputs": [
    {
     "name": "stdout",
     "output_type": "stream",
     "text": [
      "normalized_weights1e4 :  <type 'numpy.ndarray'> (14L,)\n",
      "normalized_weights1e7 :  <type 'numpy.ndarray'> (14L,)\n",
      "normalized_weights1e8 :  <type 'numpy.ndarray'> (14L,)\n",
      "161.317456248\n"
     ]
    }
   ],
   "source": [
    "normalized_weights1e4 = weights1e4/norms\n",
    "normalized_weights1e7 = weights1e7/norms\n",
    "normalized_weights1e8 = weights1e8/norms\n",
    "print \"normalized_weights1e4 : \", type(normalized_weights1e4), normalized_weights1e4.shape\n",
    "print \"normalized_weights1e7 : \", type(normalized_weights1e7), normalized_weights1e7.shape\n",
    "print \"normalized_weights1e8 : \", type(normalized_weights1e8), normalized_weights1e8.shape\n",
    "print normalized_weights1e7[3]"
   ]
  },
  {
   "cell_type": "markdown",
   "metadata": {},
   "source": [
    "To check your results, if you call `normalized_weights1e7` the normalized version of `weights1e7`, then:\n",
    "```\n",
    "print normalized_weights1e7[3]\n",
    "```\n",
    "should return 161.31745624837794."
   ]
  },
  {
   "cell_type": "markdown",
   "metadata": {},
   "source": [
    "## Evaluating each of the learned models on the test data"
   ]
  },
  {
   "cell_type": "markdown",
   "metadata": {},
   "source": [
    "Let's now evaluate the three models on the test data:"
   ]
  },
  {
   "cell_type": "code",
   "execution_count": 158,
   "metadata": {
    "collapsed": true
   },
   "outputs": [],
   "source": [
    "(test_feature_matrix, test_output) = get_numpy_data(test_data, all_features, 'price')"
   ]
  },
  {
   "cell_type": "markdown",
   "metadata": {},
   "source": [
    "Compute the RSS of each of the three normalized weights on the (unnormalized) `test_feature_matrix`:"
   ]
  },
  {
   "cell_type": "code",
   "execution_count": 160,
   "metadata": {
    "collapsed": false
   },
   "outputs": [
    {
     "name": "stdout",
     "output_type": "stream",
     "text": [
      "rss for normalized_weights1e4 =  2.2778100476e+14\n"
     ]
    }
   ],
   "source": [
    "predictions=predict_output(test_feature_matrix, normalized_weights1e4)\n",
    "rss= get_RSS(predictions, test_output)\n",
    "print \"rss for normalized_weights1e4 = \", rss"
   ]
  },
  {
   "cell_type": "code",
   "execution_count": 161,
   "metadata": {
    "collapsed": false
   },
   "outputs": [
    {
     "name": "stdout",
     "output_type": "stream",
     "text": [
      "rss for normalized_weights1e7 =  2.75962079909e+14\n"
     ]
    }
   ],
   "source": [
    "predictions=predict_output(test_feature_matrix, normalized_weights1e7)\n",
    "rss= get_RSS(predictions, test_output)\n",
    "print \"rss for normalized_weights1e7 = \", rss"
   ]
  },
  {
   "cell_type": "code",
   "execution_count": 162,
   "metadata": {
    "collapsed": false
   },
   "outputs": [
    {
     "name": "stdout",
     "output_type": "stream",
     "text": [
      "rss for normalized_weights1e8 =  5.37166150034e+14\n"
     ]
    }
   ],
   "source": [
    "predictions=predict_output(test_feature_matrix, normalized_weights1e8)\n",
    "rss= get_RSS(predictions, test_output)\n",
    "print \"rss for normalized_weights1e8 = \", rss"
   ]
  },
  {
   "cell_type": "markdown",
   "metadata": {},
   "source": [
    "***QUIZ QUESTION***\n",
    "\n",
    "Which model performed best on the test data?"
   ]
  }
 ],
 "metadata": {
  "kernelspec": {
   "display_name": "Python 2",
   "language": "python",
   "name": "python2"
  },
  "language_info": {
   "codemirror_mode": {
    "name": "ipython",
    "version": 2
   },
   "file_extension": ".py",
   "mimetype": "text/x-python",
   "name": "python",
   "nbconvert_exporter": "python",
   "pygments_lexer": "ipython2",
   "version": "2.7.11"
  }
 },
 "nbformat": 4,
 "nbformat_minor": 0
}
