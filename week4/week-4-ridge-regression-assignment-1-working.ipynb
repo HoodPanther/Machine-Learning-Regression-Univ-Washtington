{
 "cells": [
  {
   "cell_type": "markdown",
   "metadata": {},
   "source": [
    "# Regression Week 4: Ridge Regression (interpretation)"
   ]
  },
  {
   "cell_type": "markdown",
   "metadata": {},
   "source": [
    "In this notebook, we will run ridge regression multiple times with different L2 penalties to see which one produces the best fit. We will revisit the example of polynomial regression as a means to see the effect of L2 regularization. In particular, we will:\n",
    "* Use a pre-built implementation of regression (GraphLab Create) to run polynomial regression\n",
    "* Use matplotlib to visualize polynomial regressions\n",
    "* Use a pre-built implementation of regression (GraphLab Create) to run polynomial regression, this time with L2 penalty\n",
    "* Use matplotlib to visualize polynomial regressions under L2 regularization\n",
    "* Choose best L2 penalty using cross-validation.\n",
    "* Assess the final fit using test data.\n",
    "\n",
    "We will continue to use the House data from previous notebooks.  (In the next programming assignment for this module, you will implement your own ridge regression learning algorithm using gradient descent.)"
   ]
  },
  {
   "cell_type": "markdown",
   "metadata": {},
   "source": [
    "# Fire up graphlab create"
   ]
  },
  {
   "cell_type": "code",
   "execution_count": 71,
   "metadata": {
    "collapsed": false
   },
   "outputs": [],
   "source": [
    "import graphlab"
   ]
  },
  {
   "cell_type": "markdown",
   "metadata": {},
   "source": [
    "# Polynomial regression, revisited"
   ]
  },
  {
   "cell_type": "markdown",
   "metadata": {},
   "source": [
    "We build on the material from Week 3, where we wrote the function to produce an SFrame with columns containing the powers of a given input. Copy and paste the function `polynomial_sframe` from Week 3:"
   ]
  },
  {
   "cell_type": "code",
   "execution_count": 72,
   "metadata": {
    "collapsed": true
   },
   "outputs": [],
   "source": [
    "def polynomial_sframe(feature, degree):\n",
    "    # assume that degree >= 1\n",
    "    # initialize the SFrame:\n",
    "    poly_sframe = graphlab.SFrame()\n",
    "    # and set poly_sframe['power_1'] equal to the passed feature\n",
    "    poly_sframe['power_1'] = feature\n",
    "    # first check if degree > 1\n",
    "    if degree > 1:\n",
    "        # then loop over the remaining degrees:\n",
    "        # range usually starts at 0 and stops at the endpoint-1. We want it to start at 2 and stop at degree\n",
    "        for power in range(2, degree+1): \n",
    "            # first we'll give the column a name:\n",
    "            name = 'power_' + str(power)\n",
    "            # then assign poly_sframe[name] to the appropriate power of feature\n",
    "            poly_sframe[name] = feature.apply(lambda x: x**power)\n",
    "    return poly_sframe\n",
    "    "
   ]
  },
  {
   "cell_type": "markdown",
   "metadata": {},
   "source": [
    "Let's use matplotlib to visualize what a polynomial regression looks like on the house data."
   ]
  },
  {
   "cell_type": "code",
   "execution_count": 73,
   "metadata": {
    "collapsed": false
   },
   "outputs": [],
   "source": [
    "import matplotlib.pyplot as plt\n",
    "%matplotlib inline"
   ]
  },
  {
   "cell_type": "code",
   "execution_count": 74,
   "metadata": {
    "collapsed": false
   },
   "outputs": [
    {
     "name": "stdout",
     "output_type": "stream",
     "text": [
      "(21613, 21)\n",
      "['id', 'date', 'price', 'bedrooms', 'bathrooms', 'sqft_living', 'sqft_lot', 'floors', 'waterfront', 'view', 'condition', 'grade', 'sqft_above', 'sqft_basement', 'yr_built', 'yr_renovated', 'zipcode', 'lat', 'long', 'sqft_living15', 'sqft_lot15']\n"
     ]
    }
   ],
   "source": [
    "sales = graphlab.SFrame('../data/kc_house_data.gl/')\n",
    "print sales.shape\n",
    "print sales.column_names()"
   ]
  },
  {
   "cell_type": "markdown",
   "metadata": {},
   "source": [
    "As in Week 3, we will use the sqft_living variable. For plotting purposes (connecting the dots), you'll need to sort by the values of sqft_living. For houses with identical square footage, we break the tie by their prices."
   ]
  },
  {
   "cell_type": "code",
   "execution_count": 75,
   "metadata": {
    "collapsed": false
   },
   "outputs": [],
   "source": [
    "sales = sales.sort(['sqft_living','price'])"
   ]
  },
  {
   "cell_type": "markdown",
   "metadata": {},
   "source": [
    "Let us revisit the 15th-order polynomial model using the 'sqft_living' input. Generate polynomial features up to degree 15 using `polynomial_sframe()` and fit a model with these features. When fitting the model, use an L2 penalty of `1e-5`:"
   ]
  },
  {
   "cell_type": "code",
   "execution_count": 76,
   "metadata": {
    "collapsed": false
   },
   "outputs": [
    {
     "name": "stdout",
     "output_type": "stream",
     "text": [
      "(21613, 16)\n",
      "column names =  ['power_1', 'power_2', 'power_3', 'power_4', 'power_5', 'power_6', 'power_7', 'power_8', 'power_9', 'power_10', 'power_11', 'power_12', 'power_13', 'power_14', 'power_15', 'price']\n",
      "sales_poly_15_features =  ['power_1', 'power_2', 'power_3', 'power_4', 'power_5', 'power_6', 'power_7', 'power_8', 'power_9', 'power_10', 'power_11', 'power_12', 'power_13', 'power_14', 'power_15']\n"
     ]
    }
   ],
   "source": [
    "#Generate polynomial features up to degree 15 using polynomial_sframe() \n",
    "sales_poly_15 = polynomial_sframe(sales['sqft_living'], 15)\n",
    "sales_poly_15['price'] = sales['price']\n",
    "print sales_poly_15.shape\n",
    "sales_poly_15_features = sales_poly_15.column_names()\n",
    "print \"column names = \", sales_poly_15_features\n",
    "sales_poly_15_features = sales_poly_15_features[:-1]\n",
    "print \"sales_poly_15_features = \", sales_poly_15_features\n",
    "#When fitting the model, use an L2 penalty of 1e-5\n",
    "l2_small_penalty = 1e-5"
   ]
  },
  {
   "cell_type": "markdown",
   "metadata": {},
   "source": [
    "Note: When we have so many features and so few data points, the solution can become highly numerically unstable, which can sometimes lead to strange unpredictable results.  Thus, rather than using no regularization, we will introduce a tiny amount of regularization (`l2_penalty=1e-5`) to make the solution numerically stable.  (In lecture, we discussed the fact that regularization can also help with numerical stability, and here we are seeing a practical example.)\n",
    "\n",
    "With the L2 penalty specified above, fit the model and print out the learned weights.\n",
    "\n",
    "Hint: make sure to add 'price' column to the new SFrame before calling `graphlab.linear_regression.create()`. Also, make sure GraphLab Create doesn't create its own validation set by using the option `validation_set=None` in this call."
   ]
  },
  {
   "cell_type": "code",
   "execution_count": 77,
   "metadata": {
    "collapsed": false
   },
   "outputs": [
    {
     "data": {
      "text/html": [
       "<pre>Linear regression:</pre>"
      ],
      "text/plain": [
       "Linear regression:"
      ]
     },
     "metadata": {},
     "output_type": "display_data"
    },
    {
     "data": {
      "text/html": [
       "<pre>--------------------------------------------------------</pre>"
      ],
      "text/plain": [
       "--------------------------------------------------------"
      ]
     },
     "metadata": {},
     "output_type": "display_data"
    },
    {
     "data": {
      "text/html": [
       "<pre>Number of examples          : 21613</pre>"
      ],
      "text/plain": [
       "Number of examples          : 21613"
      ]
     },
     "metadata": {},
     "output_type": "display_data"
    },
    {
     "data": {
      "text/html": [
       "<pre>Number of features          : 15</pre>"
      ],
      "text/plain": [
       "Number of features          : 15"
      ]
     },
     "metadata": {},
     "output_type": "display_data"
    },
    {
     "data": {
      "text/html": [
       "<pre>Number of unpacked features : 15</pre>"
      ],
      "text/plain": [
       "Number of unpacked features : 15"
      ]
     },
     "metadata": {},
     "output_type": "display_data"
    },
    {
     "data": {
      "text/html": [
       "<pre>Number of coefficients    : 16</pre>"
      ],
      "text/plain": [
       "Number of coefficients    : 16"
      ]
     },
     "metadata": {},
     "output_type": "display_data"
    },
    {
     "data": {
      "text/html": [
       "<pre>Starting Newton Method</pre>"
      ],
      "text/plain": [
       "Starting Newton Method"
      ]
     },
     "metadata": {},
     "output_type": "display_data"
    },
    {
     "data": {
      "text/html": [
       "<pre>--------------------------------------------------------</pre>"
      ],
      "text/plain": [
       "--------------------------------------------------------"
      ]
     },
     "metadata": {},
     "output_type": "display_data"
    },
    {
     "data": {
      "text/html": [
       "<pre>+-----------+----------+--------------+--------------------+---------------+</pre>"
      ],
      "text/plain": [
       "+-----------+----------+--------------+--------------------+---------------+"
      ]
     },
     "metadata": {},
     "output_type": "display_data"
    },
    {
     "data": {
      "text/html": [
       "<pre>| Iteration | Passes   | Elapsed Time | Training-max_error | Training-rmse |</pre>"
      ],
      "text/plain": [
       "| Iteration | Passes   | Elapsed Time | Training-max_error | Training-rmse |"
      ]
     },
     "metadata": {},
     "output_type": "display_data"
    },
    {
     "data": {
      "text/html": [
       "<pre>+-----------+----------+--------------+--------------------+---------------+</pre>"
      ],
      "text/plain": [
       "+-----------+----------+--------------+--------------------+---------------+"
      ]
     },
     "metadata": {},
     "output_type": "display_data"
    },
    {
     "data": {
      "text/html": [
       "<pre>| 1         | 2        | 0.063057     | 2662555.738027     | 245656.462165 |</pre>"
      ],
      "text/plain": [
       "| 1         | 2        | 0.063057     | 2662555.738027     | 245656.462165 |"
      ]
     },
     "metadata": {},
     "output_type": "display_data"
    },
    {
     "name": "stdout",
     "output_type": "stream",
     "text": [
      "-------------------------------\n"
     ]
    },
    {
     "data": {
      "text/html": [
       "<pre>+-----------+----------+--------------+--------------------+---------------+</pre>"
      ],
      "text/plain": [
       "+-----------+----------+--------------+--------------------+---------------+"
      ]
     },
     "metadata": {},
     "output_type": "display_data"
    },
    {
     "data": {
      "text/html": [
       "<pre>SUCCESS: Optimal solution found.</pre>"
      ],
      "text/plain": [
       "SUCCESS: Optimal solution found."
      ]
     },
     "metadata": {},
     "output_type": "display_data"
    },
    {
     "data": {
      "text/html": [
       "<pre></pre>"
      ],
      "text/plain": []
     },
     "metadata": {},
     "output_type": "display_data"
    },
    {
     "name": "stdout",
     "output_type": "stream",
     "text": [
      "+-------------+-------+--------------------+--------+\n",
      "|     name    | index |       value        | stderr |\n",
      "+-------------+-------+--------------------+--------+\n",
      "| (intercept) |  None |   167924.857726    |  nan   |\n",
      "|   power_1   |  None |   103.090951289    |  nan   |\n",
      "|   power_2   |  None |   0.13460455096    |  nan   |\n",
      "|   power_3   |  None | -0.000129071363752 |  nan   |\n",
      "|   power_4   |  None | 5.18928955754e-08  |  nan   |\n",
      "|   power_5   |  None | -7.77169299595e-12 |  nan   |\n",
      "|   power_6   |  None | 1.71144842837e-16  |  nan   |\n",
      "|   power_7   |  None | 4.51177958161e-20  |  nan   |\n",
      "|   power_8   |  None | -4.78839816249e-25 |  nan   |\n",
      "|   power_9   |  None | -2.33343499941e-28 |  nan   |\n",
      "+-------------+-------+--------------------+--------+\n",
      "[16 rows x 4 columns]\n",
      "Note: Only the head of the SFrame is printed.\n",
      "You can use print_rows(num_rows=m, num_columns=n) to print more rows and columns.\n",
      "-------------------------------\n",
      "the learned value for the coefficient of feature power_1 =  103.090951289\n"
     ]
    }
   ],
   "source": [
    "model1 = graphlab.linear_regression.create(sales_poly_15, target = 'price', \n",
    "                                           features = sales_poly_15_features, \n",
    "                                           validation_set = None, \n",
    "                                           l2_penalty= l2_small_penalty)\n",
    "model1_coeffs = model1.get(\"coefficients\")\n",
    "print \"-------------------------------\"\n",
    "print model1_coeffs\n",
    "print \"-------------------------------\"\n",
    "print \"the learned value for the coefficient of feature power_1 = \", model1_coeffs[1]['value']"
   ]
  },
  {
   "cell_type": "markdown",
   "metadata": {},
   "source": [
    "***QUIZ QUESTION:  What's the learned value for the coefficient of feature `power_1`?***"
   ]
  },
  {
   "cell_type": "markdown",
   "metadata": {},
   "source": [
    "Quiz Q2 : For the models learned in each of these training sets, what are the smallest value you learned for the coefficient of feature power_1? "
   ]
  },
  {
   "cell_type": "code",
   "execution_count": null,
   "metadata": {
    "collapsed": true
   },
   "outputs": [],
   "source": []
  },
  {
   "cell_type": "markdown",
   "metadata": {},
   "source": [
    "# Observe overfitting"
   ]
  },
  {
   "cell_type": "markdown",
   "metadata": {},
   "source": [
    "Recall from Week 3 that the polynomial fit of degree 15 changed wildly whenever the data changed. In particular, when we split the sales data into four subsets and fit the model of degree 15, the result came out to be very different for each subset. The model had a *high variance*. We will see in a moment that ridge regression reduces such variance. But first, we must reproduce the experiment we did in Week 3."
   ]
  },
  {
   "cell_type": "markdown",
   "metadata": {},
   "source": [
    "First, split the data into split the sales data into four subsets of roughly equal size and call them `set_1`, `set_2`, `set_3`, and `set_4`. Use `.random_split` function and make sure you set `seed=0`. "
   ]
  },
  {
   "cell_type": "code",
   "execution_count": 78,
   "metadata": {
    "collapsed": false
   },
   "outputs": [
    {
     "name": "stdout",
     "output_type": "stream",
     "text": [
      "semi_split1.shape =  (10802, 21)\n",
      "semi_split2.shape =  (10811, 21)\n",
      "set_1.shape =  (5404, 21)\n",
      "set_2.shape =  (5398, 21)\n",
      "set_3.shape =  (5409, 21)\n",
      "set_4.shape =  (5402, 21)\n"
     ]
    }
   ],
   "source": [
    "(semi_split1, semi_split2) = sales.random_split(.5,seed=0)\n",
    "print \"semi_split1.shape = \", semi_split1.shape\n",
    "print \"semi_split2.shape = \", semi_split2.shape\n",
    "(set_1, set_2) = semi_split1.random_split(0.5, seed=0)\n",
    "print \"set_1.shape = \", set_1.shape\n",
    "print \"set_2.shape = \", set_2.shape\n",
    "(set_3, set_4) = semi_split2.random_split(0.5, seed=0)\n",
    "print \"set_3.shape = \", set_3.shape\n",
    "print \"set_4.shape = \", set_4.shape"
   ]
  },
  {
   "cell_type": "markdown",
   "metadata": {},
   "source": [
    "Next, fit a 15th degree polynomial on `set_1`, `set_2`, `set_3`, and `set_4`, using 'sqft_living' to predict prices. Print the weights and make a plot of the resulting model.\n",
    "\n",
    "Hint: When calling `graphlab.linear_regression.create()`, use the same L2 penalty as before (i.e. `l2_small_penalty`).  Also, make sure GraphLab Create doesn't create its own validation set by using the option `validation_set = None` in this call."
   ]
  },
  {
   "cell_type": "code",
   "execution_count": 79,
   "metadata": {
    "collapsed": false
   },
   "outputs": [
    {
     "data": {
      "text/html": [
       "<pre>Linear regression:</pre>"
      ],
      "text/plain": [
       "Linear regression:"
      ]
     },
     "metadata": {},
     "output_type": "display_data"
    },
    {
     "data": {
      "text/html": [
       "<pre>--------------------------------------------------------</pre>"
      ],
      "text/plain": [
       "--------------------------------------------------------"
      ]
     },
     "metadata": {},
     "output_type": "display_data"
    },
    {
     "data": {
      "text/html": [
       "<pre>Number of examples          : 5404</pre>"
      ],
      "text/plain": [
       "Number of examples          : 5404"
      ]
     },
     "metadata": {},
     "output_type": "display_data"
    },
    {
     "data": {
      "text/html": [
       "<pre>Number of features          : 15</pre>"
      ],
      "text/plain": [
       "Number of features          : 15"
      ]
     },
     "metadata": {},
     "output_type": "display_data"
    },
    {
     "data": {
      "text/html": [
       "<pre>Number of unpacked features : 15</pre>"
      ],
      "text/plain": [
       "Number of unpacked features : 15"
      ]
     },
     "metadata": {},
     "output_type": "display_data"
    },
    {
     "data": {
      "text/html": [
       "<pre>Number of coefficients    : 16</pre>"
      ],
      "text/plain": [
       "Number of coefficients    : 16"
      ]
     },
     "metadata": {},
     "output_type": "display_data"
    },
    {
     "data": {
      "text/html": [
       "<pre>Starting Newton Method</pre>"
      ],
      "text/plain": [
       "Starting Newton Method"
      ]
     },
     "metadata": {},
     "output_type": "display_data"
    },
    {
     "data": {
      "text/html": [
       "<pre>--------------------------------------------------------</pre>"
      ],
      "text/plain": [
       "--------------------------------------------------------"
      ]
     },
     "metadata": {},
     "output_type": "display_data"
    },
    {
     "data": {
      "text/html": [
       "<pre>+-----------+----------+--------------+--------------------+---------------+</pre>"
      ],
      "text/plain": [
       "+-----------+----------+--------------+--------------------+---------------+"
      ]
     },
     "metadata": {},
     "output_type": "display_data"
    },
    {
     "data": {
      "text/html": [
       "<pre>| Iteration | Passes   | Elapsed Time | Training-max_error | Training-rmse |</pre>"
      ],
      "text/plain": [
       "| Iteration | Passes   | Elapsed Time | Training-max_error | Training-rmse |"
      ]
     },
     "metadata": {},
     "output_type": "display_data"
    },
    {
     "data": {
      "text/html": [
       "<pre>+-----------+----------+--------------+--------------------+---------------+</pre>"
      ],
      "text/plain": [
       "+-----------+----------+--------------+--------------------+---------------+"
      ]
     },
     "metadata": {},
     "output_type": "display_data"
    },
    {
     "data": {
      "text/html": [
       "<pre>| 1         | 2        | 0.017015     | 2191984.900939     | 248699.117254 |</pre>"
      ],
      "text/plain": [
       "| 1         | 2        | 0.017015     | 2191984.900939     | 248699.117254 |"
      ]
     },
     "metadata": {},
     "output_type": "display_data"
    },
    {
     "data": {
      "text/html": [
       "<pre>+-----------+----------+--------------+--------------------+---------------+</pre>"
      ],
      "text/plain": [
       "+-----------+----------+--------------+--------------------+---------------+"
      ]
     },
     "metadata": {},
     "output_type": "display_data"
    },
    {
     "data": {
      "text/html": [
       "<pre>SUCCESS: Optimal solution found.</pre>"
      ],
      "text/plain": [
       "SUCCESS: Optimal solution found."
      ]
     },
     "metadata": {},
     "output_type": "display_data"
    },
    {
     "data": {
      "text/html": [
       "<pre></pre>"
      ],
      "text/plain": []
     },
     "metadata": {},
     "output_type": "display_data"
    },
    {
     "name": "stdout",
     "output_type": "stream",
     "text": [
      "+-------------+-------+--------------------+-------------------+\n",
      "|     name    | index |       value        |       stderr      |\n",
      "+-------------+-------+--------------------+-------------------+\n",
      "| (intercept) |  None |   9306.46397814    |   835063.417729   |\n",
      "|   power_1   |  None |    585.86581347    |   3484.52405144   |\n",
      "|   power_2   |  None |  -0.397305884724   |   5.85325120701   |\n",
      "|   power_3   |  None | 0.000141470894825  |  0.00510563501632 |\n",
      "|   power_4   |  None | -1.52945974394e-08 | 2.39686540035e-06 |\n",
      "|   power_5   |  None | -3.79756526062e-13 | 3.43613043735e-10 |\n",
      "|   power_6   |  None |  5.9748184732e-17  |        nan        |\n",
      "|   power_7   |  None | 1.06888505979e-20  |        nan        |\n",
      "|   power_8   |  None | 1.59344052349e-25  |        nan        |\n",
      "|   power_9   |  None | -6.9283495515e-29  | 3.72130313789e-25 |\n",
      "+-------------+-------+--------------------+-------------------+\n",
      "[16 rows x 4 columns]\n",
      "Note: Only the head of the SFrame is printed.\n",
      "You can use print_rows(num_rows=m, num_columns=n) to print more rows and columns.\n"
     ]
    }
   ],
   "source": [
    "set_1_poly_15 = polynomial_sframe(set_1['sqft_living'], 15)\n",
    "set_1_poly_15['price'] = set_1['price']\n",
    "model_set1 = graphlab.linear_regression.create(set_1_poly_15, \n",
    "                                               target = 'price', \n",
    "                                               features = sales_poly_15_features, \n",
    "                                               validation_set = None, \n",
    "                                               l2_penalty= l2_small_penalty)\n",
    "print model_set1.get(\"coefficients\")"
   ]
  },
  {
   "cell_type": "code",
   "execution_count": 80,
   "metadata": {
    "collapsed": false,
    "scrolled": false
   },
   "outputs": [
    {
     "data": {
      "text/html": [
       "<pre>Linear regression:</pre>"
      ],
      "text/plain": [
       "Linear regression:"
      ]
     },
     "metadata": {},
     "output_type": "display_data"
    },
    {
     "data": {
      "text/html": [
       "<pre>--------------------------------------------------------</pre>"
      ],
      "text/plain": [
       "--------------------------------------------------------"
      ]
     },
     "metadata": {},
     "output_type": "display_data"
    },
    {
     "data": {
      "text/html": [
       "<pre>Number of examples          : 5398</pre>"
      ],
      "text/plain": [
       "Number of examples          : 5398"
      ]
     },
     "metadata": {},
     "output_type": "display_data"
    },
    {
     "data": {
      "text/html": [
       "<pre>Number of features          : 15</pre>"
      ],
      "text/plain": [
       "Number of features          : 15"
      ]
     },
     "metadata": {},
     "output_type": "display_data"
    },
    {
     "data": {
      "text/html": [
       "<pre>Number of unpacked features : 15</pre>"
      ],
      "text/plain": [
       "Number of unpacked features : 15"
      ]
     },
     "metadata": {},
     "output_type": "display_data"
    },
    {
     "data": {
      "text/html": [
       "<pre>Number of coefficients    : 16</pre>"
      ],
      "text/plain": [
       "Number of coefficients    : 16"
      ]
     },
     "metadata": {},
     "output_type": "display_data"
    },
    {
     "data": {
      "text/html": [
       "<pre>Starting Newton Method</pre>"
      ],
      "text/plain": [
       "Starting Newton Method"
      ]
     },
     "metadata": {},
     "output_type": "display_data"
    },
    {
     "data": {
      "text/html": [
       "<pre>--------------------------------------------------------</pre>"
      ],
      "text/plain": [
       "--------------------------------------------------------"
      ]
     },
     "metadata": {},
     "output_type": "display_data"
    },
    {
     "data": {
      "text/html": [
       "<pre>+-----------+----------+--------------+--------------------+---------------+</pre>"
      ],
      "text/plain": [
       "+-----------+----------+--------------+--------------------+---------------+"
      ]
     },
     "metadata": {},
     "output_type": "display_data"
    },
    {
     "data": {
      "text/html": [
       "<pre>| Iteration | Passes   | Elapsed Time | Training-max_error | Training-rmse |</pre>"
      ],
      "text/plain": [
       "| Iteration | Passes   | Elapsed Time | Training-max_error | Training-rmse |"
      ]
     },
     "metadata": {},
     "output_type": "display_data"
    },
    {
     "data": {
      "text/html": [
       "<pre>+-----------+----------+--------------+--------------------+---------------+</pre>"
      ],
      "text/plain": [
       "+-----------+----------+--------------+--------------------+---------------+"
      ]
     },
     "metadata": {},
     "output_type": "display_data"
    },
    {
     "data": {
      "text/html": [
       "<pre>| 1         | 2        | 0.022020     | 1975178.190682     | 234533.610645 |</pre>"
      ],
      "text/plain": [
       "| 1         | 2        | 0.022020     | 1975178.190682     | 234533.610645 |"
      ]
     },
     "metadata": {},
     "output_type": "display_data"
    },
    {
     "data": {
      "text/html": [
       "<pre>+-----------+----------+--------------+--------------------+---------------+</pre>"
      ],
      "text/plain": [
       "+-----------+----------+--------------+--------------------+---------------+"
      ]
     },
     "metadata": {},
     "output_type": "display_data"
    },
    {
     "data": {
      "text/html": [
       "<pre>SUCCESS: Optimal solution found.</pre>"
      ],
      "text/plain": [
       "SUCCESS: Optimal solution found."
      ]
     },
     "metadata": {},
     "output_type": "display_data"
    },
    {
     "data": {
      "text/html": [
       "<pre></pre>"
      ],
      "text/plain": []
     },
     "metadata": {},
     "output_type": "display_data"
    },
    {
     "name": "stdout",
     "output_type": "stream",
     "text": [
      "+-------------+-------+--------------------+-------------------+\n",
      "|     name    | index |       value        |       stderr      |\n",
      "+-------------+-------+--------------------+-------------------+\n",
      "| (intercept) |  None |   -25115.9059869   |   1675771.52039   |\n",
      "|   power_1   |  None |   783.493802508    |   9984.85507514   |\n",
      "|   power_2   |  None |  -0.767759300173   |   25.2592296765   |\n",
      "|   power_3   |  None | 0.000438766361934  |  0.0358329790553  |\n",
      "|   power_4   |  None | -1.15169161152e-07 | 3.17792630727e-05 |\n",
      "|   power_5   |  None | 6.84281148707e-12  | 1.85840552557e-08 |\n",
      "|   power_6   |  None |  2.5119522464e-15  | 7.34916239474e-12 |\n",
      "|   power_7   |  None | -2.06440624344e-19 | 1.97638603378e-15 |\n",
      "|   power_8   |  None | -4.59673058828e-23 | 3.56090427394e-19 |\n",
      "|   power_9   |  None | -2.71277342492e-29 | 3.98355514126e-23 |\n",
      "+-------------+-------+--------------------+-------------------+\n",
      "[16 rows x 4 columns]\n",
      "Note: Only the head of the SFrame is printed.\n",
      "You can use print_rows(num_rows=m, num_columns=n) to print more rows and columns.\n"
     ]
    }
   ],
   "source": [
    "set_2_poly_15 = polynomial_sframe(set_2['sqft_living'], 15)\n",
    "set_2_poly_15['price'] = set_2['price']\n",
    "model_set2 = graphlab.linear_regression.create(set_2_poly_15, \n",
    "                                               target = 'price', \n",
    "                                               features = sales_poly_15_features, \n",
    "                                               validation_set = None, \n",
    "                                               l2_penalty= l2_small_penalty)\n",
    "print model_set2.get(\"coefficients\")"
   ]
  },
  {
   "cell_type": "code",
   "execution_count": 81,
   "metadata": {
    "collapsed": false
   },
   "outputs": [
    {
     "data": {
      "text/html": [
       "<pre>Linear regression:</pre>"
      ],
      "text/plain": [
       "Linear regression:"
      ]
     },
     "metadata": {},
     "output_type": "display_data"
    },
    {
     "data": {
      "text/html": [
       "<pre>--------------------------------------------------------</pre>"
      ],
      "text/plain": [
       "--------------------------------------------------------"
      ]
     },
     "metadata": {},
     "output_type": "display_data"
    },
    {
     "data": {
      "text/html": [
       "<pre>Number of examples          : 5409</pre>"
      ],
      "text/plain": [
       "Number of examples          : 5409"
      ]
     },
     "metadata": {},
     "output_type": "display_data"
    },
    {
     "data": {
      "text/html": [
       "<pre>Number of features          : 15</pre>"
      ],
      "text/plain": [
       "Number of features          : 15"
      ]
     },
     "metadata": {},
     "output_type": "display_data"
    },
    {
     "data": {
      "text/html": [
       "<pre>Number of unpacked features : 15</pre>"
      ],
      "text/plain": [
       "Number of unpacked features : 15"
      ]
     },
     "metadata": {},
     "output_type": "display_data"
    },
    {
     "data": {
      "text/html": [
       "<pre>Number of coefficients    : 16</pre>"
      ],
      "text/plain": [
       "Number of coefficients    : 16"
      ]
     },
     "metadata": {},
     "output_type": "display_data"
    },
    {
     "data": {
      "text/html": [
       "<pre>Starting Newton Method</pre>"
      ],
      "text/plain": [
       "Starting Newton Method"
      ]
     },
     "metadata": {},
     "output_type": "display_data"
    },
    {
     "data": {
      "text/html": [
       "<pre>--------------------------------------------------------</pre>"
      ],
      "text/plain": [
       "--------------------------------------------------------"
      ]
     },
     "metadata": {},
     "output_type": "display_data"
    },
    {
     "data": {
      "text/html": [
       "<pre>+-----------+----------+--------------+--------------------+---------------+</pre>"
      ],
      "text/plain": [
       "+-----------+----------+--------------+--------------------+---------------+"
      ]
     },
     "metadata": {},
     "output_type": "display_data"
    },
    {
     "data": {
      "text/html": [
       "<pre>| Iteration | Passes   | Elapsed Time | Training-max_error | Training-rmse |</pre>"
      ],
      "text/plain": [
       "| Iteration | Passes   | Elapsed Time | Training-max_error | Training-rmse |"
      ]
     },
     "metadata": {},
     "output_type": "display_data"
    },
    {
     "data": {
      "text/html": [
       "<pre>+-----------+----------+--------------+--------------------+---------------+</pre>"
      ],
      "text/plain": [
       "+-----------+----------+--------------+--------------------+---------------+"
      ]
     },
     "metadata": {},
     "output_type": "display_data"
    },
    {
     "data": {
      "text/html": [
       "<pre>| 1         | 2        | 0.015017     | 2283722.683933     | 251097.728054 |</pre>"
      ],
      "text/plain": [
       "| 1         | 2        | 0.015017     | 2283722.683933     | 251097.728054 |"
      ]
     },
     "metadata": {},
     "output_type": "display_data"
    },
    {
     "data": {
      "text/html": [
       "<pre>+-----------+----------+--------------+--------------------+---------------+</pre>"
      ],
      "text/plain": [
       "+-----------+----------+--------------+--------------------+---------------+"
      ]
     },
     "metadata": {},
     "output_type": "display_data"
    },
    {
     "data": {
      "text/html": [
       "<pre>SUCCESS: Optimal solution found.</pre>"
      ],
      "text/plain": [
       "SUCCESS: Optimal solution found."
      ]
     },
     "metadata": {},
     "output_type": "display_data"
    },
    {
     "data": {
      "text/html": [
       "<pre></pre>"
      ],
      "text/plain": []
     },
     "metadata": {},
     "output_type": "display_data"
    },
    {
     "name": "stdout",
     "output_type": "stream",
     "text": [
      "+-------------+-------+--------------------+--------+\n",
      "|     name    | index |       value        | stderr |\n",
      "+-------------+-------+--------------------+--------+\n",
      "| (intercept) |  None |   462426.565731    |  nan   |\n",
      "|   power_1   |  None |   -759.251842854   |  nan   |\n",
      "|   power_2   |  None |    1.0286700473    |  nan   |\n",
      "|   power_3   |  None | -0.000528264527386 |  nan   |\n",
      "|   power_4   |  None | 1.15422908385e-07  |  nan   |\n",
      "|   power_5   |  None | -2.26095948062e-12 |  nan   |\n",
      "|   power_6   |  None | -2.08214287571e-15 |  nan   |\n",
      "|   power_7   |  None | 4.08770475709e-20  |  nan   |\n",
      "|   power_8   |  None |  2.570791329e-23   |  nan   |\n",
      "|   power_9   |  None | 1.24311265196e-27  |  nan   |\n",
      "+-------------+-------+--------------------+--------+\n",
      "[16 rows x 4 columns]\n",
      "Note: Only the head of the SFrame is printed.\n",
      "You can use print_rows(num_rows=m, num_columns=n) to print more rows and columns.\n"
     ]
    }
   ],
   "source": [
    "set_3_poly_15 = polynomial_sframe(set_3['sqft_living'], 15)\n",
    "set_3_poly_15['price'] = set_3['price']\n",
    "model_set3 = graphlab.linear_regression.create(set_3_poly_15, \n",
    "                                               target = 'price', \n",
    "                                               features = sales_poly_15_features, \n",
    "                                               validation_set = None, \n",
    "                                               l2_penalty= l2_small_penalty)\n",
    "print model_set3.get(\"coefficients\")"
   ]
  },
  {
   "cell_type": "code",
   "execution_count": 82,
   "metadata": {
    "collapsed": false
   },
   "outputs": [
    {
     "data": {
      "text/html": [
       "<pre>Linear regression:</pre>"
      ],
      "text/plain": [
       "Linear regression:"
      ]
     },
     "metadata": {},
     "output_type": "display_data"
    },
    {
     "data": {
      "text/html": [
       "<pre>--------------------------------------------------------</pre>"
      ],
      "text/plain": [
       "--------------------------------------------------------"
      ]
     },
     "metadata": {},
     "output_type": "display_data"
    },
    {
     "data": {
      "text/html": [
       "<pre>Number of examples          : 5402</pre>"
      ],
      "text/plain": [
       "Number of examples          : 5402"
      ]
     },
     "metadata": {},
     "output_type": "display_data"
    },
    {
     "data": {
      "text/html": [
       "<pre>Number of features          : 15</pre>"
      ],
      "text/plain": [
       "Number of features          : 15"
      ]
     },
     "metadata": {},
     "output_type": "display_data"
    },
    {
     "data": {
      "text/html": [
       "<pre>Number of unpacked features : 15</pre>"
      ],
      "text/plain": [
       "Number of unpacked features : 15"
      ]
     },
     "metadata": {},
     "output_type": "display_data"
    },
    {
     "data": {
      "text/html": [
       "<pre>Number of coefficients    : 16</pre>"
      ],
      "text/plain": [
       "Number of coefficients    : 16"
      ]
     },
     "metadata": {},
     "output_type": "display_data"
    },
    {
     "data": {
      "text/html": [
       "<pre>Starting Newton Method</pre>"
      ],
      "text/plain": [
       "Starting Newton Method"
      ]
     },
     "metadata": {},
     "output_type": "display_data"
    },
    {
     "data": {
      "text/html": [
       "<pre>--------------------------------------------------------</pre>"
      ],
      "text/plain": [
       "--------------------------------------------------------"
      ]
     },
     "metadata": {},
     "output_type": "display_data"
    },
    {
     "data": {
      "text/html": [
       "<pre>+-----------+----------+--------------+--------------------+---------------+</pre>"
      ],
      "text/plain": [
       "+-----------+----------+--------------+--------------------+---------------+"
      ]
     },
     "metadata": {},
     "output_type": "display_data"
    },
    {
     "data": {
      "text/html": [
       "<pre>| Iteration | Passes   | Elapsed Time | Training-max_error | Training-rmse |</pre>"
      ],
      "text/plain": [
       "| Iteration | Passes   | Elapsed Time | Training-max_error | Training-rmse |"
      ]
     },
     "metadata": {},
     "output_type": "display_data"
    },
    {
     "data": {
      "text/html": [
       "<pre>+-----------+----------+--------------+--------------------+---------------+</pre>"
      ],
      "text/plain": [
       "+-----------+----------+--------------+--------------------+---------------+"
      ]
     },
     "metadata": {},
     "output_type": "display_data"
    },
    {
     "data": {
      "text/html": [
       "<pre>| 1         | 2        | 0.018017     | 2378292.371612     | 244341.293203 |</pre>"
      ],
      "text/plain": [
       "| 1         | 2        | 0.018017     | 2378292.371612     | 244341.293203 |"
      ]
     },
     "metadata": {},
     "output_type": "display_data"
    },
    {
     "data": {
      "text/html": [
       "<pre>+-----------+----------+--------------+--------------------+---------------+</pre>"
      ],
      "text/plain": [
       "+-----------+----------+--------------+--------------------+---------------+"
      ]
     },
     "metadata": {},
     "output_type": "display_data"
    },
    {
     "data": {
      "text/html": [
       "<pre>SUCCESS: Optimal solution found.</pre>"
      ],
      "text/plain": [
       "SUCCESS: Optimal solution found."
      ]
     },
     "metadata": {},
     "output_type": "display_data"
    },
    {
     "data": {
      "text/html": [
       "<pre></pre>"
      ],
      "text/plain": []
     },
     "metadata": {},
     "output_type": "display_data"
    },
    {
     "name": "stdout",
     "output_type": "stream",
     "text": [
      "+-------------+-------+--------------------+-------------------+\n",
      "|     name    | index |       value        |       stderr      |\n",
      "+-------------+-------+--------------------+-------------------+\n",
      "| (intercept) |  None |   -170240.034791   |   1417346.17184   |\n",
      "|   power_1   |  None |   1247.59035088    |   8978.28059127   |\n",
      "|   power_2   |  None |   -1.2246091264    |   23.6158213076   |\n",
      "|   power_3   |  None | 0.000555254626787  |  0.0340561499439  |\n",
      "|   power_4   |  None | -6.38262361929e-08 | 2.98955350115e-05 |\n",
      "|   power_5   |  None | -2.20215996475e-11 | 1.65791592065e-08 |\n",
      "|   power_6   |  None | 4.81834697594e-15  | 5.63745618764e-12 |\n",
      "|   power_7   |  None |  4.2146163248e-19  | 8.27510918329e-16 |\n",
      "|   power_8   |  None | -7.99880749051e-23 |        nan        |\n",
      "|   power_9   |  None | -1.32365907706e-26 |        nan        |\n",
      "+-------------+-------+--------------------+-------------------+\n",
      "[16 rows x 4 columns]\n",
      "Note: Only the head of the SFrame is printed.\n",
      "You can use print_rows(num_rows=m, num_columns=n) to print more rows and columns.\n"
     ]
    }
   ],
   "source": [
    "set_4_poly_15 = polynomial_sframe(set_4['sqft_living'], 15)\n",
    "set_4_poly_15['price'] = set_4['price']\n",
    "model_set4 = graphlab.linear_regression.create(set_4_poly_15, \n",
    "                                               target = 'price', \n",
    "                                               features = sales_poly_15_features, \n",
    "                                               validation_set = None, \n",
    "                                               l2_penalty= l2_small_penalty)\n",
    "print model_set4.get(\"coefficients\")"
   ]
  },
  {
   "cell_type": "markdown",
   "metadata": {},
   "source": [
    "Quiz Q2 : For the models learned in each of these training sets, what are the smallest value you learned for the coefficient of feature power_1? "
   ]
  },
  {
   "cell_type": "code",
   "execution_count": 83,
   "metadata": {
    "collapsed": false
   },
   "outputs": [
    {
     "name": "stdout",
     "output_type": "stream",
     "text": [
      "set_1['value'][1]=  585.86581347\n",
      "set_2['value'][1]=  -0.767759300173\n",
      "set_3['value'][1]=  -0.000528264527386\n",
      "set_4['value'][1]=  -6.38262361929e-08\n"
     ]
    }
   ],
   "source": [
    "print \"set_1['value'][1]= \", model_set1.get(\"coefficients\")['value'][1]\n",
    "print \"set_2['value'][1]= \", model_set2.get(\"coefficients\")['value'][2]\n",
    "print \"set_3['value'][1]= \", model_set3.get(\"coefficients\")['value'][3]\n",
    "print \"set_4['value'][1]= \", model_set4.get(\"coefficients\")['value'][4]"
   ]
  },
  {
   "cell_type": "markdown",
   "metadata": {},
   "source": [
    "Quiz Q3 : For the models learned in each of these training sets, what are the largest value you learned for the coefficient of feature power_1? Choose the range that contains this value.\n"
   ]
  },
  {
   "cell_type": "code",
   "execution_count": 84,
   "metadata": {
    "collapsed": true
   },
   "outputs": [],
   "source": [
    "import matplotlib.pyplot as plt\n",
    "%matplotlib inline"
   ]
  },
  {
   "cell_type": "code",
   "execution_count": 85,
   "metadata": {
    "collapsed": false
   },
   "outputs": [
    {
     "data": {
      "text/plain": [
       "[<matplotlib.lines.Line2D at 0x33e6a358>,\n",
       " <matplotlib.lines.Line2D at 0x33e6a400>]"
      ]
     },
     "execution_count": 85,
     "metadata": {},
     "output_type": "execute_result"
    },
    {
     "data": {
      "image/png": "[encoded data removed]",
      "text/plain": [
       "<matplotlib.figure.Figure at 0x2a7527f0>"
      ]
     },
     "metadata": {},
     "output_type": "display_data"
    }
   ],
   "source": [
    "#plot 'power_1' vs 'price' and 'power_1' vs predicted values (appears as line due to using '-')\n",
    "plt.plot(set_4_poly_15['power_1'],set_4_poly_15['price'],'.', set_4_poly_15['power_1'], model_set4.predict(set_4_poly_15),'-')"
   ]
  },
  {
   "cell_type": "code",
   "execution_count": 86,
   "metadata": {
    "collapsed": false
   },
   "outputs": [
    {
     "data": {
      "text/plain": [
       "[<matplotlib.lines.Line2D at 0x3407f9b0>,\n",
       " <matplotlib.lines.Line2D at 0x3407fa58>]"
      ]
     },
     "execution_count": 86,
     "metadata": {},
     "output_type": "execute_result"
    },
    {
     "data": {
      "image/png": "[encoded data removed]",
      "text/plain": [
       "<matplotlib.figure.Figure at 0x33f1c3c8>"
      ]
     },
     "metadata": {},
     "output_type": "display_data"
    }
   ],
   "source": [
    "plt.plot(set_3_poly_15['power_1'],set_3_poly_15['price'],'.', set_3_poly_15['power_1'], model_set3.predict(set_3_poly_15),'-')"
   ]
  },
  {
   "cell_type": "code",
   "execution_count": 87,
   "metadata": {
    "collapsed": false
   },
   "outputs": [
    {
     "data": {
      "text/plain": [
       "[<matplotlib.lines.Line2D at 0x34318ef0>,\n",
       " <matplotlib.lines.Line2D at 0x34318f98>]"
      ]
     },
     "execution_count": 87,
     "metadata": {},
     "output_type": "execute_result"
    },
    {
     "data": {
      "image/png": "[encoded data removed]",
      "text/plain": [
       "<matplotlib.figure.Figure at 0x340044e0>"
      ]
     },
     "metadata": {},
     "output_type": "display_data"
    }
   ],
   "source": [
    "plt.plot(set_2_poly_15['power_1'],set_2_poly_15['price'],'.', set_2_poly_15['power_1'], model_set2.predict(set_2_poly_15),'-')"
   ]
  },
  {
   "cell_type": "code",
   "execution_count": 88,
   "metadata": {
    "collapsed": false
   },
   "outputs": [
    {
     "data": {
      "text/plain": [
       "[<matplotlib.lines.Line2D at 0x344880b8>,\n",
       " <matplotlib.lines.Line2D at 0x34488160>]"
      ]
     },
     "execution_count": 88,
     "metadata": {},
     "output_type": "execute_result"
    },
    {
     "data": {
      "image/png": "[encoded data removed]",
      "text/plain": [
       "<matplotlib.figure.Figure at 0x34402d30>"
      ]
     },
     "metadata": {},
     "output_type": "display_data"
    }
   ],
   "source": [
    "plt.plot(set_1_poly_15['power_1'],set_1_poly_15['price'],'.', set_1_poly_15['power_1'], model_set1.predict(set_1_poly_15),'-')"
   ]
  },
  {
   "cell_type": "code",
   "execution_count": null,
   "metadata": {
    "collapsed": true
   },
   "outputs": [],
   "source": []
  },
  {
   "cell_type": "markdown",
   "metadata": {},
   "source": [
    "The four curves should differ from one another a lot, as should the coefficients you learned.\n",
    "\n",
    "***QUIZ QUESTION:  For the models learned in each of these training sets, what are the smallest and largest values you learned for the coefficient of feature `power_1`?***  (For the purpose of answering this question, negative numbers are considered \"smaller\" than positive numbers. So -5 is smaller than -3, and -3 is smaller than 5 and so forth.)\n",
    "-----------------------------------------------\n",
    "Quiz Q's @ & 3. see answers above."
   ]
  },
  {
   "cell_type": "markdown",
   "metadata": {},
   "source": [
    "# Ridge regression comes to rescue"
   ]
  },
  {
   "cell_type": "markdown",
   "metadata": {},
   "source": [
    "Generally, whenever we see weights change so much in response to change in data, we believe the variance of our estimate to be large. Ridge regression aims to address this issue by penalizing \"large\" weights. (Weights of `model15` looked quite small, but they are not that small because 'sqft_living' input is in the order of thousands.)\n",
    "\n",
    "With the argument `l2_penalty=1e5`, fit a 15th-order polynomial model on `set_1`, `set_2`, `set_3`, and `set_4`. \n",
    "\n",
    "Other than the change in the `l2_penalty` parameter, the code should be the same as the experiment above. \n",
    "\n",
    "Also, make sure GraphLab Create doesn't create its own validation set by using the option `validation_set = None` in this call."
   ]
  },
  {
   "cell_type": "code",
   "execution_count": 89,
   "metadata": {
    "collapsed": false
   },
   "outputs": [
    {
     "name": "stdout",
     "output_type": "stream",
     "text": [
      "l2_large_penalty =  100000.0\n"
     ]
    }
   ],
   "source": [
    "l2_large_penalty = 1e5\n",
    "print \"l2_large_penalty = \", l2_large_penalty"
   ]
  },
  {
   "cell_type": "code",
   "execution_count": 90,
   "metadata": {
    "collapsed": false,
    "scrolled": false
   },
   "outputs": [
    {
     "data": {
      "text/html": [
       "<pre>Linear regression:</pre>"
      ],
      "text/plain": [
       "Linear regression:"
      ]
     },
     "metadata": {},
     "output_type": "display_data"
    },
    {
     "data": {
      "text/html": [
       "<pre>--------------------------------------------------------</pre>"
      ],
      "text/plain": [
       "--------------------------------------------------------"
      ]
     },
     "metadata": {},
     "output_type": "display_data"
    },
    {
     "data": {
      "text/html": [
       "<pre>Number of examples          : 5404</pre>"
      ],
      "text/plain": [
       "Number of examples          : 5404"
      ]
     },
     "metadata": {},
     "output_type": "display_data"
    },
    {
     "data": {
      "text/html": [
       "<pre>Number of features          : 15</pre>"
      ],
      "text/plain": [
       "Number of features          : 15"
      ]
     },
     "metadata": {},
     "output_type": "display_data"
    },
    {
     "data": {
      "text/html": [
       "<pre>Number of unpacked features : 15</pre>"
      ],
      "text/plain": [
       "Number of unpacked features : 15"
      ]
     },
     "metadata": {},
     "output_type": "display_data"
    },
    {
     "data": {
      "text/html": [
       "<pre>Number of coefficients    : 16</pre>"
      ],
      "text/plain": [
       "Number of coefficients    : 16"
      ]
     },
     "metadata": {},
     "output_type": "display_data"
    },
    {
     "data": {
      "text/html": [
       "<pre>Starting Newton Method</pre>"
      ],
      "text/plain": [
       "Starting Newton Method"
      ]
     },
     "metadata": {},
     "output_type": "display_data"
    },
    {
     "data": {
      "text/html": [
       "<pre>--------------------------------------------------------</pre>"
      ],
      "text/plain": [
       "--------------------------------------------------------"
      ]
     },
     "metadata": {},
     "output_type": "display_data"
    },
    {
     "data": {
      "text/html": [
       "<pre>+-----------+----------+--------------+--------------------+---------------+</pre>"
      ],
      "text/plain": [
       "+-----------+----------+--------------+--------------------+---------------+"
      ]
     },
     "metadata": {},
     "output_type": "display_data"
    },
    {
     "data": {
      "text/html": [
       "<pre>| Iteration | Passes   | Elapsed Time | Training-max_error | Training-rmse |</pre>"
      ],
      "text/plain": [
       "| Iteration | Passes   | Elapsed Time | Training-max_error | Training-rmse |"
      ]
     },
     "metadata": {},
     "output_type": "display_data"
    },
    {
     "data": {
      "text/html": [
       "<pre>+-----------+----------+--------------+--------------------+---------------+</pre>"
      ],
      "text/plain": [
       "+-----------+----------+--------------+--------------------+---------------+"
      ]
     },
     "metadata": {},
     "output_type": "display_data"
    },
    {
     "data": {
      "text/html": [
       "<pre>| 1         | 2        | 0.018017     | 5978778.434729     | 374261.720860 |</pre>"
      ],
      "text/plain": [
       "| 1         | 2        | 0.018017     | 5978778.434729     | 374261.720860 |"
      ]
     },
     "metadata": {},
     "output_type": "display_data"
    },
    {
     "data": {
      "text/html": [
       "<pre>+-----------+----------+--------------+--------------------+---------------+</pre>"
      ],
      "text/plain": [
       "+-----------+----------+--------------+--------------------+---------------+"
      ]
     },
     "metadata": {},
     "output_type": "display_data"
    },
    {
     "data": {
      "text/html": [
       "<pre>SUCCESS: Optimal solution found.</pre>"
      ],
      "text/plain": [
       "SUCCESS: Optimal solution found."
      ]
     },
     "metadata": {},
     "output_type": "display_data"
    },
    {
     "data": {
      "text/html": [
       "<pre></pre>"
      ],
      "text/plain": []
     },
     "metadata": {},
     "output_type": "display_data"
    },
    {
     "name": "stdout",
     "output_type": "stream",
     "text": [
      "+-------------+-------+-------------------+-------------------+\n",
      "|     name    | index |       value       |       stderr      |\n",
      "+-------------+-------+-------------------+-------------------+\n",
      "| (intercept) |  None |   530317.024516   |    1256668.1989   |\n",
      "|   power_1   |  None |   2.58738875673   |   5243.78205387   |\n",
      "|   power_2   |  None |  0.00127414400592 |   8.80842639712   |\n",
      "|   power_3   |  None | 1.74934226932e-07 |  0.00768335556793 |\n",
      "|   power_4   |  None | 1.06022119097e-11 | 3.60698895641e-06 |\n",
      "|   power_5   |  None | 5.42247604482e-16 | 5.17095558996e-10 |\n",
      "|   power_6   |  None | 2.89563828343e-20 |        nan        |\n",
      "|   power_7   |  None | 1.65000666351e-24 |        nan        |\n",
      "|   power_8   |  None | 9.86081528409e-29 |        nan        |\n",
      "|   power_9   |  None | 6.06589348254e-33 | 5.60010558786e-25 |\n",
      "+-------------+-------+-------------------+-------------------+\n",
      "[16 rows x 4 columns]\n",
      "Note: Only the head of the SFrame is printed.\n",
      "You can use print_rows(num_rows=m, num_columns=n) to print more rows and columns.\n"
     ]
    }
   ],
   "source": [
    "model_set1 = graphlab.linear_regression.create(set_1_poly_15, target = 'price', \n",
    "                                               features = sales_poly_15_features, \n",
    "                                               validation_set = None, \n",
    "                                               l2_penalty= l2_large_penalty)\n",
    "model_set1_coeff = model_set1.get(\"coefficients\")\n",
    "print model_set1_coeff"
   ]
  },
  {
   "cell_type": "code",
   "execution_count": 91,
   "metadata": {
    "collapsed": false,
    "scrolled": false
   },
   "outputs": [
    {
     "data": {
      "text/html": [
       "<pre>Linear regression:</pre>"
      ],
      "text/plain": [
       "Linear regression:"
      ]
     },
     "metadata": {},
     "output_type": "display_data"
    },
    {
     "data": {
      "text/html": [
       "<pre>--------------------------------------------------------</pre>"
      ],
      "text/plain": [
       "--------------------------------------------------------"
      ]
     },
     "metadata": {},
     "output_type": "display_data"
    },
    {
     "data": {
      "text/html": [
       "<pre>Number of examples          : 5398</pre>"
      ],
      "text/plain": [
       "Number of examples          : 5398"
      ]
     },
     "metadata": {},
     "output_type": "display_data"
    },
    {
     "data": {
      "text/html": [
       "<pre>Number of features          : 15</pre>"
      ],
      "text/plain": [
       "Number of features          : 15"
      ]
     },
     "metadata": {},
     "output_type": "display_data"
    },
    {
     "data": {
      "text/html": [
       "<pre>Number of unpacked features : 15</pre>"
      ],
      "text/plain": [
       "Number of unpacked features : 15"
      ]
     },
     "metadata": {},
     "output_type": "display_data"
    },
    {
     "data": {
      "text/html": [
       "<pre>Number of coefficients    : 16</pre>"
      ],
      "text/plain": [
       "Number of coefficients    : 16"
      ]
     },
     "metadata": {},
     "output_type": "display_data"
    },
    {
     "data": {
      "text/html": [
       "<pre>Starting Newton Method</pre>"
      ],
      "text/plain": [
       "Starting Newton Method"
      ]
     },
     "metadata": {},
     "output_type": "display_data"
    },
    {
     "data": {
      "text/html": [
       "<pre>--------------------------------------------------------</pre>"
      ],
      "text/plain": [
       "--------------------------------------------------------"
      ]
     },
     "metadata": {},
     "output_type": "display_data"
    },
    {
     "data": {
      "text/html": [
       "<pre>+-----------+----------+--------------+--------------------+---------------+</pre>"
      ],
      "text/plain": [
       "+-----------+----------+--------------+--------------------+---------------+"
      ]
     },
     "metadata": {},
     "output_type": "display_data"
    },
    {
     "data": {
      "text/html": [
       "<pre>| Iteration | Passes   | Elapsed Time | Training-max_error | Training-rmse |</pre>"
      ],
      "text/plain": [
       "| Iteration | Passes   | Elapsed Time | Training-max_error | Training-rmse |"
      ]
     },
     "metadata": {},
     "output_type": "display_data"
    },
    {
     "data": {
      "text/html": [
       "<pre>+-----------+----------+--------------+--------------------+---------------+</pre>"
      ],
      "text/plain": [
       "+-----------+----------+--------------+--------------------+---------------+"
      ]
     },
     "metadata": {},
     "output_type": "display_data"
    },
    {
     "data": {
      "text/html": [
       "<pre>| 1         | 2        | 0.015014     | 2984894.541944     | 323238.809634 |</pre>"
      ],
      "text/plain": [
       "| 1         | 2        | 0.015014     | 2984894.541944     | 323238.809634 |"
      ]
     },
     "metadata": {},
     "output_type": "display_data"
    },
    {
     "data": {
      "text/html": [
       "<pre>+-----------+----------+--------------+--------------------+---------------+</pre>"
      ],
      "text/plain": [
       "+-----------+----------+--------------+--------------------+---------------+"
      ]
     },
     "metadata": {},
     "output_type": "display_data"
    },
    {
     "data": {
      "text/html": [
       "<pre>SUCCESS: Optimal solution found.</pre>"
      ],
      "text/plain": [
       "SUCCESS: Optimal solution found."
      ]
     },
     "metadata": {},
     "output_type": "display_data"
    },
    {
     "data": {
      "text/html": [
       "<pre></pre>"
      ],
      "text/plain": []
     },
     "metadata": {},
     "output_type": "display_data"
    },
    {
     "name": "stdout",
     "output_type": "stream",
     "text": [
      "+-------------+-------+-------------------+-------------------+\n",
      "|     name    | index |       value       |       stderr      |\n",
      "+-------------+-------+-------------------+-------------------+\n",
      "| (intercept) |  None |   519216.897383   |   2309581.08725   |\n",
      "|   power_1   |  None |   2.04470474182   |   13761.3225669   |\n",
      "|   power_2   |  None |  0.0011314362684  |    34.812764407   |\n",
      "|   power_3   |  None | 2.93074277549e-07 |  0.0493857126218  |\n",
      "|   power_4   |  None | 4.43540598453e-11 | 4.37988019645e-05 |\n",
      "|   power_5   |  None | 4.80849112204e-15 | 2.56129084549e-08 |\n",
      "|   power_6   |  None | 4.53091707826e-19 |  1.0128759361e-11 |\n",
      "|   power_7   |  None | 4.16042910575e-23 | 2.72389388957e-15 |\n",
      "|   power_8   |  None | 3.90094635128e-27 | 4.90770792111e-19 |\n",
      "|   power_9   |  None |  3.7773187602e-31 | 5.49021361344e-23 |\n",
      "+-------------+-------+-------------------+-------------------+\n",
      "[16 rows x 4 columns]\n",
      "Note: Only the head of the SFrame is printed.\n",
      "You can use print_rows(num_rows=m, num_columns=n) to print more rows and columns.\n"
     ]
    }
   ],
   "source": [
    "model_set2 = graphlab.linear_regression.create(set_2_poly_15, target = 'price', \n",
    "                                               features = sales_poly_15_features, \n",
    "                                               validation_set = None, \n",
    "                                               l2_penalty= l2_large_penalty)\n",
    "model_set2_coeff = model_set2.get(\"coefficients\")\n",
    "print model_set2_coeff"
   ]
  },
  {
   "cell_type": "code",
   "execution_count": 92,
   "metadata": {
    "collapsed": false
   },
   "outputs": [
    {
     "data": {
      "text/html": [
       "<pre>Linear regression:</pre>"
      ],
      "text/plain": [
       "Linear regression:"
      ]
     },
     "metadata": {},
     "output_type": "display_data"
    },
    {
     "data": {
      "text/html": [
       "<pre>--------------------------------------------------------</pre>"
      ],
      "text/plain": [
       "--------------------------------------------------------"
      ]
     },
     "metadata": {},
     "output_type": "display_data"
    },
    {
     "data": {
      "text/html": [
       "<pre>Number of examples          : 5409</pre>"
      ],
      "text/plain": [
       "Number of examples          : 5409"
      ]
     },
     "metadata": {},
     "output_type": "display_data"
    },
    {
     "data": {
      "text/html": [
       "<pre>Number of features          : 15</pre>"
      ],
      "text/plain": [
       "Number of features          : 15"
      ]
     },
     "metadata": {},
     "output_type": "display_data"
    },
    {
     "data": {
      "text/html": [
       "<pre>Number of unpacked features : 15</pre>"
      ],
      "text/plain": [
       "Number of unpacked features : 15"
      ]
     },
     "metadata": {},
     "output_type": "display_data"
    },
    {
     "data": {
      "text/html": [
       "<pre>Number of coefficients    : 16</pre>"
      ],
      "text/plain": [
       "Number of coefficients    : 16"
      ]
     },
     "metadata": {},
     "output_type": "display_data"
    },
    {
     "data": {
      "text/html": [
       "<pre>Starting Newton Method</pre>"
      ],
      "text/plain": [
       "Starting Newton Method"
      ]
     },
     "metadata": {},
     "output_type": "display_data"
    },
    {
     "data": {
      "text/html": [
       "<pre>--------------------------------------------------------</pre>"
      ],
      "text/plain": [
       "--------------------------------------------------------"
      ]
     },
     "metadata": {},
     "output_type": "display_data"
    },
    {
     "data": {
      "text/html": [
       "<pre>+-----------+----------+--------------+--------------------+---------------+</pre>"
      ],
      "text/plain": [
       "+-----------+----------+--------------+--------------------+---------------+"
      ]
     },
     "metadata": {},
     "output_type": "display_data"
    },
    {
     "data": {
      "text/html": [
       "<pre>| Iteration | Passes   | Elapsed Time | Training-max_error | Training-rmse |</pre>"
      ],
      "text/plain": [
       "| Iteration | Passes   | Elapsed Time | Training-max_error | Training-rmse |"
      ]
     },
     "metadata": {},
     "output_type": "display_data"
    },
    {
     "data": {
      "text/html": [
       "<pre>+-----------+----------+--------------+--------------------+---------------+</pre>"
      ],
      "text/plain": [
       "+-----------+----------+--------------+--------------------+---------------+"
      ]
     },
     "metadata": {},
     "output_type": "display_data"
    },
    {
     "data": {
      "text/html": [
       "<pre>| 1         | 2        | 0.017016     | 3695342.767093     | 350033.521294 |</pre>"
      ],
      "text/plain": [
       "| 1         | 2        | 0.017016     | 3695342.767093     | 350033.521294 |"
      ]
     },
     "metadata": {},
     "output_type": "display_data"
    },
    {
     "data": {
      "text/html": [
       "<pre>+-----------+----------+--------------+--------------------+---------------+</pre>"
      ],
      "text/plain": [
       "+-----------+----------+--------------+--------------------+---------------+"
      ]
     },
     "metadata": {},
     "output_type": "display_data"
    },
    {
     "data": {
      "text/html": [
       "<pre>SUCCESS: Optimal solution found.</pre>"
      ],
      "text/plain": [
       "SUCCESS: Optimal solution found."
      ]
     },
     "metadata": {},
     "output_type": "display_data"
    },
    {
     "data": {
      "text/html": [
       "<pre></pre>"
      ],
      "text/plain": []
     },
     "metadata": {},
     "output_type": "display_data"
    },
    {
     "name": "stdout",
     "output_type": "stream",
     "text": [
      "+-------------+-------+-------------------+--------+\n",
      "|     name    | index |       value       | stderr |\n",
      "+-------------+-------+-------------------+--------+\n",
      "| (intercept) |  None |   522911.518048   |  nan   |\n",
      "|   power_1   |  None |   2.26890421877   |  nan   |\n",
      "|   power_2   |  None |  0.00125905041842 |  nan   |\n",
      "|   power_3   |  None | 2.77552918155e-07 |  nan   |\n",
      "|   power_4   |  None |  3.2093309779e-11 |  nan   |\n",
      "|   power_5   |  None | 2.87573572364e-15 |  nan   |\n",
      "|   power_6   |  None | 2.50076112671e-19 |  nan   |\n",
      "|   power_7   |  None | 2.24685265906e-23 |  nan   |\n",
      "|   power_8   |  None | 2.09349983135e-27 |  nan   |\n",
      "|   power_9   |  None | 2.00435383296e-31 |  nan   |\n",
      "+-------------+-------+-------------------+--------+\n",
      "[16 rows x 4 columns]\n",
      "Note: Only the head of the SFrame is printed.\n",
      "You can use print_rows(num_rows=m, num_columns=n) to print more rows and columns.\n"
     ]
    }
   ],
   "source": [
    "model_set3 = graphlab.linear_regression.create(set_3_poly_15, target = 'price', \n",
    "                                               features = sales_poly_15_features, \n",
    "                                               validation_set = None, \n",
    "                                               l2_penalty= l2_large_penalty)\n",
    "model_set3_coeff = model_set3.get(\"coefficients\")\n",
    "print model_set3_coeff"
   ]
  },
  {
   "cell_type": "code",
   "execution_count": 93,
   "metadata": {
    "collapsed": false
   },
   "outputs": [
    {
     "data": {
      "text/html": [
       "<pre>Linear regression:</pre>"
      ],
      "text/plain": [
       "Linear regression:"
      ]
     },
     "metadata": {},
     "output_type": "display_data"
    },
    {
     "data": {
      "text/html": [
       "<pre>--------------------------------------------------------</pre>"
      ],
      "text/plain": [
       "--------------------------------------------------------"
      ]
     },
     "metadata": {},
     "output_type": "display_data"
    },
    {
     "data": {
      "text/html": [
       "<pre>Number of examples          : 5402</pre>"
      ],
      "text/plain": [
       "Number of examples          : 5402"
      ]
     },
     "metadata": {},
     "output_type": "display_data"
    },
    {
     "data": {
      "text/html": [
       "<pre>Number of features          : 15</pre>"
      ],
      "text/plain": [
       "Number of features          : 15"
      ]
     },
     "metadata": {},
     "output_type": "display_data"
    },
    {
     "data": {
      "text/html": [
       "<pre>Number of unpacked features : 15</pre>"
      ],
      "text/plain": [
       "Number of unpacked features : 15"
      ]
     },
     "metadata": {},
     "output_type": "display_data"
    },
    {
     "data": {
      "text/html": [
       "<pre>Number of coefficients    : 16</pre>"
      ],
      "text/plain": [
       "Number of coefficients    : 16"
      ]
     },
     "metadata": {},
     "output_type": "display_data"
    },
    {
     "data": {
      "text/html": [
       "<pre>Starting Newton Method</pre>"
      ],
      "text/plain": [
       "Starting Newton Method"
      ]
     },
     "metadata": {},
     "output_type": "display_data"
    },
    {
     "data": {
      "text/html": [
       "<pre>--------------------------------------------------------</pre>"
      ],
      "text/plain": [
       "--------------------------------------------------------"
      ]
     },
     "metadata": {},
     "output_type": "display_data"
    },
    {
     "data": {
      "text/html": [
       "<pre>+-----------+----------+--------------+--------------------+---------------+</pre>"
      ],
      "text/plain": [
       "+-----------+----------+--------------+--------------------+---------------+"
      ]
     },
     "metadata": {},
     "output_type": "display_data"
    },
    {
     "data": {
      "text/html": [
       "<pre>| Iteration | Passes   | Elapsed Time | Training-max_error | Training-rmse |</pre>"
      ],
      "text/plain": [
       "| Iteration | Passes   | Elapsed Time | Training-max_error | Training-rmse |"
      ]
     },
     "metadata": {},
     "output_type": "display_data"
    },
    {
     "data": {
      "text/html": [
       "<pre>+-----------+----------+--------------+--------------------+---------------+</pre>"
      ],
      "text/plain": [
       "+-----------+----------+--------------+--------------------+---------------+"
      ]
     },
     "metadata": {},
     "output_type": "display_data"
    },
    {
     "data": {
      "text/html": [
       "<pre>| 1         | 2        | 0.016016     | 3601895.280124     | 323111.582889 |</pre>"
      ],
      "text/plain": [
       "| 1         | 2        | 0.016016     | 3601895.280124     | 323111.582889 |"
      ]
     },
     "metadata": {},
     "output_type": "display_data"
    },
    {
     "data": {
      "text/html": [
       "<pre>+-----------+----------+--------------+--------------------+---------------+</pre>"
      ],
      "text/plain": [
       "+-----------+----------+--------------+--------------------+---------------+"
      ]
     },
     "metadata": {},
     "output_type": "display_data"
    },
    {
     "data": {
      "text/html": [
       "<pre>SUCCESS: Optimal solution found.</pre>"
      ],
      "text/plain": [
       "SUCCESS: Optimal solution found."
      ]
     },
     "metadata": {},
     "output_type": "display_data"
    },
    {
     "data": {
      "text/html": [
       "<pre></pre>"
      ],
      "text/plain": []
     },
     "metadata": {},
     "output_type": "display_data"
    },
    {
     "name": "stdout",
     "output_type": "stream",
     "text": [
      "+-------------+-------+-------------------+-------------------+\n",
      "|     name    | index |       value       |       stderr      |\n",
      "+-------------+-------+-------------------+-------------------+\n",
      "| (intercept) |  None |   513667.087087   |   1874267.58319   |\n",
      "|   power_1   |  None |   1.91040938244   |   11872.6819173   |\n",
      "|   power_2   |  None |  0.00110058029175 |   31.2290456676   |\n",
      "|   power_3   |  None | 3.12753987879e-07 |  0.0450351079477  |\n",
      "|   power_4   |  None | 5.50067886825e-11 | 3.95332017452e-05 |\n",
      "|   power_5   |  None | 7.20467557825e-15 | 2.19239175825e-08 |\n",
      "|   power_6   |  None | 8.24977249384e-19 | 7.45484878293e-12 |\n",
      "|   power_7   |  None | 9.06503223498e-23 | 1.09428234243e-15 |\n",
      "|   power_8   |  None | 9.95683160453e-27 |        nan        |\n",
      "|   power_9   |  None | 1.10838127982e-30 |        nan        |\n",
      "+-------------+-------+-------------------+-------------------+\n",
      "[16 rows x 4 columns]\n",
      "Note: Only the head of the SFrame is printed.\n",
      "You can use print_rows(num_rows=m, num_columns=n) to print more rows and columns.\n"
     ]
    }
   ],
   "source": [
    "model_set4 = graphlab.linear_regression.create(set_4_poly_15, target = 'price', \n",
    "                                               features = sales_poly_15_features, \n",
    "                                               validation_set = None, \n",
    "                                               l2_penalty= l2_large_penalty)\n",
    "model_set4_coeff = model_set4.get(\"coefficients\")\n",
    "print model_set4_coeff"
   ]
  },
  {
   "cell_type": "code",
   "execution_count": 94,
   "metadata": {
    "collapsed": false
   },
   "outputs": [
    {
     "name": "stdout",
     "output_type": "stream",
     "text": [
      "model_set1_coeff['value'][1]=  2.58738875673\n",
      "model_set2_coeff['value'][1]=  2.04470474182\n",
      "model_set3_coeff['value'][1]=  2.26890421877\n",
      "model_set4_coeff['value'][1]=  1.91040938244\n"
     ]
    }
   ],
   "source": [
    "print \"model_set1_coeff['value'][1]= \", model_set1_coeff['value'][1]\n",
    "print \"model_set2_coeff['value'][1]= \", model_set2_coeff['value'][1]\n",
    "print \"model_set3_coeff['value'][1]= \", model_set3_coeff['value'][1]\n",
    "print \"model_set4_coeff['value'][1]= \", model_set4_coeff['value'][1]"
   ]
  },
  {
   "cell_type": "markdown",
   "metadata": {},
   "source": [
    "Quiz q4\n",
    "smallest value : model_set4_coeff['value'][1]=  1.91040938244\n",
    "rounded to 2 decimal places : 1.91\n",
    "----------------------------------------\n",
    "Quiz Q5\n",
    "largest value : model_set1_coeff['value'][1]=  2.58738875673\n",
    "rounded to 2 decimal places : 2.59"
   ]
  },
  {
   "cell_type": "markdown",
   "metadata": {},
   "source": [
    "These curves should vary a lot less, now that you applied a high degree of regularization.\n",
    "\n",
    "***QUIZ QUESTION:  For the models learned with the high level of regularization in each of these training sets, what are the smallest and largest values you learned for the coefficient of feature `power_1`?*** (For the purpose of answering this question, negative numbers are considered \"smaller\" than positive numbers. So -5 is smaller than -3, and -3 is smaller than 5 and so forth.)"
   ]
  },
  {
   "cell_type": "markdown",
   "metadata": {},
   "source": [
    "# Selecting an L2 penalty via cross-validation"
   ]
  },
  {
   "cell_type": "markdown",
   "metadata": {},
   "source": [
    "Just like the polynomial degree, the L2 penalty is a \"magic\" parameter we need to select. We could use the validation set approach as we did in the last module, but that approach has a major disadvantage: it leaves fewer observations available for training. **Cross-validation** seeks to overcome this issue by using all of the training set in a smart way.\n",
    "\n",
    "We will implement a kind of cross-validation called **k-fold cross-validation**. The method gets its name because it involves dividing the training set into k segments of roughtly equal size. Similar to the validation set method, we measure the validation error with one of the segments designated as the validation set. The major difference is that we repeat the process k times as follows:\n",
    "\n",
    "Set aside segment 0 as the validation set, and fit a model on rest of data, and evalutate it on this validation set<br>\n",
    "Set aside segment 1 as the validation set, and fit a model on rest of data, and evalutate it on this validation set<br>\n",
    "...<br>\n",
    "Set aside segment k-1 as the validation set, and fit a model on rest of data, and evalutate it on this validation set\n",
    "\n",
    "After this process, we compute the average of the k validation errors, and use it as an estimate of the generalization error. Notice that  all observations are used for both training and validation, as we iterate over segments of data. \n",
    "\n",
    "To estimate the generalization error well, it is crucial to shuffle the training data before dividing them into segments. GraphLab Create has a utility function for shuffling a given SFrame. We reserve 10% of the data as the test set and shuffle the remainder. (Make sure to use `seed=1` to get consistent answer.)"
   ]
  },
  {
   "cell_type": "code",
   "execution_count": 95,
   "metadata": {
    "collapsed": false
   },
   "outputs": [
    {
     "name": "stdout",
     "output_type": "stream",
     "text": [
      "<class 'graphlab.data_structures.sframe.SFrame'>\n",
      "(19396, 21) (2217, 21)\n",
      "0.10257715264\n",
      "0.89742284736\n",
      "<class 'graphlab.data_structures.sframe.SFrame'>\n"
     ]
    }
   ],
   "source": [
    "print type(sales)\n",
    "(train_valid, test) = sales.random_split(.9, seed=1)\n",
    "#https://turi.com/products/create/docs/generated/graphlab.SFrame.random_split.html\n",
    "#Randomly split the rows of an SFrame into two SFrames. \n",
    "#The first SFrame contains M rows, sampled uniformly (without replacement) \n",
    "#from the original SFrame. M is approximately the fraction times the original number of rows. \n",
    "#The second SFrame contains the remaining rows of the original SFrame.\n",
    "print train_valid.shape, test.shape\n",
    "print test.shape[0] * 1.0/sales.shape[0]\n",
    "print train_valid.shape[0] * 1.0/sales.shape[0]\n",
    "\n",
    "train_valid_shuffled = graphlab.toolkits.cross_validation.shuffle(train_valid, random_seed=1)\n",
    "#https://turi.com/products/create/docs/generated/graphlab.toolkits.cross_validation.shuffle.html\n",
    "#Create a copy of the SFrame where the rows have been shuffled randomly.\n",
    "print type(train_valid_shuffled)"
   ]
  },
  {
   "cell_type": "markdown",
   "metadata": {},
   "source": [
    "Once the data is shuffled, we divide it into equal segments. Each segment should receive `n/k` elements, where `n` is the number of observations in the training set and `k` is the number of segments. Since the segment 0 starts at index 0 and contains `n/k` elements, it ends at index `(n/k)-1`. The segment 1 starts where the segment 0 left off, at index `(n/k)`. With `n/k` elements, the segment 1 ends at index `(n*2/k)-1`. Continuing in this fashion, we deduce that the segment `i` starts at index `(n*i/k)` and ends at `(n*(i+1)/k)-1`."
   ]
  },
  {
   "cell_type": "markdown",
   "metadata": {},
   "source": [
    "With this pattern in mind, we write a short loop that prints the starting and ending indices of each segment, just to make sure you are getting the splits right."
   ]
  },
  {
   "cell_type": "code",
   "execution_count": 96,
   "metadata": {
    "collapsed": false
   },
   "outputs": [
    {
     "name": "stdout",
     "output_type": "stream",
     "text": [
      "n= 19396\n",
      "n/10 =  1939\n",
      "n*1.0/10 =  1939.6\n",
      "0 (0, 1938) 1938\n",
      "1 (1939, 3878) 1939\n",
      "2 (3879, 5817) 1938\n",
      "3 (5818, 7757) 1939\n",
      "4 (7758, 9697) 1939\n",
      "5 (9698, 11636) 1938\n",
      "6 (11637, 13576) 1939\n",
      "7 (13577, 15515) 1938\n",
      "8 (15516, 17455) 1939\n",
      "9 (17456, 19395) 1939\n"
     ]
    }
   ],
   "source": [
    "n = len(train_valid_shuffled)\n",
    "print \"n=\", n\n",
    "print \"n/10 = \", n/10\n",
    "print \"n*1.0/10 = \", n*1.0/10\n",
    "k = 10 # 10-fold cross-validation\n",
    "\n",
    "for i in xrange(k):\n",
    "    start = (n*i)/k\n",
    "    end = (n*(i+1))/k-1\n",
    "    print i, (start, end), end-start"
   ]
  },
  {
   "cell_type": "markdown",
   "metadata": {
    "collapsed": false
   },
   "source": [
    "Let us familiarize ourselves with array slicing with SFrame. To extract a continuous slice from an SFrame, use colon in square brackets. For instance, the following cell extracts rows 0 to 9 of `train_valid_shuffled`. Notice that the first index (0) is included in the slice but the last index (10) is omitted."
   ]
  },
  {
   "cell_type": "code",
   "execution_count": 97,
   "metadata": {
    "collapsed": false
   },
   "outputs": [
    {
     "name": "stdout",
     "output_type": "stream",
     "text": [
      "['id', 'date', 'price', 'bedrooms', 'bathrooms', 'sqft_living', 'sqft_lot', 'floors', 'waterfront', 'view', 'condition', 'grade', 'sqft_above', 'sqft_basement', 'yr_built', 'yr_renovated', 'zipcode', 'lat', 'long', 'sqft_living15', 'sqft_lot15']\n",
      "+------------+---------------------------+----------+----------+-----------+\n",
      "|     id     |            date           |  price   | bedrooms | bathrooms |\n",
      "+------------+---------------------------+----------+----------+-----------+\n",
      "| 2780400035 | 2014-05-05 00:00:00+00:00 | 665000.0 |   4.0    |    2.5    |\n",
      "| 1703050500 | 2015-03-21 00:00:00+00:00 | 645000.0 |   3.0    |    2.5    |\n",
      "| 5700002325 | 2014-06-05 00:00:00+00:00 | 640000.0 |   3.0    |    1.75   |\n",
      "| 0475000510 | 2014-11-18 00:00:00+00:00 | 594000.0 |   3.0    |    1.0    |\n",
      "| 0844001052 | 2015-01-28 00:00:00+00:00 | 365000.0 |   4.0    |    2.5    |\n",
      "| 2781280290 | 2015-04-27 00:00:00+00:00 | 305000.0 |   3.0    |    2.5    |\n",
      "| 2214800630 | 2014-11-05 00:00:00+00:00 | 239950.0 |   3.0    |    2.25   |\n",
      "| 2114700540 | 2014-10-21 00:00:00+00:00 | 366000.0 |   3.0    |    2.5    |\n",
      "| 2596400050 | 2014-07-30 00:00:00+00:00 | 375000.0 |   3.0    |    1.0    |\n",
      "| 4140900050 | 2015-01-26 00:00:00+00:00 | 440000.0 |   4.0    |    1.75   |\n",
      "+------------+---------------------------+----------+----------+-----------+\n",
      "+-------------+----------+--------+------------+------+-----------+-------+------------+\n",
      "| sqft_living | sqft_lot | floors | waterfront | view | condition | grade | sqft_above |\n",
      "+-------------+----------+--------+------------+------+-----------+-------+------------+\n",
      "|    2800.0   |   5900   |   1    |     0      |  0   |     3     |   8   |    1660    |\n",
      "|    2490.0   |   5978   |   2    |     0      |  0   |     3     |   9   |    2490    |\n",
      "|    2340.0   |   4206   |   1    |     0      |  0   |     5     |   7   |    1170    |\n",
      "|    1320.0   |   5000   |   1    |     0      |  0   |     4     |   7   |    1090    |\n",
      "|    1904.0   |   8200   |   2    |     0      |  0   |     5     |   7   |    1904    |\n",
      "|    1610.0   |   3516   |   2    |     0      |  0   |     3     |   8   |    1610    |\n",
      "|    1560.0   |   8280   |   2    |     0      |  0   |     4     |   7   |    1560    |\n",
      "|    1320.0   |   4320   |   1    |     0      |  0   |     3     |   6   |    660     |\n",
      "|    1960.0   |   7955   |   1    |     0      |  0   |     4     |   7   |    1260    |\n",
      "|    2180.0   |  10200   |   1    |     0      |  2   |     3     |   8   |    2000    |\n",
      "+-------------+----------+--------+------------+------+-----------+-------+------------+\n",
      "+---------------+----------+--------------+---------+-------------+\n",
      "| sqft_basement | yr_built | yr_renovated | zipcode |     lat     |\n",
      "+---------------+----------+--------------+---------+-------------+\n",
      "|      1140     |   1963   |      0       |  98115  | 47.68093246 |\n",
      "|       0       |   2003   |      0       |  98074  | 47.62984888 |\n",
      "|      1170     |   1917   |      0       |  98144  | 47.57587004 |\n",
      "|      230      |   1920   |      0       |  98107  | 47.66737217 |\n",
      "|       0       |   1999   |      0       |  98010  | 47.31068733 |\n",
      "|       0       |   2006   |      0       |  98055  | 47.44911017 |\n",
      "|       0       |   1979   |      0       |  98001  | 47.33933392 |\n",
      "|      660      |   1918   |      0       |  98106  | 47.53271982 |\n",
      "|      700      |   1963   |      0       |  98177  | 47.76407345 |\n",
      "|      180      |   1966   |      0       |  98028  | 47.76382378 |\n",
      "+---------------+----------+--------------+---------+-------------+\n",
      "+---------------+---------------+-----+\n",
      "|      long     | sqft_living15 | ... |\n",
      "+---------------+---------------+-----+\n",
      "| -122.28583258 |     2580.0    | ... |\n",
      "| -122.02177564 |     2710.0    | ... |\n",
      "|   -122.28796  |     1360.0    | ... |\n",
      "| -122.36472902 |     1700.0    | ... |\n",
      "|  -122.0012452 |     1560.0    | ... |\n",
      "|  -122.1878086 |     1610.0    | ... |\n",
      "| -122.25864364 |     1920.0    | ... |\n",
      "| -122.34716948 |     1190.0    | ... |\n",
      "| -122.36361517 |     1850.0    | ... |\n",
      "| -122.27022456 |     2590.0    | ... |\n",
      "+---------------+---------------+-----+\n",
      "[10 rows x 21 columns]\n",
      "\n"
     ]
    }
   ],
   "source": [
    "print train_valid_shuffled.column_names()\n",
    "print train_valid_shuffled[0:10] # rows 0 to 9"
   ]
  },
  {
   "cell_type": "markdown",
   "metadata": {},
   "source": [
    "Now let us extract individual segments with array slicing. Consider the scenario where we group the houses in the `train_valid_shuffled` dataframe into k=10 segments of roughly equal size, with starting and ending indices computed as above.\n",
    "Extract the fourth segment (segment 3) and assign it to a variable called `validation4`."
   ]
  },
  {
   "cell_type": "code",
   "execution_count": 98,
   "metadata": {
    "collapsed": false
   },
   "outputs": [
    {
     "name": "stdout",
     "output_type": "stream",
     "text": [
      "0 (0, 1939) 1939\n",
      "1 (1939, 3879) 1940\n",
      "2 (3879, 5818) 1939\n",
      "3 (5818, 7758) 1940\n",
      "4 (7758, 9698) 1940\n",
      "5 (9698, 11637) 1939\n",
      "6 (11637, 13577) 1940\n",
      "7 (13577, 15516) 1939\n",
      "8 (15516, 17456) 1940\n",
      "9 (17456, 19396) 1940\n",
      "start[3] =  5818 , end[3] =  7758\n",
      "(1940, 21)\n",
      "<class 'graphlab.data_structures.sframe.SFrame'>\n",
      "['id', 'date', 'price', 'bedrooms', 'bathrooms', 'sqft_living', 'sqft_lot', 'floors', 'waterfront', 'view', 'condition', 'grade', 'sqft_above', 'sqft_basement', 'yr_built', 'yr_renovated', 'zipcode', 'lat', 'long', 'sqft_living15', 'sqft_lot15']\n"
     ]
    }
   ],
   "source": [
    "n = len(train_valid_shuffled)\n",
    "k = 10 # 10-fold cross-validation\n",
    "start = []\n",
    "end = []\n",
    "for i in xrange(k):\n",
    "    #start.append((n*i)/k)\n",
    "    #end.append((n*(i+1))/k-1)\n",
    "    start.append(int((n*1.0*i)/k))\n",
    "    end.append(int((n*1.0*(i+1))/k))\n",
    "    print i, (start[i], end[i]), end[i]-start[i]\n",
    "    #[(n*1.0)/k*3:(n*1.0)/k*4]\n",
    "    validation = train_valid_shuffled[start[i]:end[i]]\n",
    "    #print int(round(validation['price'].mean(), 0))\n",
    "\n",
    "print \"start[3] = \", start[3], \", end[3] = \", end[3]\n",
    "validation4 = train_valid_shuffled[start[3]:end[3]]\n",
    "print validation4.shape\n",
    "print type(validation4)\n",
    "print validation4.column_names()"
   ]
  },
  {
   "cell_type": "markdown",
   "metadata": {},
   "source": [
    "To verify that we have the right elements extracted, run the following cell, which computes the average price of the fourth segment. When rounded to nearest whole number, the average should be $536,234."
   ]
  },
  {
   "cell_type": "code",
   "execution_count": 99,
   "metadata": {
    "collapsed": false
   },
   "outputs": [
    {
     "name": "stdout",
     "output_type": "stream",
     "text": [
      "using train_valid_shuffled[5818:7758] =  536234  'correct' answer\n",
      "using train_valid_shuffled[5818:7757] =  536353\n",
      "using train_valid_shuffled[n/k*3= 5817 :n/k*4= 7756 ] =  536389\n",
      "using train_valid_shuffled[(n*1.0)/k*3= 5818.8 :,(n*1.0)/k*4-1 7757.4 ] =  536353\n",
      "using train_valid_shuffled[(n*1.0)/k*3= 5818.8 :(n*1.0)/k*4= 7758.4 ] =  int(round(validation4['price'].mean(), 0)) =  536234\n"
     ]
    }
   ],
   "source": [
    "temp = train_valid_shuffled[5818:7758]\n",
    "print \"using train_valid_shuffled[5818:7758] = \", int(round(temp['price'].mean(), 0)), \" 'correct' answer\"\n",
    "temp = train_valid_shuffled[5818:7757]\n",
    "print \"using train_valid_shuffled[5818:7757] = \", int(round(temp['price'].mean(), 0))\n",
    "#code below for explaining forum questions\n",
    "#print \"n/k*3 = \", n/k*3, \", n/k*4 = \", n/k*4\n",
    "#print \"n*1.0/k*3 = \", n*1.0/k*3, \", n*1.0/k*4 = \", n*1.0/k*4\n",
    "#print \"int(n*1.0/k*3) = \", int(n*1.0/k*3), \", int(n*1.0/k*4) = \", int(n*1.0/k*4)\n",
    "#print \"int(n*1.0/k*3) = \", int(n*1.0/k*3), \", int(n*1.0/k*4)-1 = \", int(n*1.0/k*4)-1\n",
    "test1 = train_valid_shuffled[n/k*3:n/k*4]\n",
    "print \"using train_valid_shuffled[n/k*3=\", n/k*3, \":n/k*4=\", n/k*4, \"] = \", int(round(test1['price'].mean(), 0))\n",
    "test1 = train_valid_shuffled[(n*1.0)/k*3:(n*1.0)/k*4-1]\n",
    "print \"using train_valid_shuffled[(n*1.0)/k*3=\", (n*1.0)/k*3, \":,(n*1.0)/k*4-1\", (n*1.0)/k*4-1, \"] = \", int(round(test1['price'].mean(), 0))\n",
    "test1 = train_valid_shuffled[(n*1.0)/k*3:(n*1.0)/k*4]\n",
    "print \"using train_valid_shuffled[(n*1.0)/k*3=\", (n*1.0)/k*3, \":(n*1.0)/k*4=\", (n*1.0)/k*4, \"] = \", \n",
    "int(round(test1['price'].mean(), 0))\n",
    "print \"int(round(validation4['price'].mean(), 0)) = \", int(round(validation4['price'].mean(), 0))\n"
   ]
  },
  {
   "cell_type": "markdown",
   "metadata": {},
   "source": [
    "After designating one of the k segments as the validation set, we train a model using the rest of the data. To choose the remainder, we slice (0:start) and (end+1:n) of the data and paste them together. SFrame has `append()` method that pastes together two disjoint sets of rows originating from a common dataset. For instance, the following cell pastes together the first and last two rows of the `train_valid_shuffled` dataframe."
   ]
  },
  {
   "cell_type": "code",
   "execution_count": 100,
   "metadata": {
    "collapsed": false
   },
   "outputs": [
    {
     "name": "stdout",
     "output_type": "stream",
     "text": [
      "+------------+---------------------------+-----------+----------+-----------+\n",
      "|     id     |            date           |   price   | bedrooms | bathrooms |\n",
      "+------------+---------------------------+-----------+----------+-----------+\n",
      "| 2780400035 | 2014-05-05 00:00:00+00:00 |  665000.0 |   4.0    |    2.5    |\n",
      "| 1703050500 | 2015-03-21 00:00:00+00:00 |  645000.0 |   3.0    |    2.5    |\n",
      "| 4139480190 | 2014-09-16 00:00:00+00:00 | 1153000.0 |   3.0    |    3.25   |\n",
      "| 7237300290 | 2015-03-26 00:00:00+00:00 |  338000.0 |   5.0    |    2.5    |\n",
      "+------------+---------------------------+-----------+----------+-----------+\n",
      "+-------------+----------+--------+------------+------+-----------+-------+------------+\n",
      "| sqft_living | sqft_lot | floors | waterfront | view | condition | grade | sqft_above |\n",
      "+-------------+----------+--------+------------+------+-----------+-------+------------+\n",
      "|    2800.0   |   5900   |   1    |     0      |  0   |     3     |   8   |    1660    |\n",
      "|    2490.0   |   5978   |   2    |     0      |  0   |     3     |   9   |    2490    |\n",
      "|    3780.0   |  10623   |   1    |     0      |  1   |     3     |   11  |    2650    |\n",
      "|    2400.0   |   4496   |   2    |     0      |  0   |     3     |   7   |    2400    |\n",
      "+-------------+----------+--------+------------+------+-----------+-------+------------+\n",
      "+---------------+----------+--------------+---------+-------------+\n",
      "| sqft_basement | yr_built | yr_renovated | zipcode |     lat     |\n",
      "+---------------+----------+--------------+---------+-------------+\n",
      "|      1140     |   1963   |      0       |  98115  | 47.68093246 |\n",
      "|       0       |   2003   |      0       |  98074  | 47.62984888 |\n",
      "|      1130     |   1999   |      0       |  98006  | 47.55061236 |\n",
      "|       0       |   2004   |      0       |  98042  | 47.36923712 |\n",
      "+---------------+----------+--------------+---------+-------------+\n",
      "+---------------+---------------+-----+\n",
      "|      long     | sqft_living15 | ... |\n",
      "+---------------+---------------+-----+\n",
      "| -122.28583258 |     2580.0    | ... |\n",
      "| -122.02177564 |     2710.0    | ... |\n",
      "| -122.10144844 |     3850.0    | ... |\n",
      "| -122.12606473 |     1880.0    | ... |\n",
      "+---------------+---------------+-----+\n",
      "[4 rows x 21 columns]\n",
      "\n"
     ]
    }
   ],
   "source": [
    "n = len(train_valid_shuffled)\n",
    "first_two = train_valid_shuffled[0:2]\n",
    "last_two = train_valid_shuffled[n-2:n]\n",
    "print first_two.append(last_two)"
   ]
  },
  {
   "cell_type": "markdown",
   "metadata": {},
   "source": [
    "Extract the remainder of the data after *excluding* fourth segment (segment 3) and assign the subset to `train4`."
   ]
  },
  {
   "cell_type": "code",
   "execution_count": 101,
   "metadata": {
    "collapsed": false
   },
   "outputs": [
    {
     "name": "stdout",
     "output_type": "stream",
     "text": [
      "start[3] =  5818 , end[3] =  7758 end[3]-start[3] =  1940\n",
      "initial train4.shape =  (5818, 21)\n",
      "last_part.shape =  (11638, 21)\n",
      "train4.shape =  (17456, 21)\n",
      "sales.shape =  (21613, 21)\n",
      "sales.shape[0]-train4.shape[0] =  21613  -  17456  =  4157\n"
     ]
    }
   ],
   "source": [
    "print \"start[3] = \", start[3], \", end[3] = \", end[3], \"end[3]-start[3] = \", end[3]-start[3]\n",
    "train4 = train_valid_shuffled[0:start[3]]\n",
    "print \"initial train4.shape = \", train4.shape\n",
    "last_part = train_valid_shuffled[end[3]:n]\n",
    "print \"last_part.shape = \", last_part.shape\n",
    "#print train4.append(last_part)\n",
    "train4 = train4.append(last_part)\n",
    "print \"train4.shape = \", train4.shape\n",
    "print \"sales.shape = \", sales.shape\n",
    "print \"sales.shape[0]-train4.shape[0] = \", sales.shape[0], \" - \", train4.shape[0], \" = \", sales.shape[0]-train4.shape[0]"
   ]
  },
  {
   "cell_type": "markdown",
   "metadata": {},
   "source": [
    "To verify that we have the right elements extracted, run the following cell, which computes the average price of the data with fourth segment excluded. When rounded to nearest whole number, the average should be $539,450."
   ]
  },
  {
   "cell_type": "code",
   "execution_count": 102,
   "metadata": {
    "collapsed": false
   },
   "outputs": [
    {
     "name": "stdout",
     "output_type": "stream",
     "text": [
      "539450\n"
     ]
    }
   ],
   "source": [
    "print int(round(train4['price'].mean(), 0))\n",
    "#calc mean of 'price' column, round to zero decimal places\n"
   ]
  },
  {
   "cell_type": "markdown",
   "metadata": {},
   "source": [
    "Now we are ready to implement k-fold cross-validation. Write a function that computes k validation errors by designating each of the k segments as the validation set. It accepts as parameters (i) `k`, (ii) `l2_penalty`, (iii) dataframe, (iv) name of output column (e.g. `price`) and (v) list of feature names. The function returns the average validation error using k segments as validation sets.\n",
    "\n",
    "* For each i in [0, 1, ..., k-1]:\n",
    "  * Compute starting and ending indices of segment i and call 'start' and 'end'\n",
    "  * Form validation set by taking a slice (start:end+1) from the data.\n",
    "  * Form training set by appending slice (end+1:n) to the end of slice (0:start).\n",
    "  * Train a linear model using training set just formed, with a given l2_penalty\n",
    "  * Compute validation error using validation set just formed"
   ]
  },
  {
   "cell_type": "code",
   "execution_count": 108,
   "metadata": {
    "collapsed": false
   },
   "outputs": [
    {
     "name": "stdout",
     "output_type": "stream",
     "text": [
      "k_fold_cross_validation @ 1e5 =  8.07211174268e+12\n",
      "k_fold_cross_validation @ 1e-5 =  1.57900226569e+15\n"
     ]
    }
   ],
   "source": [
    "def k_fold_cross_validation(k, l2_penalty, data, output_name, features_list):\n",
    "    #print \"start of k_fold_cross_validation\"\n",
    "    #loop to create blocks of k elements\n",
    "    n = len(data)\n",
    "    k = 10 # 10-fold cross-validation\n",
    "    start = []\n",
    "    end = []\n",
    "    val_error_total = 0\n",
    "    for i in xrange(k):\n",
    "        #print \"i=\", i\n",
    "        #Compute starting and ending indices of segment i and call 'start' and 'end'\n",
    "        start.append(int((n*1.0*i)/k))\n",
    "        end.append(int((n*1.0*(i+1))/k))\n",
    "        #print i, (start[i], end[i]), end[i]-start[i]\n",
    "        #Form validation set by taking a slice (start:end+1) from the data.\n",
    "        validation = data[start[i]:end[i]+1]\n",
    "        first_part = data[0:start[i]]\n",
    "        #print \"first_part.shape = \", first_part.shape\n",
    "        last_part = data[end[i]+1:n]\n",
    "        #print \"last_part.shape = \", last_part.shape\n",
    "        #Form training set by appending slice (end+1:n) to the end of slice (0:start).\n",
    "        train_data = first_part.append(last_part)\n",
    "        #print \"train_data.shape = \", train_data.shape\n",
    "        #create polynomial dataframe, then use this to train model.\n",
    "        poly_data_train = polynomial_sframe(train_data['sqft_living'], 15)\n",
    "        #get features list before adding price column\n",
    "        features = poly_data_train.column_names()\n",
    "        poly_data_train['price'] = train_data['price']\n",
    "        #print \"poly_data_train.shape = \", poly_data_train.shape\n",
    "        model_poly_data_train = graphlab.linear_regression.create(poly_data_train, \n",
    "                                                       target = 'price', \n",
    "                                                       features = features, \n",
    "                                                       validation_set = None, \n",
    "                                                       l2_penalty= l2_penalty,\n",
    "                                                       verbose= False)\n",
    "        #https://turi.com/products/create/docs/generated/graphlab.linear_regression.create.html\n",
    "        #NB: l1_penalty : float, optional\n",
    "        #NBB :  The default weight of 0 prevents any features from being discarded.\n",
    "        #create validation data set - need polynomial of the validation data.\n",
    "        poly_validation=polynomial_sframe(validation['sqft_living'],15)\n",
    "        predicted = model_poly_data_train.predict(poly_validation)\n",
    "        #Compute validation error using validation set just formed\n",
    "        val_error = (predicted - validation['price']).sum()\n",
    "        #(list - list).sum() = \n",
    "        #print \"type(val_error) = \", type(val_error)\n",
    "        #print type(predicted)\n",
    "        val_error_total += val_error\n",
    "    # average validation error = val_error_total / k\n",
    "    return val_error_total/k\n",
    "    #print \"end of k_fold_cross_validation\"\n",
    "\n",
    "#test function  \n",
    "#recall l2_small_penalty = 1e-5 & l2_large_penalty = 1e5\n",
    "print \"k_fold_cross_validation @ l2_penalty = 1e5 = \", k_fold_cross_validation(10, 1e5, sales, 'price', ['sqft_living'])\n",
    "print \"k_fold_cross_validation @ l2_penalty = 1e-5 = \", k_fold_cross_validation(10, 1e-5, sales, 'price', ['sqft_living'])\n",
    "\n"
   ]
  },
  {
   "cell_type": "markdown",
   "metadata": {},
   "source": [
    "Once we have a function to compute the average validation error for a model, we can write a loop to find the model that minimizes the average validation error. Write a loop that does the following:\n",
    "* We will again be aiming to fit a 15th-order polynomial model using the `sqft_living` input\n",
    "* For `l2_penalty` in [10^1, 10^1.5, 10^2, 10^2.5, ..., 10^7] (to get this in Python, you can use this Numpy function: `np.logspace(1, 7, num=13)`.)\n",
    "    * Run 10-fold cross-validation with `l2_penalty`\n",
    "* Report which L2 penalty produced the lowest average validation error.\n",
    "\n",
    "Note: since the degree of the polynomial is now fixed to 15, to make things faster, you should generate polynomial features in advance and re-use them throughout the loop. Make sure to use `train_valid_shuffled` when generating polynomial features!"
   ]
  },
  {
   "cell_type": "code",
   "execution_count": 110,
   "metadata": {
    "collapsed": false
   },
   "outputs": [
    {
     "name": "stdout",
     "output_type": "stream",
     "text": [
      "l2_penalty =  10.0 , k_fold_cross_validation result =  -5576514.09998\n",
      "l2_penalty =  31.6227766017 , k_fold_cross_validation result =  -3782761.60706\n",
      "l2_penalty =  100.0 , k_fold_cross_validation result =  -1850304.59615\n",
      "l2_penalty =  316.227766017 , k_fold_cross_validation result =  -354536.513941\n",
      "l2_penalty =  1000.0 , k_fold_cross_validation result =  406668.868025\n",
      "l2_penalty =  3162.27766017 , k_fold_cross_validation result =  238231.562012\n",
      "l2_penalty =  10000.0 , k_fold_cross_validation result =  -21999.5192613\n",
      "l2_penalty =  31622.7766017 , k_fold_cross_validation result =  640839.393004\n",
      "l2_penalty =  100000.0 , k_fold_cross_validation result =  1321801.7246\n",
      "l2_penalty =  316227.766017 , k_fold_cross_validation result =  1125119.32004\n",
      "l2_penalty =  1000000.0 , k_fold_cross_validation result =  636015.063363\n",
      "l2_penalty =  3162277.66017 , k_fold_cross_validation result =  349061.333607\n",
      "l2_penalty =  10000000.0 , k_fold_cross_validation result =  236652.49882\n"
     ]
    }
   ],
   "source": [
    "#https://docs.scipy.org/doc/numpy/reference/generated/numpy.logspace.html\n",
    "#numpy.logspace(start, stop, num=50, endpoint=True, base=10.0, dtype=None)\n",
    "import numpy as np\n",
    "x_l2_penalty = []\n",
    "k_fold_cross_validation_store = []\n",
    "i=0\n",
    "for l2_penalty in np.logspace(1, 7, num=13):\n",
    "    x_l2_penalty.append(l2_penalty)\n",
    "    temp = k_fold_cross_validation(10, l2_penalty, train_valid_shuffled, 'price',['sqft_living'])\n",
    "    k_fold_cross_validation_store.append(temp)\n",
    "    print \"l2_penalty = \", l2_penalty, \", k_fold_cross_validation result = \", k_fold_cross_validation_store[i]\n",
    "    i += 1\n",
    "print \"end\""
   ]
  },
  {
   "cell_type": "markdown",
   "metadata": {},
   "source": [
    "***QUIZ QUESTIONS:  What is the best value for the L2 penalty according to 10-fold validation?***"
   ]
  },
  {
   "cell_type": "markdown",
   "metadata": {},
   "source": [
    "You may find it useful to plot the k-fold cross-validation errors you have obtained to better understand the behavior of the method.  "
   ]
  },
  {
   "cell_type": "code",
   "execution_count": 112,
   "metadata": {
    "collapsed": false
   },
   "outputs": [
    {
     "data": {
      "text/plain": [
       "[<matplotlib.lines.Line2D at 0x3481a940>]"
      ]
     },
     "execution_count": 112,
     "metadata": {},
     "output_type": "execute_result"
    },
    {
     "data": {
      "image/png": "[encoded data removed]",
      "text/plain": [
       "<matplotlib.figure.Figure at 0x34639978>"
      ]
     },
     "metadata": {},
     "output_type": "display_data"
    }
   ],
   "source": [
    "# Plot the l2_penalty values in the x axis and the cross-validation error in the y axis.\n",
    "# Using plt.xscale('log') will make your plot more intuitive.\n",
    "#plt.plot(set_1_poly_15['power_1'], set_1_poly_15['price'],'.',\n",
    "#        set_1_poly_15['power_1'], model_set1.predict(set_1_poly_15),'-')\n",
    "plt.plot(x_l2_penalty, k_fold_cross_validation_store, \".\")\n"
   ]
  },
  {
   "cell_type": "code",
   "execution_count": 116,
   "metadata": {
    "collapsed": false
   },
   "outputs": [
    {
     "data": {
      "text/plain": [
       "<matplotlib.text.Text at 0x35505b00>"
      ]
     },
     "execution_count": 116,
     "metadata": {},
     "output_type": "execute_result"
    },
    {
     "data": {
      "image/png": "[encoded data removed]",
      "text/plain": [
       "<matplotlib.figure.Figure at 0x3463ff60>"
      ]
     },
     "metadata": {},
     "output_type": "display_data"
    }
   ],
   "source": [
    "#http://matplotlib.org/api/pyplot_api.html#module-matplotlib.pyplot\n",
    "#matplotlib.pyplot.xscale(*args, **kwargs)\n",
    "#The available scales are: ‘linear’ | ‘log’ | ‘logit’ | ‘symlog’\n",
    "plt.xscale('log')\n",
    "plt.plot(x_l2_penalty, k_fold_cross_validation_store, \".\")\n",
    "plt.ylabel('sum errors / k where k=10')\n",
    "plt.xlabel('l2_penalty')"
   ]
  },
  {
   "cell_type": "code",
   "execution_count": 122,
   "metadata": {
    "collapsed": false
   },
   "outputs": [
    {
     "name": "stdout",
     "output_type": "stream",
     "text": [
      "min absolute value error =  21999.5192613\n",
      "index of min absolute value error =  6\n",
      "l2_penalty for min absolute value error =  10000.0\n"
     ]
    }
   ],
   "source": [
    "#convert to absolute values\n",
    "for i in range(len(k_fold_cross_validation_store)):\n",
    "    k_fold_cross_validation_store[i] = abs(k_fold_cross_validation_store[i])\n",
    "print \"min absolute value error = \", min(k_fold_cross_validation_store)\n",
    "print \"index of min absolute value error = \", k_fold_cross_validation_store.index(min(k_fold_cross_validation_store))\n",
    "print \"l2_penalty for min absolute value error = \", x_l2_penalty[6]"
   ]
  },
  {
   "cell_type": "markdown",
   "metadata": {},
   "source": [
    "Once you found the best value for the L2 penalty using cross-validation, it is important to retrain a final model on all of the training data using this value of `l2_penalty`. This way, your final model will be trained on the entire dataset."
   ]
  },
  {
   "cell_type": "code",
   "execution_count": 123,
   "metadata": {
    "collapsed": false
   },
   "outputs": [
    {
     "name": "stdout",
     "output_type": "stream",
     "text": [
      "1.28780855058e+14\n"
     ]
    }
   ],
   "source": [
    "poly_data = polynomial_sframe(train_valid_shuffled['sqft_living'], 15)\n",
    "my_features = poly_data.column_names() \n",
    "#get list of features, need this for linear regression\n",
    "poly_data['price'] = train_valid_shuffled['price'] \n",
    "#copy price data as need this for linear regression\n",
    "model_final= graphlab.linear_regression.create(poly_data, \n",
    "                                               target = 'price', \n",
    "                                               features = my_features,\n",
    "                                               l2_penalty= 1e+3, \n",
    "                                               validation_set = None,\n",
    "                                               verbose=False)\n",
    "#create test polynomial dataset.\n",
    "poly_test=polynomial_sframe(test['sqft_living'],15)\n",
    "#use previously generated model (based on train_valid_shuffled) to predict values on test data\n",
    "pred=model_final.predict(poly_test)\n",
    "#calculate residual sum squares\n",
    "rss=((pred-test['price'])**2).sum()\n",
    "print rss"
   ]
  },
  {
   "cell_type": "markdown",
   "metadata": {},
   "source": [
    "***QUIZ QUESTION: Using the best L2 penalty found above, train a model using all training data. What is the RSS on the TEST data of the model you learn with this L2 penalty? ***"
   ]
  },
  {
   "cell_type": "code",
   "execution_count": null,
   "metadata": {
    "collapsed": true
   },
   "outputs": [],
   "source": []
  }
 ],
 "metadata": {
  "kernelspec": {
   "display_name": "Python 2",
   "language": "python",
   "name": "python2"
  },
  "language_info": {
   "codemirror_mode": {
    "name": "ipython",
    "version": 2
   },
   "file_extension": ".py",
   "mimetype": "text/x-python",
   "name": "python",
   "nbconvert_exporter": "python",
   "pygments_lexer": "ipython2",
   "version": "2.7.11"
  }
 },
 "nbformat": 4,
 "nbformat_minor": 0
}
