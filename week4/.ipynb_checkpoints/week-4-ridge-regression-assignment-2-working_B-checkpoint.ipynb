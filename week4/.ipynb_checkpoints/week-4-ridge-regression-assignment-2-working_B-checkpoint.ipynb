{
 "cells": [
  {
   "cell_type": "markdown",
   "metadata": {},
   "source": [
    "# Regression Week 4: Ridge Regression (gradient descent)"
   ]
  },
  {
   "cell_type": "markdown",
   "metadata": {},
   "source": [
    "In this notebook, you will implement ridge regression via gradient descent. You will:\n",
    "* Convert an SFrame into a Numpy array\n",
    "* Write a Numpy function to compute the derivative of the regression weights with respect to a single feature\n",
    "* Write gradient descent function to compute the regression weights given an initial weight vector, step size, tolerance, and L2 penalty"
   ]
  },
  {
   "cell_type": "markdown",
   "metadata": {},
   "source": [
    "# Fire up graphlab create"
   ]
  },
  {
   "cell_type": "markdown",
   "metadata": {},
   "source": [
    "Make sure you have the latest version of GraphLab Create (>= 1.7)"
   ]
  },
  {
   "cell_type": "code",
   "execution_count": 2,
   "metadata": {
    "collapsed": false
   },
   "outputs": [],
   "source": [
    "import graphlab"
   ]
  },
  {
   "cell_type": "markdown",
   "metadata": {},
   "source": [
    "# Load in house sales data\n",
    "\n",
    "Dataset is from house sales in King County, the region where the city of Seattle, WA is located."
   ]
  },
  {
   "cell_type": "code",
   "execution_count": 4,
   "metadata": {
    "collapsed": false
   },
   "outputs": [],
   "source": [
    "sales = graphlab.SFrame('../data/kc_house_data.gl/')"
   ]
  },
  {
   "cell_type": "markdown",
   "metadata": {},
   "source": [
    "If we want to do any \"feature engineering\" like creating new features or adjusting existing ones we should do this directly using the SFrames as seen in the first notebook of Week 2. For this notebook, however, we will work with the existing features."
   ]
  },
  {
   "cell_type": "markdown",
   "metadata": {},
   "source": [
    "# Import useful functions from previous notebook"
   ]
  },
  {
   "cell_type": "markdown",
   "metadata": {},
   "source": [
    "As in Week 2, we convert the SFrame into a 2D Numpy array. Copy and paste `get_numpy_data()` from the second notebook of Week 2."
   ]
  },
  {
   "cell_type": "code",
   "execution_count": 5,
   "metadata": {
    "collapsed": true
   },
   "outputs": [],
   "source": [
    "import numpy as np # note this allows us to refer to numpy as np instead "
   ]
  },
  {
   "cell_type": "code",
   "execution_count": 7,
   "metadata": {
    "collapsed": true
   },
   "outputs": [],
   "source": [
    "def get_numpy_data(data_sframe, features, output):\n",
    "    #split data_sframe inro two numpy arrays\n",
    "    #feature_matrix contains columns from list 'features' \n",
    "    data_sframe['constant'] = 1 # this is how you add a constant column to an SFrame\n",
    "    # add the column 'constant' to the front of the features list so that we can extract it along with the others:\n",
    "    features = ['constant'] + features # this is how you combine two lists\n",
    "    # select the columns of data_SFrame given by the features list into the SFrame features_sframe (now including constant):\n",
    "    features_sframe = data_sframe[features]\n",
    "    # the following line will convert the features_SFrame into a numpy matrix:\n",
    "    feature_matrix = features_sframe.to_numpy()\n",
    "    # assign the column of data_sframe associated with the output to the SArray output_sarray\n",
    "    output_sarray = data_sframe[output]\n",
    "    # the following will convert the SArray into a numpy array by first converting it to a list\n",
    "    output_array = output_sarray.to_numpy()\n",
    "    return(feature_matrix, output_array)"
   ]
  },
  {
   "cell_type": "markdown",
   "metadata": {},
   "source": [
    "Also, copy and paste the `predict_output()` function to compute the predictions for an entire matrix of features given the matrix and the weights:"
   ]
  },
  {
   "cell_type": "code",
   "execution_count": 8,
   "metadata": {
    "collapsed": true
   },
   "outputs": [],
   "source": [
    "def predict_output(feature_matrix, weights):\n",
    "    # assume feature_matrix is a numpy matrix containing the features as columns and \n",
    "    # weights is a corresponding numpy array\n",
    "    # create the predictions vector by using np.dot()\n",
    "    predictions = np.dot(feature_matrix, weights)\n",
    "    return(predictions)"
   ]
  },
  {
   "cell_type": "markdown",
   "metadata": {},
   "source": [
    "# Computing the Derivative"
   ]
  },
  {
   "cell_type": "markdown",
   "metadata": {},
   "source": [
    "We are now going to move to computing the derivative of the regression cost function. Recall that the cost function is the sum over the data points of the squared difference between an observed output and a predicted output, plus the L2 penalty term.\n",
    "```\n",
    "Cost(w)\n",
    "= SUM[ (prediction - output)^2 ]\n",
    "+ l2_penalty*(w[0]^2 + w[1]^2 + ... + w[k]^2).\n",
    "```\n",
    "\n",
    "Since the derivative of a sum is the sum of the derivatives, we can take the derivative of the first part (the RSS) as we did in the notebook for the unregularized case in Week 2 and add the derivative of the regularization part.  As we saw, the derivative of the RSS with respect to `w[i]` can be written as: \n",
    "```\n",
    "2*SUM[ error*[feature_i] ].\n",
    "```\n",
    "The derivative of the regularization term with respect to `w[i]` is:\n",
    "```\n",
    "2*l2_penalty*w[i].\n",
    "```\n",
    "Summing both, we get\n",
    "```\n",
    "2*SUM[ error*[feature_i] ] + 2*l2_penalty*w[i].\n",
    "```\n",
    "That is, the derivative for the weight for feature i is the sum (over data points) of 2 times the product of the error and the feature itself, plus `2*l2_penalty*w[i]`. \n",
    "\n",
    "**We will not regularize the constant.**  Thus, in the case of the constant, the derivative is just twice the sum of the errors (without the `2*l2_penalty*w[0]` term).\n",
    "\n",
    "Recall that twice the sum of the product of two vectors is just twice the dot product of the two vectors. Therefore the derivative for the weight for feature_i is just two times the dot product between the values of feature_i and the current errors, plus `2*l2_penalty*w[i]`.\n",
    "\n",
    "With this in mind complete the following derivative function which computes the derivative of the weight given the value of the feature (over all data points) and the errors (over all data points).  To decide when to we are dealing with the constant (so we don't regularize it) we added the extra parameter to the call `feature_is_constant` which you should set to `True` when computing the derivative of the constant and `False` otherwise."
   ]
  },
  {
   "cell_type": "code",
   "execution_count": 9,
   "metadata": {
    "collapsed": true
   },
   "outputs": [],
   "source": [
    "def feature_derivative_ridge(errors, feature, weight, l2_penalty, feature_is_constant):\n",
    "    #calculates doct product of errors & if feature_is_constant then + feature + 2 x l2_penalty x weight\n",
    "    #todo: rewrite this function to \n",
    "    #Calc base value of derivative then add 2*l2_penalty*weight if feature_is_constant is false\n",
    "    # derivative = 2*np.dot(errors, feature)\n",
    "    # if not feature_is_constant:\n",
    "    #    derivative += 2*l2_penalty*weight  \n",
    "    # If feature_is_constant is True, derivative is twice the dot product of errors and feature\n",
    "    if feature_is_constant:\n",
    "        derivative = 2*np.dot(errors, feature)\n",
    "    # Otherwise, derivative is twice the dot product plus 2*l2_penalty*weight\n",
    "    else:\n",
    "        derivative = 2*np.dot(errors, feature) + 2*l2_penalty*weight\n",
    "    return derivative"
   ]
  },
  {
   "cell_type": "markdown",
   "metadata": {},
   "source": [
    "To test your feature derivartive run the following:"
   ]
  },
  {
   "cell_type": "code",
   "execution_count": 10,
   "metadata": {
    "collapsed": false
   },
   "outputs": [
    {
     "name": "stdout",
     "output_type": "stream",
     "text": [
      "-5.65541667824e+13\n",
      "-5.65541667824e+13\n",
      "\n",
      "-22446749336.0\n",
      "-22446749336.0\n"
     ]
    }
   ],
   "source": [
    "(example_features, example_output) = get_numpy_data(sales, ['sqft_living'], 'price') \n",
    "my_weights = np.array([1., 10.])\n",
    "test_predictions = predict_output(example_features, my_weights) \n",
    "errors = test_predictions - example_output # prediction errors\n",
    "\n",
    "# next two lines should print the same values\n",
    "print feature_derivative_ridge(errors, example_features[:,1], my_weights[1], 1, False)\n",
    "print np.sum(errors*example_features[:,1])*2+20.\n",
    "print ''\n",
    "\n",
    "# next two lines should print the same values\n",
    "print feature_derivative_ridge(errors, example_features[:,0], my_weights[0], 1, True)\n",
    "print np.sum(errors)*2."
   ]
  },
  {
   "cell_type": "markdown",
   "metadata": {},
   "source": [
    "# Gradient Descent"
   ]
  },
  {
   "cell_type": "markdown",
   "metadata": {},
   "source": [
    "Now we will write a function that performs a gradient descent. The basic premise is simple. Given a starting point we update the current weights by moving in the negative gradient direction. Recall that the gradient is the direction of *increase* and therefore the negative gradient is the direction of *decrease* and we're trying to *minimize* a cost function. \n",
    "\n",
    "The amount by which we move in the negative gradient *direction*  is called the 'step size'. We stop when we are 'sufficiently close' to the optimum. Unlike in Week 2, this time we will set a **maximum number of iterations** and take gradient steps until we reach this maximum number. If no maximum number is supplied, the maximum should be set 100 by default. (Use default parameter values in Python.)\n",
    "\n",
    "With this in mind, complete the following gradient descent function below using your derivative function above. For each step in the gradient descent, we update the weight for each feature before computing our stopping criteria."
   ]
  },
  {
   "cell_type": "code",
   "execution_count": 11,
   "metadata": {
    "collapsed": false
   },
   "outputs": [],
   "source": [
    "def ridge_regression_gradient_descent(feature_matrix, output, initial_weights, step_size, l2_penalty, max_iterations=100, verbose = False):\n",
    "    print 'Starting gradient descent with l2_penalty = ' + str(l2_penalty)\n",
    "    \n",
    "    weights = np.array(initial_weights) # make sure it's a numpy array\n",
    "    iteration = 0 # iteration counter\n",
    "    print_frequency = 1  # for adjusting frequency of debugging output\n",
    "    \n",
    "    while iteration < max_iterations:\n",
    "    #while not reached maximum number of iterations:\n",
    "        iteration += 1  # increment iteration counter \n",
    "        # NB: if <= test used, this increment needs to be at end.\n",
    "        ### === code section for adjusting frequency of debugging output. ===\n",
    "        if verbose:\n",
    "            if iteration == 10:\n",
    "                print_frequency = 10\n",
    "            if iteration == 100:\n",
    "                print_frequency = 100\n",
    "            if iteration%print_frequency==0:\n",
    "                print('Iteration = ' + str(iteration))\n",
    "        ### === end code section ===\n",
    "        \n",
    "        # compute the predictions based on feature_matrix and weights using your predict_output() function\n",
    "        predictions = predict_output(feature_matrix, weights)#performs simple dot multiplication of input vectors\n",
    "\n",
    "        # compute the errors as predictions - output\n",
    "        errors = predictions - output\n",
    "\n",
    "        # from time to time, print the value of the cost function\n",
    "        if verbose and iteration%print_frequency==0:\n",
    "            print 'Cost function = ', str(np.dot(errors,errors) + l2_penalty*(np.dot(weights,weights) - weights[0]**2))\n",
    "        \n",
    "        for i in xrange(len(weights)): # loop over each weight\n",
    "            # Recall that feature_matrix[:,i] is the feature column associated with weights[i]\n",
    "            # compute the derivative for weight[i].\n",
    "            #(Remember: when i=0, you are computing the derivative of the constant!)\n",
    "            if i == 0:\n",
    "                feature_is_constant = True\n",
    "            else:\n",
    "                feature_is_constant = False\n",
    "            # compute the derivative for weight[i]\n",
    "            derivative = feature_derivative_ridge(errors, feature_matrix[:,i], weights[i], l2_penalty, feature_is_constant)\n",
    "            #feature_matrix[:,i] = selects all rows in i'th column\n",
    "            \n",
    "            # subtract the step size times the derivative from the current weight\n",
    "            weights[i] -= step_size * derivative\n",
    "    print 'Done with gradient descent at iteration ', iteration\n",
    "    print 'Learned weights = ', str(weights)\n",
    "    return weights"
   ]
  },
  {
   "cell_type": "markdown",
   "metadata": {},
   "source": [
    "# Visualizing effect of L2 penalty"
   ]
  },
  {
   "cell_type": "markdown",
   "metadata": {},
   "source": [
    "The L2 penalty gets its name because it causes weights to have small L2 norms than otherwise. Let's see how large weights get penalized. Let us consider a simple model with 1 feature:"
   ]
  },
  {
   "cell_type": "code",
   "execution_count": 12,
   "metadata": {
    "collapsed": true
   },
   "outputs": [],
   "source": [
    "simple_features = ['sqft_living']\n",
    "my_output = 'price'"
   ]
  },
  {
   "cell_type": "markdown",
   "metadata": {},
   "source": [
    "Let us split the dataset into training set and test set. Make sure to use `seed=0`:"
   ]
  },
  {
   "cell_type": "code",
   "execution_count": 13,
   "metadata": {
    "collapsed": true
   },
   "outputs": [],
   "source": [
    "train_data,test_data = sales.random_split(.8,seed=0)"
   ]
  },
  {
   "cell_type": "markdown",
   "metadata": {},
   "source": [
    "In this part, we will only use `'sqft_living'` to predict `'price'`. Use the `get_numpy_data` function to get a Numpy versions of your data with only this feature, for both the `train_data` and the `test_data`. "
   ]
  },
  {
   "cell_type": "code",
   "execution_count": 14,
   "metadata": {
    "collapsed": true
   },
   "outputs": [],
   "source": [
    "(simple_feature_matrix, output) = get_numpy_data(train_data, simple_features, my_output)\n",
    "(simple_test_feature_matrix, test_output) = get_numpy_data(test_data, simple_features, my_output)"
   ]
  },
  {
   "cell_type": "markdown",
   "metadata": {},
   "source": [
    "Let's set the parameters for our optimization:"
   ]
  },
  {
   "cell_type": "code",
   "execution_count": 64,
   "metadata": {
    "collapsed": true
   },
   "outputs": [],
   "source": [
    "initial_weights = np.array([0., 0.])\n",
    "step_size = 1e-12\n",
    "max_iterations=1000"
   ]
  },
  {
   "cell_type": "markdown",
   "metadata": {},
   "source": [
    "First, let's consider no regularization.  Set the `l2_penalty` to `0.0` and run your ridge regression algorithm to learn the weights of your model.  Call your weights:\n",
    "\n",
    "`simple_weights_0_penalty`\n",
    "\n",
    "we'll use them later."
   ]
  },
  {
   "cell_type": "code",
   "execution_count": 72,
   "metadata": {
    "collapsed": false
   },
   "outputs": [
    {
     "name": "stdout",
     "output_type": "stream",
     "text": [
      "Starting gradient descent with l2_penalty = 0.0\n",
      "Done with gradient descent at iteration  100\n",
      "Learned weights =  [  7.88199720e-02   2.63024271e+02]\n",
      "gradient =  263.024271044\n",
      "gradient with with l2_penalty =  0.0  is  0.0788199719508\n"
     ]
    }
   ],
   "source": [
    "l2_penalty=0.0\n",
    "#using our simple model with 1 feature ['sqft_living'] and output = 'price'\n",
    "#ridge_regression_gradient_descent(feature_matrix, output, initial_weights, step_size, l2_penalty, max_iterations=100, verbose = False)\n",
    "simple_weights_0_penalty = ridge_regression_gradient_descent(simple_feature_matrix,\n",
    "                                                             output, \n",
    "                                                             initial_weights, \n",
    "                                                             step_size, \n",
    "                                                             l2_penalty=l2_penalty,\n",
    "                                                             max_iterations=100, \n",
    "                                                             verbose = False)\n",
    "#NB: quiz question 1\n",
    "print \"gradient = \", simple_weights_0_penalty[1]\n",
    "print \"gradient with with l2_penalty = \", l2_penalty, \" is \", simple_weights_0_penalty[0]"
   ]
  },
  {
   "cell_type": "markdown",
   "metadata": {},
   "source": [
    "Next, let's consider high regularization.  Set the `l2_penalty` to `1e11` and run your ridge regression algorithm to learn the weights of your model.  Call your weights:\n",
    "\n",
    "`simple_weights_high_penalty`\n",
    "\n",
    "we'll use them later."
   ]
  },
  {
   "cell_type": "code",
   "execution_count": 84,
   "metadata": {
    "collapsed": false
   },
   "outputs": [
    {
     "name": "stdout",
     "output_type": "stream",
     "text": [
      "Starting gradient descent with l2_penalty = 1e+11\n",
      "Done with gradient descent at iteration  1000\n",
      "Learned weights =  [   9.76730383  124.57217565]\n",
      "gradient with with l2_penalty =  1e+11  is  9.76730383427\n",
      "gradient from l2_penalty=0.0 ( 0.0788199719508 )> l2_penalty=1e11 is ( 9.76730383427 ) =  False\n"
     ]
    }
   ],
   "source": [
    "l2_penalty=1e11\n",
    "simple_weights_high_penalty = ridge_regression_gradient_descent(simple_feature_matrix,\n",
    "                                                             output, \n",
    "                                                             initial_weights, \n",
    "                                                             step_size, \n",
    "                                                             l2_penalty=l2_penalty,\n",
    "                                                             max_iterations=max_iterations, \n",
    "                                                             verbose = False)\n",
    "#NB: quiz question 2 &3 can be answered by comparing results\n",
    "print \"gradient with with l2_penalty = \", l2_penalty, \" is \", simple_weights_high_penalty[0]\n",
    "print \"gradient from l2_penalty=0.0 (\", simple_weights_0_penalty[0], \")> l2_penalty=1e11 is (\", \\\n",
    "simple_weights_high_penalty[0], \") = \", simple_weights_0_penalty[0] > simple_weights_high_penalty[0]\n",
    "#quiz Q3 "
   ]
  },
  {
   "cell_type": "markdown",
   "metadata": {},
   "source": [
    "This code will plot the two learned models.  (The blue line is for the model with no regularization and the red line is for the one with high regularization.)"
   ]
  },
  {
   "cell_type": "code",
   "execution_count": 85,
   "metadata": {
    "collapsed": false
   },
   "outputs": [
    {
     "data": {
      "text/plain": [
       "[<matplotlib.lines.Line2D at 0x2094f668>,\n",
       " <matplotlib.lines.Line2D at 0x2094f748>,\n",
       " <matplotlib.lines.Line2D at 0x2094f8d0>,\n",
       " <matplotlib.lines.Line2D at 0x2095c2e8>,\n",
       " <matplotlib.lines.Line2D at 0x2095c400>,\n",
       " <matplotlib.lines.Line2D at 0x2095cdd8>]"
      ]
     },
     "execution_count": 85,
     "metadata": {},
     "output_type": "execute_result"
    },
    {
     "data": {
      "image/png": "[encoded data removed]",
      "text/plain": [
       "<matplotlib.figure.Figure at 0x1f49ccc0>"
      ]
     },
     "metadata": {},
     "output_type": "display_data"
    }
   ],
   "source": [
    "import matplotlib.pyplot as plt\n",
    "%matplotlib inline\n",
    "plt.plot(simple_feature_matrix,output,'k.',\n",
    "         simple_feature_matrix,predict_output(simple_feature_matrix, simple_weights_0_penalty),'b+',\n",
    "        simple_feature_matrix,predict_output(simple_feature_matrix, simple_weights_high_penalty),'r-')"
   ]
  },
  {
   "cell_type": "markdown",
   "metadata": {},
   "source": [
    "Compute the RSS on the TEST data for the following three sets of weights:\n",
    "1. The initial weights (all zeros)\n",
    "2. The weights learned with no regularization\n",
    "3. The weights learned with high regularization\n",
    "\n",
    "Which weights perform best?"
   ]
  },
  {
   "cell_type": "code",
   "execution_count": 26,
   "metadata": {
    "collapsed": false
   },
   "outputs": [
    {
     "name": "stdout",
     "output_type": "stream",
     "text": [
      "1.78427328252e+15\n"
     ]
    }
   ],
   "source": [
    "#The initial weights (all zeros)\n",
    "# recall : (simple_test_feature_matrix, test_output) = get_numpy_data(test_data, simple_features, my_output)\n",
    "# recall : simple_features = ['sqft_living'], my_output = 'price'\n",
    "# recall : initial_weights = np.array([0., 0.])\n",
    "simple_test_predictions = predict_output(simple_test_feature_matrix, initial_weights)\n",
    "#RSS = residual sum squares (of errors)\n",
    "simple_test_errors = simple_test_predictions - test_output\n",
    "RSS_initial_weights = sum(simple_test_errors * simple_test_errors)\n",
    "print RSS_initial_weights"
   ]
  },
  {
   "cell_type": "code",
   "execution_count": 27,
   "metadata": {
    "collapsed": false
   },
   "outputs": [
    {
     "name": "stdout",
     "output_type": "stream",
     "text": [
      "2.75723643935e+14\n"
     ]
    }
   ],
   "source": [
    "#recall : simple_weights_0_penalty calculated by ridge_regression_gradient_descent using l2_penalty=0.0\n",
    "simple_testNoReg_predictions = predict_output(simple_test_feature_matrix, simple_weights_0_penalty)\n",
    "simple_testNoReg_errors = simple_testNoReg_predictions - test_output\n",
    "RSS_NoReg = sum(simple_testNoReg_errors * simple_testNoReg_errors)\n",
    "print RSS_NoReg"
   ]
  },
  {
   "cell_type": "code",
   "execution_count": 28,
   "metadata": {
    "collapsed": false
   },
   "outputs": [
    {
     "name": "stdout",
     "output_type": "stream",
     "text": [
      "6.94653089852e+14\n"
     ]
    }
   ],
   "source": [
    "#recall : simple_weights_high_penalty calculated by ridge_regression_gradient_descent using 1e11\n",
    "simple_testReg_predictions = predict_output(simple_test_feature_matrix, simple_weights_high_penalty)\n",
    "simple_testReg_errors = simple_testReg_predictions - test_output\n",
    "RSS_Reg = sum(simple_testReg_errors * simple_testReg_errors)\n",
    "print RSS_Reg\n",
    "#  Quiz Q4 'Using the weights learned with high regularization (l2_penalty=1e11), make predictions for the TEST data.\n",
    "#  \" In which of the following ranges does the TEST error (RSS) fall?'"
   ]
  },
  {
   "cell_type": "markdown",
   "metadata": {
    "collapsed": false
   },
   "source": [
    "***QUIZ QUESTIONS***\n",
    "1. What is the value of the coefficient for `sqft_living` that you learned with no regularization, rounded to 1 decimal place?  What about the one with high regularization?\n",
    "2. Comparing the lines you fit with the with no regularization versus high regularization, which one is steeper?\n",
    "3. What are the RSS on the test data for each of the set of weights above (initial, no regularization, high regularization)? \n"
   ]
  },
  {
   "cell_type": "markdown",
   "metadata": {},
   "source": [
    "# Running a multiple regression with L2 penalty"
   ]
  },
  {
   "cell_type": "markdown",
   "metadata": {},
   "source": [
    "Let us now consider a model with 2 features: `['sqft_living', 'sqft_living15']`."
   ]
  },
  {
   "cell_type": "markdown",
   "metadata": {},
   "source": [
    "First, create Numpy versions of your training and test data with these two features. "
   ]
  },
  {
   "cell_type": "code",
   "execution_count": 41,
   "metadata": {
    "collapsed": false
   },
   "outputs": [
    {
     "name": "stdout",
     "output_type": "stream",
     "text": [
      "type(feature_matrix) =  <type 'numpy.ndarray'> , feature_matrix.shape =  (17384L, 3L)\n",
      "type(output) =  <type 'numpy.ndarray'> , output.shape =  (17384L,)\n",
      "type(test_feature_matrix) =  <type 'numpy.ndarray'> , test_feature_matrix.shape =  (4229L, 3L)\n",
      "type(test_output) =  <type 'numpy.ndarray'> , test_output.shape =  (4229L,)\n"
     ]
    }
   ],
   "source": [
    "model_features = ['sqft_living', 'sqft_living15'] # sqft_living15 is the average squarefeet for the nearest 15 neighbors. \n",
    "my_output = 'price'\n",
    "#new model created using the new model_features. my_output still 'price' but reassigned here for readability.\n",
    "(feature_matrix, output) = get_numpy_data(train_data, model_features, my_output)\n",
    "(test_feature_matrix, test_output) = get_numpy_data(test_data, model_features, my_output)\n",
    "# NB: notice the arrays now have three columns.\n",
    "print \"type(feature_matrix) = \", type(feature_matrix), \", feature_matrix.shape = \", feature_matrix.shape\n",
    "print \"type(output) = \", type(output), \", output.shape = \", output.shape\n",
    "print \"type(test_feature_matrix) = \", type(test_feature_matrix), \", test_feature_matrix.shape = \", test_feature_matrix.shape\n",
    "print \"type(test_output) = \", type(test_output), \", test_output.shape = \", test_output.shape"
   ]
  },
  {
   "cell_type": "markdown",
   "metadata": {},
   "source": [
    "We need to re-inialize the weights, since we have one extra parameter. Let us also set the step size and maximum number of iterations."
   ]
  },
  {
   "cell_type": "code",
   "execution_count": 40,
   "metadata": {
    "collapsed": true
   },
   "outputs": [],
   "source": [
    "initial_weights = np.array([0.0,0.0,0.0])\n",
    "step_size = 1e-12\n",
    "max_iterations = 1000"
   ]
  },
  {
   "cell_type": "markdown",
   "metadata": {},
   "source": [
    "First, let's consider no regularization.  Set the `l2_penalty` to `0.0` and run your ridge regression algorithm to learn the weights of your model.  Call your weights:\n",
    "\n",
    "`multiple_weights_0_penalty`"
   ]
  },
  {
   "cell_type": "code",
   "execution_count": 36,
   "metadata": {
    "collapsed": false
   },
   "outputs": [
    {
     "name": "stdout",
     "output_type": "stream",
     "text": [
      "Starting gradient descent with l2_penalty = 0.0\n",
      "Done with gradient descent at iteration  1000\n",
      "Learned weights =  [  -0.35743482  243.0541689    22.41481594]\n",
      "[  -0.35743482  243.0541689    22.41481594]\n",
      "coefficient for 'sqft_living' =  243.0541689\n"
     ]
    }
   ],
   "source": [
    "l2_penalty = 0.0\n",
    "#NB: initial_weights now has three elements, also: feature_matrix now has 3 columns\n",
    "#NBB: max_iterations now 1000, larger number required due to larger polynomial, what size is optimum?\n",
    "multiple_weights_0_penalty = ridge_regression_gradient_descent(feature_matrix, \n",
    "                                                               output, \n",
    "                                                               initial_weights, \n",
    "                                                               step_size, \n",
    "                                                               l2_penalty, \n",
    "                                                               max_iterations)\n",
    "print multiple_weights_0_penalty\n",
    "print \"coefficient for 'sqft_living' = \", multiple_weights_0_penalty[1]\n",
    "#Quiz Q5 We run ridge regression to learn the weights of a model that has two features (sqft_living, sqft_living15), \n",
    "#  once with l2_penalty=0.0 and once with l2_penalty=1e11."
   ]
  },
  {
   "cell_type": "markdown",
   "metadata": {},
   "source": [
    "Next, let's consider high regularization.  Set the `l2_penalty` to `1e11` and run your ridge regression algorithm to learn the weights of your model.  Call your weights:\n",
    "\n",
    "`multiple_weights_high_penalty`"
   ]
  },
  {
   "cell_type": "code",
   "execution_count": 42,
   "metadata": {
    "collapsed": false
   },
   "outputs": [
    {
     "name": "stdout",
     "output_type": "stream",
     "text": [
      "Starting gradient descent with l2_penalty = 1e+11\n",
      "Done with gradient descent at iteration  1000\n",
      "Learned weights =  [  6.7429658   91.48927361  78.43658768]\n",
      "[  6.7429658   91.48927361  78.43658768]\n",
      "coefficient for 'sqft_living' when l2_penalty=  1e+11  is  91.4892736111\n"
     ]
    }
   ],
   "source": [
    "l2_penalty = 1e11\n",
    "#NB: initial_weights now has three elements, also: feature_matrix now has 3 columns\n",
    "#NBB: max_iterations now 1000, larger number required due to larger polynomial, what size is optimum?\n",
    "multiple_weights_high_penalty = ridge_regression_gradient_descent(feature_matrix, \n",
    "                                                               output, \n",
    "                                                               initial_weights, \n",
    "                                                               step_size, \n",
    "                                                               l2_penalty, \n",
    "                                                               max_iterations)\n",
    "print multiple_weights_high_penalty\n",
    "print \"coefficient for 'sqft_living' when l2_penalty= \", l2_penalty, \" is \", multiple_weights_high_penalty[1]\n",
    "#Quiz Q6 What is the value of the coefficient for sqft_living that you learned with high regularization (l2_penalty=1e11)? "
   ]
  },
  {
   "cell_type": "markdown",
   "metadata": {},
   "source": [
    "Compute the RSS on the TEST data for the following three sets of weights:\n",
    "1. The initial weights (all zeros)\n",
    "2. The weights learned with no regularization\n",
    "3. The weights learned with high regularization\n",
    "\n",
    "Which weights perform best?"
   ]
  },
  {
   "cell_type": "code",
   "execution_count": 50,
   "metadata": {
    "collapsed": false
   },
   "outputs": [
    {
     "name": "stdout",
     "output_type": "stream",
     "text": [
      "RSS for initial weights (all zeros) & model_features = ['sqft_living', 'sqft_living15'] & test data =  1.78427328252e+15\n"
     ]
    }
   ],
   "source": [
    "#initial_weights = np.array([0.0,0.0,0.0])\n",
    "#NB: test_feature_matrix is from (test_feature_matrix, test_output) = get_numpy_data(test_data, model_features, my_output)\n",
    "multiple_test_predictions = predict_output(test_feature_matrix, initial_weights)\n",
    "multiple_test_errors = multiple_test_predictions - test_output\n",
    "RSS_multi_initial_weights = sum(multiple_test_errors * multiple_test_errors)\n",
    "print \"RSS for initial weights (all zeros) & model_features = ['sqft_living', 'sqft_living15'] & test data = \", RSS_multi_initial_weights\n",
    "#quiz Q7 Using all zero weights, make predictions for the TEST data. \n",
    "# In which of the following ranges does the TEST error (RSS) fall?"
   ]
  },
  {
   "cell_type": "code",
   "execution_count": 58,
   "metadata": {
    "collapsed": false
   },
   "outputs": [
    {
     "name": "stdout",
     "output_type": "stream",
     "text": [
      "RSS for weights calc'd by ridge_regression_gradient_descent with l2_penalty = 0.0 \n",
      " & model_features = ['sqft_living', 'sqft_living15'] & test data =  2.74067618287e+14\n"
     ]
    }
   ],
   "source": [
    "#The weights learned with no regularization\n",
    "#multiple_weights_0_penalty is from ridge_regression_gradient_descent & l2_penalty = 0.0\n",
    "multiple_testNoReg_predictions = predict_output(test_feature_matrix, multiple_weights_0_penalty)\n",
    "multiple_testNoReg_errors = multiple_testNoReg_predictions - test_output\n",
    "RSS_multi_NoReg = sum(multiple_testNoReg_errors * multiple_testNoReg_errors)\n",
    "print \"RSS for weights calc'd by ridge_regression_gradient_descent with l2_penalty = 0.0 \"\n",
    "print \" & model_features = ['sqft_living', 'sqft_living15'] & test data = \", RSS_multi_NoReg"
   ]
  },
  {
   "cell_type": "code",
   "execution_count": 59,
   "metadata": {
    "collapsed": false
   },
   "outputs": [
    {
     "name": "stdout",
     "output_type": "stream",
     "text": [
      "RSS for weights calc'd by ridge_regression_gradient_descent with l2_penalty = 1e11 \n",
      " & model_features = ['sqft_living', 'sqft_living15'] & test data =  5.0040480058e+14\n"
     ]
    }
   ],
   "source": [
    "# The weights learned with high regularization\n",
    "# multiple_weights_high_penalty is from ridge_regression_gradient_descent & l2_penalty = 1e11\n",
    "multiple_testHighReg_predictions = predict_output(test_feature_matrix, multiple_weights_high_penalty)\n",
    "multiple_testHighReg_errors = multiple_testHighReg_predictions - test_output\n",
    "RSS_multi_HighReg = sum(multiple_testHighReg_errors * multiple_testHighReg_errors)\n",
    "print \"RSS for weights calc'd by ridge_regression_gradient_descent with l2_penalty = 1e11 \"\n",
    "print \" & model_features = ['sqft_living', 'sqft_living15'] & test data = \",RSS_multi_HighReg"
   ]
  },
  {
   "cell_type": "markdown",
   "metadata": {},
   "source": [
    "Predict the house price for the 1st house in the test set using the no regularization and high regularization models. (Remember that python starts indexing from 0.) How far is the prediction from the actual price?  Which weights perform best for the 1st house?"
   ]
  },
  {
   "cell_type": "code",
   "execution_count": 83,
   "metadata": {
    "collapsed": false
   },
   "outputs": [
    {
     "name": "stdout",
     "output_type": "stream",
     "text": [
      "prediction from l2_penalty = 1e11   270453.530305\n",
      "prediction from l2_penalty = 0.0 =  387465.476465\n",
      "actual house price =  310000.0\n",
      "absolute error from l2_penalty = 1e11 =  39546.4696951\n",
      "absolute error from l2_penalty = 0.0 =  77465.4764647\n",
      "absolute error from l2_penalty = 1e11 less than absolute error from l2_penalty = 0.0 =  True\n"
     ]
    }
   ],
   "source": [
    "print \"prediction from l2_penalty = 1e11  \" , multiple_testHighReg_predictions[0]\n",
    "print \"prediction from l2_penalty = 0.0 = \", multiple_testNoReg_predictions[0]\n",
    "print \"actual house price = \", test_output[0]\n",
    "print \"absolute error from l2_penalty = 1e11 = \", abs(multiple_testHighReg_predictions[0] - test_output[0])\n",
    "print \"absolute error from l2_penalty = 0.0 = \", abs(multiple_testNoReg_predictions[0]   - test_output[0])\n",
    "print \"absolute error from l2_penalty = 1e11 less than absolute error from l2_penalty = 0.0 = \", \\\n",
    "abs(multiple_testHighReg_predictions[0] - test_output[0]) < abs(multiple_testNoReg_predictions[0]   - test_output[0])\n",
    "#refer quiz Q8"
   ]
  },
  {
   "cell_type": "markdown",
   "metadata": {
    "collapsed": true
   },
   "source": [
    "***QUIZ QUESTIONS***\n",
    "1. What is the value of the coefficient for `sqft_living` that you learned with no regularization, rounded to 1 decimal place?  What about the one with high regularization?\n",
    "2. What are the RSS on the test data for each of the set of weights above (initial, no regularization, high regularization)? \n",
    "3. We make prediction for the first house in the test set using two sets of weights (no regularization vs high regularization). Which weights make better prediction <u>for that particular house</u>?"
   ]
  },
  {
   "cell_type": "code",
   "execution_count": null,
   "metadata": {
    "collapsed": true
   },
   "outputs": [],
   "source": []
  }
 ],
 "metadata": {
  "kernelspec": {
   "display_name": "Python 2",
   "language": "python",
   "name": "python2"
  },
  "language_info": {
   "codemirror_mode": {
    "name": "ipython",
    "version": 2
   },
   "file_extension": ".py",
   "mimetype": "text/x-python",
   "name": "python",
   "nbconvert_exporter": "python",
   "pygments_lexer": "ipython2",
   "version": "2.7.11"
  }
 },
 "nbformat": 4,
 "nbformat_minor": 0
}
